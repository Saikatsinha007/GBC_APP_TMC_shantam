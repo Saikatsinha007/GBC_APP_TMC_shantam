{
 "cells": [
  {
   "cell_type": "code",
   "execution_count": 1,
   "id": "442d0bb5",
   "metadata": {},
   "outputs": [],
   "source": [
    "# Import the required libraries & modules\n",
    "import pandas as pd\n",
    "import numpy as np\n",
    "import matplotlib.pyplot as plt \n",
    "import seaborn as sns\n",
    "%matplotlib inline"
   ]
  },
  {
   "cell_type": "code",
   "execution_count": 2,
   "id": "150f3668",
   "metadata": {},
   "outputs": [],
   "source": [
    "gbc_patients = pd.read_excel(\"GBC.xlsx\")"
   ]
  },
  {
   "cell_type": "code",
   "execution_count": 3,
   "id": "a189b9f1",
   "metadata": {},
   "outputs": [
    {
     "data": {
      "text/html": [
       "<div>\n",
       "<style scoped>\n",
       "    .dataframe tbody tr th:only-of-type {\n",
       "        vertical-align: middle;\n",
       "    }\n",
       "\n",
       "    .dataframe tbody tr th {\n",
       "        vertical-align: top;\n",
       "    }\n",
       "\n",
       "    .dataframe thead th {\n",
       "        text-align: right;\n",
       "    }\n",
       "</style>\n",
       "<table border=\"1\" class=\"dataframe\">\n",
       "  <thead>\n",
       "    <tr style=\"text-align: right;\">\n",
       "      <th></th>\n",
       "      <th>MR_NO</th>\n",
       "      <th>Comorbidities_final</th>\n",
       "      <th>Thyroidism</th>\n",
       "      <th>Diabetes</th>\n",
       "      <th>HTN</th>\n",
       "      <th>Family_cancer_history</th>\n",
       "      <th>ECOG_final</th>\n",
       "      <th>Gall_stone_final</th>\n",
       "      <th>Pathology</th>\n",
       "      <th>Tumour_grade_final</th>\n",
       "      <th>...</th>\n",
       "      <th>ALT - SGPT</th>\n",
       "      <th>ALK PHOS [ALP]</th>\n",
       "      <th>GAMMA GT</th>\n",
       "      <th>ALBUMIN</th>\n",
       "      <th>CREATININE_from_UnC_test</th>\n",
       "      <th>UREA_from_UnC_test</th>\n",
       "      <th>ESTIMATED AVERAGE GLUCOSE (eAG)</th>\n",
       "      <th>HbA1c</th>\n",
       "      <th>CREATININE_from_CREATININE_test</th>\n",
       "      <th>Diabetes_final</th>\n",
       "    </tr>\n",
       "  </thead>\n",
       "  <tbody>\n",
       "    <tr>\n",
       "      <th>0</th>\n",
       "      <td>MR/17/000051</td>\n",
       "      <td>NaN</td>\n",
       "      <td>No</td>\n",
       "      <td>No</td>\n",
       "      <td>Yes</td>\n",
       "      <td>No</td>\n",
       "      <td>1</td>\n",
       "      <td>Yes</td>\n",
       "      <td>Adenocarcinoma</td>\n",
       "      <td>Grade 3</td>\n",
       "      <td>...</td>\n",
       "      <td>28.0</td>\n",
       "      <td>147.0</td>\n",
       "      <td>21.0</td>\n",
       "      <td>4.7</td>\n",
       "      <td>NaN</td>\n",
       "      <td>NaN</td>\n",
       "      <td>137.0</td>\n",
       "      <td>6.4</td>\n",
       "      <td>0.64</td>\n",
       "      <td>Yes</td>\n",
       "    </tr>\n",
       "    <tr>\n",
       "      <th>1</th>\n",
       "      <td>MR/17/000165</td>\n",
       "      <td>NaN</td>\n",
       "      <td>No</td>\n",
       "      <td>No</td>\n",
       "      <td>No</td>\n",
       "      <td>No</td>\n",
       "      <td>Not known</td>\n",
       "      <td>No</td>\n",
       "      <td>Adenocarcinoma</td>\n",
       "      <td>Grade X</td>\n",
       "      <td>...</td>\n",
       "      <td>27.0</td>\n",
       "      <td>83.0</td>\n",
       "      <td>76.0</td>\n",
       "      <td>3.4</td>\n",
       "      <td>NaN</td>\n",
       "      <td>NaN</td>\n",
       "      <td>NaN</td>\n",
       "      <td>NaN</td>\n",
       "      <td>NaN</td>\n",
       "      <td>No</td>\n",
       "    </tr>\n",
       "    <tr>\n",
       "      <th>2</th>\n",
       "      <td>MR/17/000504</td>\n",
       "      <td>NaN</td>\n",
       "      <td>Hypothyroidism</td>\n",
       "      <td>Yes</td>\n",
       "      <td>Yes</td>\n",
       "      <td>Not known</td>\n",
       "      <td>Not known</td>\n",
       "      <td>Not known</td>\n",
       "      <td>Adenocarcinoma</td>\n",
       "      <td>Grade 3</td>\n",
       "      <td>...</td>\n",
       "      <td>NaN</td>\n",
       "      <td>NaN</td>\n",
       "      <td>NaN</td>\n",
       "      <td>NaN</td>\n",
       "      <td>NaN</td>\n",
       "      <td>NaN</td>\n",
       "      <td>NaN</td>\n",
       "      <td>NaN</td>\n",
       "      <td>NaN</td>\n",
       "      <td>Yes</td>\n",
       "    </tr>\n",
       "    <tr>\n",
       "      <th>3</th>\n",
       "      <td>MR/17/000600</td>\n",
       "      <td>NaN</td>\n",
       "      <td>No</td>\n",
       "      <td>No</td>\n",
       "      <td>Yes</td>\n",
       "      <td>No</td>\n",
       "      <td>1</td>\n",
       "      <td>No</td>\n",
       "      <td>Adenocarcinoma</td>\n",
       "      <td>Grade X</td>\n",
       "      <td>...</td>\n",
       "      <td>98.0</td>\n",
       "      <td>481.0</td>\n",
       "      <td>83.0</td>\n",
       "      <td>4.1</td>\n",
       "      <td>NaN</td>\n",
       "      <td>NaN</td>\n",
       "      <td>117.0</td>\n",
       "      <td>5.7</td>\n",
       "      <td>1.08</td>\n",
       "      <td>Yes</td>\n",
       "    </tr>\n",
       "    <tr>\n",
       "      <th>4</th>\n",
       "      <td>MR/17/000665</td>\n",
       "      <td>NaN</td>\n",
       "      <td>No</td>\n",
       "      <td>No</td>\n",
       "      <td>No</td>\n",
       "      <td>No</td>\n",
       "      <td>1</td>\n",
       "      <td>Not known</td>\n",
       "      <td>Adenocarcinoma</td>\n",
       "      <td>Grade X</td>\n",
       "      <td>...</td>\n",
       "      <td>78.0</td>\n",
       "      <td>206.0</td>\n",
       "      <td>481.0</td>\n",
       "      <td>3.2</td>\n",
       "      <td>NaN</td>\n",
       "      <td>NaN</td>\n",
       "      <td>NaN</td>\n",
       "      <td>NaN</td>\n",
       "      <td>0.60</td>\n",
       "      <td>No</td>\n",
       "    </tr>\n",
       "  </tbody>\n",
       "</table>\n",
       "<p>5 rows × 50 columns</p>\n",
       "</div>"
      ],
      "text/plain": [
       "          MR_NO Comorbidities_final      Thyroidism Diabetes  HTN  \\\n",
       "0  MR/17/000051                 NaN              No       No  Yes   \n",
       "1  MR/17/000165                 NaN              No       No   No   \n",
       "2  MR/17/000504                 NaN  Hypothyroidism      Yes  Yes   \n",
       "3  MR/17/000600                 NaN              No       No  Yes   \n",
       "4  MR/17/000665                 NaN              No       No   No   \n",
       "\n",
       "  Family_cancer_history ECOG_final Gall_stone_final       Pathology  \\\n",
       "0                    No          1              Yes  Adenocarcinoma   \n",
       "1                    No  Not known               No  Adenocarcinoma   \n",
       "2             Not known  Not known        Not known  Adenocarcinoma   \n",
       "3                    No          1               No  Adenocarcinoma   \n",
       "4                    No          1        Not known  Adenocarcinoma   \n",
       "\n",
       "  Tumour_grade_final  ... ALT - SGPT ALK PHOS [ALP] GAMMA GT ALBUMIN  \\\n",
       "0            Grade 3  ...       28.0          147.0     21.0     4.7   \n",
       "1            Grade X  ...       27.0           83.0     76.0     3.4   \n",
       "2            Grade 3  ...        NaN            NaN      NaN     NaN   \n",
       "3            Grade X  ...       98.0          481.0     83.0     4.1   \n",
       "4            Grade X  ...       78.0          206.0    481.0     3.2   \n",
       "\n",
       "  CREATININE_from_UnC_test UREA_from_UnC_test ESTIMATED AVERAGE GLUCOSE (eAG)  \\\n",
       "0                      NaN                NaN                           137.0   \n",
       "1                      NaN                NaN                             NaN   \n",
       "2                      NaN                NaN                             NaN   \n",
       "3                      NaN                NaN                           117.0   \n",
       "4                      NaN                NaN                             NaN   \n",
       "\n",
       "  HbA1c CREATININE_from_CREATININE_test Diabetes_final  \n",
       "0   6.4                            0.64            Yes  \n",
       "1   NaN                             NaN             No  \n",
       "2   NaN                             NaN            Yes  \n",
       "3   5.7                            1.08            Yes  \n",
       "4   NaN                            0.60             No  \n",
       "\n",
       "[5 rows x 50 columns]"
      ]
     },
     "execution_count": 3,
     "metadata": {},
     "output_type": "execute_result"
    }
   ],
   "source": [
    "gbc_patients.head()"
   ]
  },
  {
   "cell_type": "code",
   "execution_count": 4,
   "id": "261578d2",
   "metadata": {},
   "outputs": [
    {
     "name": "stdout",
     "output_type": "stream",
     "text": [
      "<class 'pandas.core.frame.DataFrame'>\n",
      "RangeIndex: 698 entries, 0 to 697\n",
      "Data columns (total 50 columns):\n",
      " #   Column                           Non-Null Count  Dtype         \n",
      "---  ------                           --------------  -----         \n",
      " 0   MR_NO                            698 non-null    object        \n",
      " 1   Comorbidities_final              566 non-null    object        \n",
      " 2   Thyroidism                       657 non-null    object        \n",
      " 3   Diabetes                         659 non-null    object        \n",
      " 4   HTN                              659 non-null    object        \n",
      " 5   Family_cancer_history            657 non-null    object        \n",
      " 6   ECOG_final                       660 non-null    object        \n",
      " 7   Gall_stone_final                 657 non-null    object        \n",
      " 8   Pathology                        698 non-null    object        \n",
      " 9   Tumour_grade_final               646 non-null    object        \n",
      " 10  Cancer_presentation_final        642 non-null    object        \n",
      " 11  Tumour_stage_final               620 non-null    object        \n",
      " 12  TNM_classification               618 non-null    object        \n",
      " 13  Metastasis_final                 632 non-null    object        \n",
      " 14  Site_metastasis                  533 non-null    object        \n",
      " 15  Mets_site_final                  630 non-null    object        \n",
      " 16  Cholecystectomy_TMC              489 non-null    object        \n",
      " 17  Outside_cholecystectomy          657 non-null    object        \n",
      " 18  Surgery_final                    660 non-null    object        \n",
      " 19  Treatment_final                  642 non-null    object        \n",
      " 20  Treatment_clean                  630 non-null    object        \n",
      " 21  Treatment                        630 non-null    object        \n",
      " 22  Status                           584 non-null    object        \n",
      " 23  Date_event                       434 non-null    datetime64[ns]\n",
      " 24  Date_diagnosis                   653 non-null    datetime64[ns]\n",
      " 25  AGE                              698 non-null    int64         \n",
      " 26  GENDER                           698 non-null    object        \n",
      " 27  COUNTRY                          698 non-null    object        \n",
      " 28  STATE_NAME                       698 non-null    object        \n",
      " 29  CITY_NAME                        698 non-null    object        \n",
      " 30  PINCODE                          615 non-null    float64       \n",
      " 31  First_Visit_Date                 566 non-null    datetime64[ns]\n",
      " 32  HEIGHT                           566 non-null    float64       \n",
      " 33  WEIGHT                           566 non-null    float64       \n",
      " 34  BSA_DETAILS                      566 non-null    float64       \n",
      " 35  BMI_DETAILS                      566 non-null    float64       \n",
      " 36  BILIRUBIN CONJUGATED             425 non-null    float64       \n",
      " 37  BILIRUBIN UNCONJUGATED           425 non-null    float64       \n",
      " 38  BILIRUBIN TOTAL                  425 non-null    float64       \n",
      " 39  AST - SGOT                       425 non-null    float64       \n",
      " 40  ALT - SGPT                       424 non-null    float64       \n",
      " 41  ALK PHOS [ALP]                   425 non-null    float64       \n",
      " 42  GAMMA GT                         423 non-null    float64       \n",
      " 43  ALBUMIN                          424 non-null    float64       \n",
      " 44  CREATININE_from_UnC_test         21 non-null     float64       \n",
      " 45  UREA_from_UnC_test               21 non-null     float64       \n",
      " 46  ESTIMATED AVERAGE GLUCOSE (eAG)  80 non-null     float64       \n",
      " 47  HbA1c                            80 non-null     float64       \n",
      " 48  CREATININE_from_CREATININE_test  180 non-null    float64       \n",
      " 49  Diabetes_final                   659 non-null    object        \n",
      "dtypes: datetime64[ns](3), float64(18), int64(1), object(28)\n",
      "memory usage: 272.8+ KB\n"
     ]
    }
   ],
   "source": [
    "gbc_patients.info()"
   ]
  },
  {
   "cell_type": "code",
   "execution_count": 5,
   "id": "62061bb1",
   "metadata": {},
   "outputs": [
    {
     "name": "stdout",
     "output_type": "stream",
     "text": [
      "Total NULL Values in each columns\n",
      "**************************************\n",
      "MR_NO                                0\n",
      "Comorbidities_final                132\n",
      "Thyroidism                          41\n",
      "Diabetes                            39\n",
      "HTN                                 39\n",
      "Family_cancer_history               41\n",
      "ECOG_final                          38\n",
      "Gall_stone_final                    41\n",
      "Pathology                            0\n",
      "Tumour_grade_final                  52\n",
      "Cancer_presentation_final           56\n",
      "Tumour_stage_final                  78\n",
      "TNM_classification                  80\n",
      "Metastasis_final                    66\n",
      "Site_metastasis                    165\n",
      "Mets_site_final                     68\n",
      "Cholecystectomy_TMC                209\n",
      "Outside_cholecystectomy             41\n",
      "Surgery_final                       38\n",
      "Treatment_final                     56\n",
      "Treatment_clean                     68\n",
      "Treatment                           68\n",
      "Status                             114\n",
      "Date_event                         264\n",
      "Date_diagnosis                      45\n",
      "AGE                                  0\n",
      "GENDER                               0\n",
      "COUNTRY                              0\n",
      "STATE_NAME                           0\n",
      "CITY_NAME                            0\n",
      "PINCODE                             83\n",
      "First_Visit_Date                   132\n",
      "HEIGHT                             132\n",
      "WEIGHT                             132\n",
      "BSA_DETAILS                        132\n",
      "BMI_DETAILS                        132\n",
      "BILIRUBIN CONJUGATED               273\n",
      "BILIRUBIN UNCONJUGATED             273\n",
      "BILIRUBIN TOTAL                    273\n",
      "AST - SGOT                         273\n",
      "ALT - SGPT                         274\n",
      "ALK PHOS [ALP]                     273\n",
      "GAMMA GT                           275\n",
      "ALBUMIN                            274\n",
      "CREATININE_from_UnC_test           677\n",
      "UREA_from_UnC_test                 677\n",
      "ESTIMATED AVERAGE GLUCOSE (eAG)    618\n",
      "HbA1c                              618\n",
      "CREATININE_from_CREATININE_test    518\n",
      "Diabetes_final                      39\n",
      "dtype: int64\n"
     ]
    }
   ],
   "source": [
    "# Check the total missing values in each column.\n",
    "print(\"Total NULL Values in each columns\")\n",
    "print(\"**************************************\")\n",
    "print(gbc_patients.isnull().sum())"
   ]
  },
  {
   "cell_type": "markdown",
   "id": "e583e13a",
   "metadata": {},
   "source": [
    "**No. of patients with defined \"Status\"**"
   ]
  },
  {
   "cell_type": "code",
   "execution_count": 6,
   "id": "73086458",
   "metadata": {},
   "outputs": [
    {
     "data": {
      "text/plain": [
       "Dead         460\n",
       "Not Known     63\n",
       "Alive         34\n",
       "Live          26\n",
       "No             1\n",
       "Name: Status, dtype: int64"
      ]
     },
     "execution_count": 6,
     "metadata": {},
     "output_type": "execute_result"
    }
   ],
   "source": [
    "gbc_patients[\"Status\"].value_counts()"
   ]
  },
  {
   "cell_type": "code",
   "execution_count": 7,
   "id": "9f0ae020",
   "metadata": {},
   "outputs": [
    {
     "data": {
      "text/plain": [
       "584"
      ]
     },
     "execution_count": 7,
     "metadata": {},
     "output_type": "execute_result"
    }
   ],
   "source": [
    "#count gives the no. of observations excluding the missing data\n",
    "gbc_patients[\"Status\"].count()\n"
   ]
  },
  {
   "cell_type": "markdown",
   "id": "68970ea8",
   "metadata": {},
   "source": [
    "**Total no. of patients with defined \"Status\" = 584\"**"
   ]
  },
  {
   "cell_type": "markdown",
   "id": "f85310ba",
   "metadata": {},
   "source": [
    "**No. of patients with defined \"Date_event\"?**"
   ]
  },
  {
   "cell_type": "code",
   "execution_count": 8,
   "id": "98908df6",
   "metadata": {},
   "outputs": [
    {
     "data": {
      "text/plain": [
       "434"
      ]
     },
     "execution_count": 8,
     "metadata": {},
     "output_type": "execute_result"
    }
   ],
   "source": [
    "gbc_patients[\"Date_event\"].count()"
   ]
  },
  {
   "cell_type": "markdown",
   "id": "784fbd89",
   "metadata": {},
   "source": [
    "**Total no. of patients with defined \"Date_event\" = 434**"
   ]
  },
  {
   "cell_type": "code",
   "execution_count": 9,
   "id": "e891e45a",
   "metadata": {},
   "outputs": [
    {
     "data": {
      "text/plain": [
       "653"
      ]
     },
     "execution_count": 9,
     "metadata": {},
     "output_type": "execute_result"
    }
   ],
   "source": [
    "gbc_patients[\"Date_diagnosis\"].count()"
   ]
  },
  {
   "cell_type": "markdown",
   "id": "f058aaee",
   "metadata": {},
   "source": [
    "**Total no. of patients with defined \"Date_diagnosis\" = 653**\n",
    "\n",
    "**Only 1 patient is having \"Status\" = 0 i.e. alive**"
   ]
  },
  {
   "cell_type": "markdown",
   "id": "5e4522c5",
   "metadata": {},
   "source": [
    "### Filtering the data on the basis of defined \"Status\", \"Data_event\" and Date_diagnosis."
   ]
  },
  {
   "cell_type": "code",
   "execution_count": 10,
   "id": "7dd3017d",
   "metadata": {},
   "outputs": [
    {
     "data": {
      "text/plain": [
       "426"
      ]
     },
     "execution_count": 10,
     "metadata": {},
     "output_type": "execute_result"
    }
   ],
   "source": [
    "filtered_data = gbc_patients.dropna(subset=[ 'Status','Date_event', 'Date_diagnosis'])\n",
    "filtered_data.shape\n",
    "filtered_data[\"Status\"].count()"
   ]
  },
  {
   "cell_type": "markdown",
   "id": "ade4182d",
   "metadata": {},
   "source": [
    "**Total no. of patients taken into analysis will be = 426 patients with defined \"Status\", \"Date_event\", \"Date_diagnosis\".**"
   ]
  },
  {
   "cell_type": "markdown",
   "id": "90ebb793",
   "metadata": {},
   "source": [
    "***checking the \"Status\" of available data***"
   ]
  },
  {
   "cell_type": "code",
   "execution_count": 11,
   "id": "c7b135b4",
   "metadata": {},
   "outputs": [
    {
     "data": {
      "text/plain": [
       "Dead    425\n",
       "No        1\n",
       "Name: Status, dtype: int64"
      ]
     },
     "execution_count": 11,
     "metadata": {},
     "output_type": "execute_result"
    }
   ],
   "source": [
    "filtered_data[\"Status\"].value_counts()"
   ]
  },
  {
   "cell_type": "markdown",
   "id": "dfbefb2e",
   "metadata": {},
   "source": [
    "**Total no. of Patients with \"Status\" = Dead are 425 and \"Status\" = No is 1.**"
   ]
  },
  {
   "cell_type": "markdown",
   "id": "2c125ef5",
   "metadata": {},
   "source": [
    "#### Checking the \"Date_event\" and \"Date_diagnosis\" in order to check the range of \"Datetime\" feature for our data"
   ]
  },
  {
   "cell_type": "code",
   "execution_count": 12,
   "id": "82295037",
   "metadata": {},
   "outputs": [
    {
     "name": "stdout",
     "output_type": "stream",
     "text": [
      "count                     426\n",
      "unique                    323\n",
      "top       2019-06-15 00:00:00\n",
      "freq                        7\n",
      "first     2017-01-02 00:00:00\n",
      "last      2021-09-07 00:00:00\n",
      "Name: Date_event, dtype: object\n",
      "*********************************\n",
      "count                     426\n",
      "unique                    329\n",
      "top       2018-05-15 00:00:00\n",
      "freq                        5\n",
      "first     2008-08-15 00:00:00\n",
      "last      2020-02-05 00:00:00\n",
      "Name: Date_diagnosis, dtype: object\n"
     ]
    },
    {
     "name": "stderr",
     "output_type": "stream",
     "text": [
      "C:\\Users\\sriva\\AppData\\Local\\Temp\\ipykernel_5700\\1738299165.py:1: FutureWarning: Treating datetime data as categorical rather than numeric in `.describe` is deprecated and will be removed in a future version of pandas. Specify `datetime_is_numeric=True` to silence this warning and adopt the future behavior now.\n",
      "  print(filtered_data['Date_event'].describe())\n",
      "C:\\Users\\sriva\\AppData\\Local\\Temp\\ipykernel_5700\\1738299165.py:3: FutureWarning: Treating datetime data as categorical rather than numeric in `.describe` is deprecated and will be removed in a future version of pandas. Specify `datetime_is_numeric=True` to silence this warning and adopt the future behavior now.\n",
      "  print(filtered_data['Date_diagnosis'].describe())\n"
     ]
    }
   ],
   "source": [
    "print(filtered_data['Date_event'].describe())\n",
    "print('*********************************')\n",
    "print(filtered_data['Date_diagnosis'].describe())"
   ]
  },
  {
   "cell_type": "markdown",
   "id": "0c9c30ac",
   "metadata": {},
   "source": [
    "**The oldest date in \"Date_event\" feature = 2017-01-02 i.e. 2nd January 2017.**\n",
    "\n",
    "**The latest date in \"Date_event\" feature = 2021-09-07 i.e. 7th September 2021.**\n",
    "\n",
    "**The oldest date in \"Date_diagnosis\" feature = 2008-08-15 i.e. 15th August 2008.**\n",
    "\n",
    "**The latest date in \"Date_diagnosis\" feature = 2020-02-05 i.e. 5th February 2020.**"
   ]
  },
  {
   "cell_type": "markdown",
   "id": "04b99786",
   "metadata": {},
   "source": [
    "**Missing values analysis in our Filtered Data**"
   ]
  },
  {
   "cell_type": "code",
   "execution_count": 13,
   "id": "4f76caa2",
   "metadata": {},
   "outputs": [
    {
     "name": "stdout",
     "output_type": "stream",
     "text": [
      "Total NULL Values in each columns\n",
      "**************************************\n",
      "MR_NO                                0\n",
      "Comorbidities_final                 74\n",
      "Thyroidism                          19\n",
      "Diabetes                            17\n",
      "HTN                                 17\n",
      "Family_cancer_history               19\n",
      "ECOG_final                          16\n",
      "Gall_stone_final                    18\n",
      "Pathology                            0\n",
      "Tumour_grade_final                  22\n",
      "Cancer_presentation_final           25\n",
      "Tumour_stage_final                  41\n",
      "TNM_classification                  43\n",
      "Metastasis_final                    27\n",
      "Site_metastasis                     80\n",
      "Mets_site_final                     28\n",
      "Cholecystectomy_TMC                129\n",
      "Outside_cholecystectomy             19\n",
      "Surgery_final                       16\n",
      "Treatment_final                     31\n",
      "Treatment_clean                     34\n",
      "Treatment                           34\n",
      "Status                               0\n",
      "Date_event                           0\n",
      "Date_diagnosis                       0\n",
      "AGE                                  0\n",
      "GENDER                               0\n",
      "COUNTRY                              0\n",
      "STATE_NAME                           0\n",
      "CITY_NAME                            0\n",
      "PINCODE                              8\n",
      "First_Visit_Date                    76\n",
      "HEIGHT                              76\n",
      "WEIGHT                              76\n",
      "BSA_DETAILS                         76\n",
      "BMI_DETAILS                         76\n",
      "BILIRUBIN CONJUGATED               153\n",
      "BILIRUBIN UNCONJUGATED             153\n",
      "BILIRUBIN TOTAL                    153\n",
      "AST - SGOT                         153\n",
      "ALT - SGPT                         154\n",
      "ALK PHOS [ALP]                     153\n",
      "GAMMA GT                           154\n",
      "ALBUMIN                            153\n",
      "CREATININE_from_UnC_test           413\n",
      "UREA_from_UnC_test                 413\n",
      "ESTIMATED AVERAGE GLUCOSE (eAG)    379\n",
      "HbA1c                              379\n",
      "CREATININE_from_CREATININE_test    308\n",
      "Diabetes_final                      17\n",
      "dtype: int64\n"
     ]
    }
   ],
   "source": [
    "# Check the total missing values in each column.\n",
    "print(\"Total NULL Values in each columns\")\n",
    "print(\"**************************************\")\n",
    "print(filtered_data.isnull().sum())"
   ]
  },
  {
   "cell_type": "markdown",
   "id": "b85a6980",
   "metadata": {},
   "source": [
    "**A lot of variables have significant no. of missing data**"
   ]
  },
  {
   "cell_type": "markdown",
   "id": "6a9b02c5",
   "metadata": {},
   "source": [
    "### Checking the no. of different categories in every categorical variables and their respective counts"
   ]
  },
  {
   "cell_type": "code",
   "execution_count": 14,
   "id": "295a0b48",
   "metadata": {},
   "outputs": [
    {
     "name": "stdout",
     "output_type": "stream",
     "text": [
      "Counts for MR_NO:\n",
      "MR/17/000051    1\n",
      "MR/18/015094    1\n",
      "MR/18/014781    1\n",
      "MR/18/014136    1\n",
      "MR/18/014086    1\n",
      "               ..\n",
      "MR/17/015787    1\n",
      "MR/17/015628    1\n",
      "MR/17/014162    1\n",
      "MR/17/014043    1\n",
      "MR/19/001762    1\n",
      "Name: MR_NO, Length: 426, dtype: int64\n",
      "\n",
      "Counts for Comorbidities_final:\n",
      "No                254\n",
      "Not known          64\n",
      "Heart disease      17\n",
      "Lungs disease       9\n",
      "Kidney disease      4\n",
      "Other cancer        4\n",
      "Name: Comorbidities_final, dtype: int64\n",
      "\n",
      "Counts for Thyroidism:\n",
      "No                305\n",
      "Not known          67\n",
      "Hypothyroidism     35\n",
      "Name: Thyroidism, dtype: int64\n",
      "\n",
      "Counts for Diabetes:\n",
      "No           240\n",
      "Yes          103\n",
      "Not known     66\n",
      "Name: Diabetes, dtype: int64\n",
      "\n",
      "Counts for HTN:\n",
      "No           207\n",
      "Yes          141\n",
      "Not known     61\n",
      "Name: HTN, dtype: int64\n",
      "\n",
      "Counts for Family_cancer_history:\n",
      "Not known    216\n",
      "No           154\n",
      "Yes           37\n",
      "Name: Family_cancer_history, dtype: int64\n",
      "\n",
      "Counts for ECOG_final:\n",
      "1            221\n",
      "2             92\n",
      "3             37\n",
      "Not known     30\n",
      "4             16\n",
      "0             14\n",
      "Name: ECOG_final, dtype: int64\n",
      "\n",
      "Counts for Gall_stone_final:\n",
      "Yes          171\n",
      "Not known    119\n",
      "No           117\n",
      "Polyp          1\n",
      "Name: Gall_stone_final, dtype: int64\n",
      "\n",
      "Counts for Pathology:\n",
      "Adenocarcinoma                  360\n",
      "Carcinoma                        31\n",
      "Adenosquamous carcinoma          14\n",
      "Neuroendocrine carcinoma          7\n",
      "Others                            7\n",
      "Mucinous adenocarcinoma           3\n",
      "MiNEN                             2\n",
      "ICPN with invasive carcinoma      2\n",
      "Name: Pathology, dtype: int64\n",
      "\n",
      "Counts for Tumour_grade_final:\n",
      "Grade X    208\n",
      "Grade 3    107\n",
      "Grade 2     78\n",
      "Grade 1     10\n",
      "Grade 4      1\n",
      "Name: Tumour_grade_final, dtype: int64\n",
      "\n",
      "Counts for Cancer_presentation_final:\n",
      "Metastatic          240\n",
      "Incidental           99\n",
      "Locally advanced     62\n",
      "Name: Cancer_presentation_final, dtype: int64\n",
      "\n",
      "Counts for Tumour_stage_final:\n",
      "Stage IV     278\n",
      "Stage III     55\n",
      "Not known     38\n",
      "Stage II      14\n",
      "Name: Tumour_stage_final, dtype: int64\n",
      "\n",
      "Counts for TNM_classification:\n",
      "TxNxM1       41\n",
      "T3N1M1       40\n",
      "T3N1M0       30\n",
      "T3NxM1       20\n",
      "T3N2M1       19\n",
      "TxN2M1       15\n",
      "T3N2M0       13\n",
      "T2N2M1       13\n",
      "T4N1M0       12\n",
      "T2N1M0       12\n",
      "T2N0M0       12\n",
      "T2N1M1       11\n",
      "TxN1M1       10\n",
      "T3N0M0       10\n",
      "T3N0M1        8\n",
      "T2NxM0        8\n",
      "T2N2M0        8\n",
      "Not Known     8\n",
      "T4N0M1        7\n",
      "T3NxMx        7\n",
      "TxN2M0        7\n",
      "T4N2M1        6\n",
      "T4NxM1        6\n",
      "T4N0M0        6\n",
      "T3NxM0        5\n",
      "TxN0M1        5\n",
      "T2NxM1        5\n",
      "T2N0M1        4\n",
      "T4N1M1        4\n",
      "T4N2M0        3\n",
      "T2NxMx        3\n",
      "T1N2M0        3\n",
      "TxN1M0        3\n",
      "T4NxMx        2\n",
      "TxN2Mx        2\n",
      "T4NxM0        2\n",
      "T2bN0M0       2\n",
      "T2N2Mx        1\n",
      "T3N1          1\n",
      "T1N1M0        1\n",
      "T2bN2M0       1\n",
      "T1N0Mx        1\n",
      "T1N2M1        1\n",
      "T2aN1M1       1\n",
      "T2bN1M0       1\n",
      "T3NXM0        1\n",
      "T2aN1M0       1\n",
      "T1N0M1        1\n",
      "Name: TNM_classification, dtype: int64\n",
      "\n",
      "Counts for Metastasis_final:\n",
      "Yes          241\n",
      "No           137\n",
      "Not known     21\n",
      "Name: Metastasis_final, dtype: int64\n",
      "\n",
      "Counts for Site_metastasis:\n",
      "Liver                  124\n",
      "Not Applicable          56\n",
      "Not applicable          48\n",
      "Omentum                 14\n",
      "Peritoneum               7\n",
      "                      ... \n",
      "Peritonum                1\n",
      "Mesentery                1\n",
      "Lung and Peritoneam      1\n",
      "Peritomeum               1\n",
      "Lungs-adrenal            1\n",
      "Name: Site_metastasis, Length: 73, dtype: int64\n",
      "\n",
      "Counts for Mets_site_final:\n",
      "Not applicable          158\n",
      "Liver                   143\n",
      "Peritoneum & Omentum     34\n",
      "Lungs                    16\n",
      "Liver & Lungs             9\n",
      "Portsite                  8\n",
      "Liver & Bone              7\n",
      "Stomach & Intestine       5\n",
      "Pancreas                  3\n",
      "Ovary & Uterus            3\n",
      "Adrenal gland             2\n",
      "Not known                 2\n",
      "Right hypochondrium       2\n",
      "Lungs and bone            1\n",
      "Bone                      1\n",
      "Chest                     1\n",
      "FALSE                     1\n",
      "Lung,Bone                 1\n",
      "Brain                     1\n",
      "Name: Mets_site_final, dtype: int64\n",
      "\n",
      "Counts for Cholecystectomy_TMC:\n",
      "No                     143\n",
      "Not applicable          59\n",
      "Inoperable              46\n",
      "Radical                 28\n",
      "Staging Lap              6\n",
      "Staging laparoscopy      5\n",
      "Stagging_lap             3\n",
      "Staging laparotomy       2\n",
      "Unresectable             2\n",
      "Open                     2\n",
      "Right hepatectomy        1\n",
      "Name: Cholecystectomy_TMC, dtype: int64\n",
      "\n",
      "Counts for Outside_cholecystectomy:\n",
      "No         257\n",
      "Simple     132\n",
      "Radical     15\n",
      "Partial      3\n",
      "Name: Outside_cholecystectomy, dtype: int64\n",
      "\n",
      "Counts for Surgery_final:\n",
      "No         250\n",
      "Simple     114\n",
      "Radical     43\n",
      "Partial      3\n",
      "Name: Surgery_final, dtype: int64\n",
      "\n",
      "Counts for Treatment_final:\n",
      "Disease Control    253\n",
      "Palliative_care    113\n",
      "Curative            29\n",
      "Name: Treatment_final, dtype: int64\n",
      "\n",
      "Counts for Treatment_clean:\n",
      "Chemotherapy                 139\n",
      "Palliative-care               97\n",
      "Surgery                       61\n",
      "Surgery-chemotherapy          56\n",
      "No                            30\n",
      "Chemo-radiotherapy             6\n",
      "Surgery-chemoradiotherapy      3\n",
      "Name: Treatment_clean, dtype: int64\n",
      "\n",
      "Counts for Treatment:\n",
      "Palliative chemotherapy                      106\n",
      "Palliative                                    55\n",
      "Surgery                                       52\n",
      "Palliative care                               29\n",
      "Not Applicable                                26\n",
      "Chemotherapy                                  26\n",
      "Surgery and chemotherapy                      25\n",
      "Surgery-chemotherapy                          22\n",
      "Palliation                                    12\n",
      "Curative surgery                               7\n",
      "NACT                                           4\n",
      "Curative surgery, Chemotherapy                 3\n",
      "Not Known                                      3\n",
      "Chemotherapy, Radiotherapy                     2\n",
      "Adjuvant chemotherapy                          2\n",
      "Curative surgery & chemotherapy                2\n",
      "CTRT                                           2\n",
      "Palliative Chemotherapy                        2\n",
      "Surgery+CR-RT                                  1\n",
      "Systemic chemotherapy                          1\n",
      "Surgery and Chemotherapy and radiotherapy      1\n",
      "Adjuvant CTRT                                  1\n",
      "Palliative Radiation treatment                 1\n",
      "Curative                                       1\n",
      "Radiotherapy, chemotherapy                     1\n",
      "Radical treatment                              1\n",
      "Chemotherapy (outside)                         1\n",
      "Stenting and chemotherapy                      1\n",
      "Treatment not possible                         1\n",
      "Surgery-CTRT                                   1\n",
      "Name: Treatment, dtype: int64\n",
      "\n",
      "Counts for Status:\n",
      "Dead    425\n",
      "No        1\n",
      "Name: Status, dtype: int64\n",
      "\n",
      "Counts for GENDER:\n",
      "FEMA    288\n",
      "MALE    138\n",
      "Name: GENDER, dtype: int64\n",
      "\n",
      "Counts for COUNTRY:\n",
      "IN    426\n",
      "Name: COUNTRY, dtype: int64\n",
      "\n",
      "Counts for STATE_NAME:\n",
      "WB    326\n",
      "BR     32\n",
      "JH     31\n",
      "AS     11\n",
      "OR      6\n",
      "UP      6\n",
      "TR      5\n",
      "MN      4\n",
      "KA      1\n",
      "MP      1\n",
      "MH      1\n",
      "RJ      1\n",
      "GJ      1\n",
      "Name: STATE_NAME, dtype: int64\n",
      "\n",
      "Counts for CITY_NAME:\n",
      "KOLKATA              68\n",
      "24 PARGANAS NORTH    57\n",
      "24 PARGANAS SOUTH    31\n",
      "HOOGHLY              21\n",
      "BURDWAN              19\n",
      "                     ..\n",
      "PUNE                  1\n",
      "GUWAHATI              1\n",
      "KARIMGANJ             1\n",
      "BALASORE              1\n",
      "NAGAON                1\n",
      "Name: CITY_NAME, Length: 85, dtype: int64\n",
      "\n",
      "Counts for Diabetes_final:\n",
      "No           231\n",
      "Yes          115\n",
      "Not known     63\n",
      "Name: Diabetes_final, dtype: int64\n",
      "\n"
     ]
    }
   ],
   "source": [
    "# Filter columns with object data type\n",
    "categorical_columns = filtered_data.select_dtypes(include=['object']).columns\n",
    "\n",
    "# Calculate counts of each category in categorical features\n",
    "category_counts = {}\n",
    "\n",
    "for column in categorical_columns:\n",
    "    counts = filtered_data[column].value_counts()\n",
    "    category_counts[column] = counts\n",
    "\n",
    "# Print the counts of each category in categorical features\n",
    "for column, counts in category_counts.items():\n",
    "    print(f'Counts for {column}:')\n",
    "    print(counts)\n",
    "    print()"
   ]
  },
  {
   "cell_type": "markdown",
   "id": "452305f4",
   "metadata": {},
   "source": [
    "#### Creating a new feature named as \"Time_overall_study\" in 'months' by using the logic = \n",
    "\n",
    "**\"Time_overall_study = \"Date_event\" - \"Date_diagnosis\"**"
   ]
  },
  {
   "cell_type": "code",
   "execution_count": 15,
   "id": "905baa41",
   "metadata": {},
   "outputs": [
    {
     "name": "stderr",
     "output_type": "stream",
     "text": [
      "C:\\Users\\sriva\\AppData\\Local\\Temp\\ipykernel_5700\\2160711339.py:2: SettingWithCopyWarning: \n",
      "A value is trying to be set on a copy of a slice from a DataFrame.\n",
      "Try using .loc[row_indexer,col_indexer] = value instead\n",
      "\n",
      "See the caveats in the documentation: https://pandas.pydata.org/pandas-docs/stable/user_guide/indexing.html#returning-a-view-versus-a-copy\n",
      "  filtered_data['Time_overall_study'] = ((filtered_data['Date_event'] - filtered_data['Date_diagnosis']) / np.timedelta64(1, 'M')).astype(float)\n"
     ]
    },
    {
     "data": {
      "text/html": [
       "<div>\n",
       "<style scoped>\n",
       "    .dataframe tbody tr th:only-of-type {\n",
       "        vertical-align: middle;\n",
       "    }\n",
       "\n",
       "    .dataframe tbody tr th {\n",
       "        vertical-align: top;\n",
       "    }\n",
       "\n",
       "    .dataframe thead th {\n",
       "        text-align: right;\n",
       "    }\n",
       "</style>\n",
       "<table border=\"1\" class=\"dataframe\">\n",
       "  <thead>\n",
       "    <tr style=\"text-align: right;\">\n",
       "      <th></th>\n",
       "      <th>MR_NO</th>\n",
       "      <th>Comorbidities_final</th>\n",
       "      <th>Thyroidism</th>\n",
       "      <th>Diabetes</th>\n",
       "      <th>HTN</th>\n",
       "      <th>Family_cancer_history</th>\n",
       "      <th>ECOG_final</th>\n",
       "      <th>Gall_stone_final</th>\n",
       "      <th>Pathology</th>\n",
       "      <th>Tumour_grade_final</th>\n",
       "      <th>...</th>\n",
       "      <th>ALK PHOS [ALP]</th>\n",
       "      <th>GAMMA GT</th>\n",
       "      <th>ALBUMIN</th>\n",
       "      <th>CREATININE_from_UnC_test</th>\n",
       "      <th>UREA_from_UnC_test</th>\n",
       "      <th>ESTIMATED AVERAGE GLUCOSE (eAG)</th>\n",
       "      <th>HbA1c</th>\n",
       "      <th>CREATININE_from_CREATININE_test</th>\n",
       "      <th>Diabetes_final</th>\n",
       "      <th>Time_overall_study</th>\n",
       "    </tr>\n",
       "  </thead>\n",
       "  <tbody>\n",
       "    <tr>\n",
       "      <th>0</th>\n",
       "      <td>MR/17/000051</td>\n",
       "      <td>NaN</td>\n",
       "      <td>No</td>\n",
       "      <td>No</td>\n",
       "      <td>Yes</td>\n",
       "      <td>No</td>\n",
       "      <td>1</td>\n",
       "      <td>Yes</td>\n",
       "      <td>Adenocarcinoma</td>\n",
       "      <td>Grade 3</td>\n",
       "      <td>...</td>\n",
       "      <td>147.0</td>\n",
       "      <td>21.0</td>\n",
       "      <td>4.7</td>\n",
       "      <td>NaN</td>\n",
       "      <td>NaN</td>\n",
       "      <td>137.0</td>\n",
       "      <td>6.4</td>\n",
       "      <td>0.64</td>\n",
       "      <td>Yes</td>\n",
       "      <td>24.246904</td>\n",
       "    </tr>\n",
       "    <tr>\n",
       "      <th>4</th>\n",
       "      <td>MR/17/000665</td>\n",
       "      <td>NaN</td>\n",
       "      <td>No</td>\n",
       "      <td>No</td>\n",
       "      <td>No</td>\n",
       "      <td>No</td>\n",
       "      <td>1</td>\n",
       "      <td>Not known</td>\n",
       "      <td>Adenocarcinoma</td>\n",
       "      <td>Grade X</td>\n",
       "      <td>...</td>\n",
       "      <td>206.0</td>\n",
       "      <td>481.0</td>\n",
       "      <td>3.2</td>\n",
       "      <td>NaN</td>\n",
       "      <td>NaN</td>\n",
       "      <td>NaN</td>\n",
       "      <td>NaN</td>\n",
       "      <td>0.60</td>\n",
       "      <td>No</td>\n",
       "      <td>11.860613</td>\n",
       "    </tr>\n",
       "    <tr>\n",
       "      <th>5</th>\n",
       "      <td>MR/17/000682</td>\n",
       "      <td>NaN</td>\n",
       "      <td>No</td>\n",
       "      <td>No</td>\n",
       "      <td>Yes</td>\n",
       "      <td>No</td>\n",
       "      <td>2</td>\n",
       "      <td>Yes</td>\n",
       "      <td>Adenocarcinoma</td>\n",
       "      <td>Grade X</td>\n",
       "      <td>...</td>\n",
       "      <td>NaN</td>\n",
       "      <td>NaN</td>\n",
       "      <td>NaN</td>\n",
       "      <td>NaN</td>\n",
       "      <td>NaN</td>\n",
       "      <td>NaN</td>\n",
       "      <td>NaN</td>\n",
       "      <td>0.61</td>\n",
       "      <td>No</td>\n",
       "      <td>17.248814</td>\n",
       "    </tr>\n",
       "    <tr>\n",
       "      <th>7</th>\n",
       "      <td>MR/17/001311</td>\n",
       "      <td>Heart disease</td>\n",
       "      <td>No</td>\n",
       "      <td>Yes</td>\n",
       "      <td>Yes</td>\n",
       "      <td>Not known</td>\n",
       "      <td>1</td>\n",
       "      <td>Yes</td>\n",
       "      <td>MiNEN</td>\n",
       "      <td>Grade 2</td>\n",
       "      <td>...</td>\n",
       "      <td>108.0</td>\n",
       "      <td>21.0</td>\n",
       "      <td>4.6</td>\n",
       "      <td>NaN</td>\n",
       "      <td>NaN</td>\n",
       "      <td>NaN</td>\n",
       "      <td>NaN</td>\n",
       "      <td>NaN</td>\n",
       "      <td>Yes</td>\n",
       "      <td>23.852646</td>\n",
       "    </tr>\n",
       "    <tr>\n",
       "      <th>8</th>\n",
       "      <td>MR/17/001536</td>\n",
       "      <td>NaN</td>\n",
       "      <td>Hypothyroidism</td>\n",
       "      <td>Not known</td>\n",
       "      <td>Yes</td>\n",
       "      <td>Not known</td>\n",
       "      <td>Not known</td>\n",
       "      <td>Yes</td>\n",
       "      <td>Adenocarcinoma</td>\n",
       "      <td>Grade X</td>\n",
       "      <td>...</td>\n",
       "      <td>492.0</td>\n",
       "      <td>209.0</td>\n",
       "      <td>2.6</td>\n",
       "      <td>NaN</td>\n",
       "      <td>NaN</td>\n",
       "      <td>NaN</td>\n",
       "      <td>NaN</td>\n",
       "      <td>NaN</td>\n",
       "      <td>Not known</td>\n",
       "      <td>12.846260</td>\n",
       "    </tr>\n",
       "  </tbody>\n",
       "</table>\n",
       "<p>5 rows × 51 columns</p>\n",
       "</div>"
      ],
      "text/plain": [
       "          MR_NO Comorbidities_final      Thyroidism   Diabetes  HTN  \\\n",
       "0  MR/17/000051                 NaN              No         No  Yes   \n",
       "4  MR/17/000665                 NaN              No         No   No   \n",
       "5  MR/17/000682                 NaN              No         No  Yes   \n",
       "7  MR/17/001311       Heart disease              No        Yes  Yes   \n",
       "8  MR/17/001536                 NaN  Hypothyroidism  Not known  Yes   \n",
       "\n",
       "  Family_cancer_history ECOG_final Gall_stone_final       Pathology  \\\n",
       "0                    No          1              Yes  Adenocarcinoma   \n",
       "4                    No          1        Not known  Adenocarcinoma   \n",
       "5                    No          2              Yes  Adenocarcinoma   \n",
       "7             Not known          1              Yes           MiNEN   \n",
       "8             Not known  Not known              Yes  Adenocarcinoma   \n",
       "\n",
       "  Tumour_grade_final  ... ALK PHOS [ALP] GAMMA GT ALBUMIN  \\\n",
       "0            Grade 3  ...          147.0     21.0     4.7   \n",
       "4            Grade X  ...          206.0    481.0     3.2   \n",
       "5            Grade X  ...            NaN      NaN     NaN   \n",
       "7            Grade 2  ...          108.0     21.0     4.6   \n",
       "8            Grade X  ...          492.0    209.0     2.6   \n",
       "\n",
       "  CREATININE_from_UnC_test UREA_from_UnC_test ESTIMATED AVERAGE GLUCOSE (eAG)  \\\n",
       "0                      NaN                NaN                           137.0   \n",
       "4                      NaN                NaN                             NaN   \n",
       "5                      NaN                NaN                             NaN   \n",
       "7                      NaN                NaN                             NaN   \n",
       "8                      NaN                NaN                             NaN   \n",
       "\n",
       "  HbA1c CREATININE_from_CREATININE_test Diabetes_final Time_overall_study  \n",
       "0   6.4                            0.64            Yes          24.246904  \n",
       "4   NaN                            0.60             No          11.860613  \n",
       "5   NaN                            0.61             No          17.248814  \n",
       "7   NaN                             NaN            Yes          23.852646  \n",
       "8   NaN                             NaN      Not known          12.846260  \n",
       "\n",
       "[5 rows x 51 columns]"
      ]
     },
     "execution_count": 15,
     "metadata": {},
     "output_type": "execute_result"
    }
   ],
   "source": [
    "# Calculate the difference of Date_event and Date_diagnosis in months\n",
    "filtered_data['Time_overall_study'] = ((filtered_data['Date_event'] - filtered_data['Date_diagnosis']) / np.timedelta64(1, 'M')).astype(float)\n",
    "\n",
    "filtered_data.head()"
   ]
  },
  {
   "cell_type": "code",
   "execution_count": 16,
   "id": "c85ab437",
   "metadata": {},
   "outputs": [
    {
     "data": {
      "text/plain": [
       "(-8.01659171646235, 147.22273557978602)"
      ]
     },
     "execution_count": 16,
     "metadata": {},
     "output_type": "execute_result"
    }
   ],
   "source": [
    "filtered_data[\"Time_overall_study\"].min(), filtered_data[\"Time_overall_study\"].max()"
   ]
  },
  {
   "cell_type": "markdown",
   "id": "7ee30141",
   "metadata": {},
   "source": [
    "**Negative overall study time period is not possible, therefore having a look at that partiicular datapoint**"
   ]
  },
  {
   "cell_type": "code",
   "execution_count": 17,
   "id": "bf5aaca7",
   "metadata": {},
   "outputs": [
    {
     "name": "stdout",
     "output_type": "stream",
     "text": [
      "657    Dead\n",
      "Name: Status, dtype: object\n",
      "657   2019-02-23\n",
      "Name: Date_event, dtype: datetime64[ns]\n",
      "657   2019-10-25\n",
      "Name: Date_diagnosis, dtype: datetime64[ns]\n"
     ]
    }
   ],
   "source": [
    "# Replace 'column_name' with the actual name of your column\n",
    "row = filtered_data[filtered_data['Time_overall_study'] == -8.01659171646235]\n",
    "\n",
    "print(row[\"Status\"])\n",
    "print(row[\"Date_event\"])\n",
    "print(row[\"Date_diagnosis\"])"
   ]
  },
  {
   "cell_type": "markdown",
   "id": "fcb6b8c3",
   "metadata": {},
   "source": [
    "**Since the status of this person is dead therefore Time_overall_study for this person being negative resembles to Date of event is past as compared to the Date of diagnosis which is a false data i.e. not possible. A patient who has already died cannot have a Diagnosis in future. Therefore removing this false data from our analysis.**\n",
    "\n",
    "**Date_event = 23 feb 2019 and Date_diagnosis = 25th october 2019, which is not possible**\n",
    "\n",
    "**Deleting this particular observation from our analysis**"
   ]
  },
  {
   "cell_type": "code",
   "execution_count": 18,
   "id": "d857b664",
   "metadata": {},
   "outputs": [
    {
     "data": {
      "text/plain": [
       "(425, 51)"
      ]
     },
     "execution_count": 18,
     "metadata": {},
     "output_type": "execute_result"
    }
   ],
   "source": [
    "#Time_overall_study feature\n",
    "value_to_delete = -8.01659171646235\n",
    "\n",
    "# Delete the row with the specified value\n",
    "filtered_data = filtered_data[filtered_data['Time_overall_study'] != value_to_delete]\n",
    "\n",
    "filtered_data.shape"
   ]
  },
  {
   "cell_type": "code",
   "execution_count": 19,
   "id": "b4b04618",
   "metadata": {},
   "outputs": [
    {
     "data": {
      "text/plain": [
       "(420, 51)"
      ]
     },
     "execution_count": 19,
     "metadata": {},
     "output_type": "execute_result"
    }
   ],
   "source": [
    "# Filter data based on the range of 'time_overall_study'\n",
    "filtered_data = filtered_data[(filtered_data['Time_overall_study'] >= 0) & (filtered_data['Time_overall_study'] <= 54)]\n",
    "filtered_data.shape"
   ]
  },
  {
   "cell_type": "code",
   "execution_count": 20,
   "id": "7dcb0a8e",
   "metadata": {},
   "outputs": [],
   "source": [
    "data=filtered_data.copy()"
   ]
  },
  {
   "cell_type": "markdown",
   "id": "2a29fdf6",
   "metadata": {},
   "source": [
    "### Replacing \"Dead\" Status by 1 and \"No\" by 0 in \"Status\" feature in order to make our analysis easier."
   ]
  },
  {
   "cell_type": "code",
   "execution_count": 21,
   "id": "cac86799",
   "metadata": {},
   "outputs": [],
   "source": [
    "# Mapping of values to be replaced\n",
    "status_mapping = {'Dead': 1, 'No': 0}\n",
    "\n",
    "# Replace values in the \"Status\" column\n",
    "data['Status'] = data['Status'].replace(status_mapping)\n"
   ]
  },
  {
   "cell_type": "code",
   "execution_count": 22,
   "id": "b16adcd2",
   "metadata": {},
   "outputs": [
    {
     "data": {
      "text/plain": [
       "Status\n",
       "1         419\n",
       "0           1\n",
       "dtype: int64"
      ]
     },
     "execution_count": 22,
     "metadata": {},
     "output_type": "execute_result"
    }
   ],
   "source": [
    "data[[\"Status\"]].value_counts() #counts for respective categories in \"Status\" feature. 425 patients = Dead, 1 patient = No."
   ]
  },
  {
   "cell_type": "markdown",
   "id": "fa8f24f6",
   "metadata": {},
   "source": [
    "### Exploratory Data Analysis\n",
    "\n",
    "As per the plots dsplayed in the research paper, considering only three variables for the survival curves as of now.\n",
    "\n",
    "### 1. Univariate Analysis of Categorical variables\n",
    "\n",
    "Three variables considered in the analysis -\n",
    "\n",
    "1. Tumour_stage_final\n",
    "2. Surgery_final\n",
    "3. Treatment_final\n"
   ]
  },
  {
   "cell_type": "code",
   "execution_count": 23,
   "id": "1a531b29",
   "metadata": {},
   "outputs": [],
   "source": [
    "category_list = ['Tumour_stage_final', 'Surgery_final', 'Treatment_final']\n",
    "\n",
    "def plotUnivariateAnalysis(data_frame, category_list, rows, cols, figsize):\n",
    "    fig, axes = plt.subplots(rows, cols, figsize=figsize)\n",
    "    axes = axes.flatten()\n",
    "    \n",
    "    for i, category in enumerate(category_list):\n",
    "        ax = axes[i]\n",
    "        counts = data_frame[category].value_counts()\n",
    "        missing_count = data_frame[category].isnull().sum()\n",
    "        total_count = len(data_frame)\n",
    "        \n",
    "        counts.plot(kind='bar', ax=ax)\n",
    "        \n",
    "        ax.set_title(f'{category} Distribution')\n",
    "        ax.set_xlabel(category)\n",
    "        ax.set_ylabel('Frequency')\n",
    "        \n",
    "        # Calculate and display percentage text on the bars\n",
    "        total_valid_count = total_count - missing_count\n",
    "        for rect in ax.patches:\n",
    "            height = rect.get_height()\n",
    "            ax.annotate(f'{height / total_valid_count:.2%}', \n",
    "                        xy=(rect.get_x() + rect.get_width() / 2, height), \n",
    "                        xytext=(0, 3),  # 3 points vertical offset\n",
    "                        textcoords=\"offset points\", \n",
    "                        ha='center', va='bottom')\n",
    "        \n",
    "        # Display percentage of missing values above the plot\n",
    "        ax.annotate(f\"Missing: {missing_count}/{total_count} ({missing_count / total_count:.2%})\", \n",
    "                    xy=(0.5, 0.95), \n",
    "                    xycoords='axes fraction', \n",
    "                    ha='center', fontsize=10, color='red')\n",
    "    \n",
    "    # Hide any unused subplots\n",
    "    for i in range(len(category_list), rows * cols):\n",
    "        fig.delaxes(axes[i])\n",
    "    \n",
    "    plt.tight_layout()\n",
    "    plt.show()"
   ]
  },
  {
   "cell_type": "code",
   "execution_count": 24,
   "id": "52328ecc",
   "metadata": {},
   "outputs": [
    {
     "data": {
      "image/png": "[encoded data removed]",
      "text/plain": [
       "<Figure size 1800x1000 with 3 Axes>"
      ]
     },
     "metadata": {},
     "output_type": "display_data"
    }
   ],
   "source": [
    "# Call the function to create the grid of plots\n",
    "plotUnivariateAnalysis(data_frame=data, \n",
    "                       category_list=category_list, \n",
    "                       rows=2, \n",
    "                       cols=3, \n",
    "                       figsize=(18, 10))"
   ]
  },
  {
   "cell_type": "markdown",
   "id": "b3262af4",
   "metadata": {},
   "source": [
    "#### <font color = brown>Data Insight 1:</font>\n",
    "\n",
    "**`1. ~72% of the population under study had stage 4 tumour, while ~14% had stage 3 tumour, ~9.8% did not have any known stage of tumour, ~3.6% had stage 2 tumour and 9.62% data is missing.`**\n",
    "\n",
    "**`2. ~61% of the population under study had No surgery, ~27% had simple cholecystectomy, ~10.5% patients had radical cholecystectomy, ~0.73% had partial type and ~3.76% data is missing.`**\n",
    "\n",
    "**`3. ~64% of the population under study had disease control type treatment,~28% had palliative care, ~7.3% had curative treatment and ~7.28% data is missing.`**"
   ]
  },
  {
   "cell_type": "markdown",
   "id": "495ee665",
   "metadata": {},
   "source": [
    "### Survival w.r.t Tumour stage"
   ]
  },
  {
   "cell_type": "code",
   "execution_count": 25,
   "id": "7beda178",
   "metadata": {},
   "outputs": [],
   "source": [
    "##Checking for Missing values in the \"Tumour_stage_final\" column"
   ]
  },
  {
   "cell_type": "code",
   "execution_count": 26,
   "id": "166a00dd",
   "metadata": {},
   "outputs": [
    {
     "data": {
      "text/plain": [
       "41"
      ]
     },
     "execution_count": 26,
     "metadata": {},
     "output_type": "execute_result"
    }
   ],
   "source": [
    "data[\"Tumour_stage_final\"].isnull().sum()"
   ]
  },
  {
   "cell_type": "markdown",
   "id": "36a3ba8a",
   "metadata": {},
   "source": [
    "**41 missing values are present in \"Tumour_stage_final\" column**"
   ]
  },
  {
   "cell_type": "code",
   "execution_count": 27,
   "id": "1ed9c603",
   "metadata": {},
   "outputs": [
    {
     "data": {
      "text/plain": [
       "Stage IV     273\n",
       "Stage III     55\n",
       "Not known     37\n",
       "Stage II      14\n",
       "Name: Tumour_stage_final, dtype: int64"
      ]
     },
     "execution_count": 27,
     "metadata": {},
     "output_type": "execute_result"
    }
   ],
   "source": [
    "data[\"Tumour_stage_final\"].value_counts()"
   ]
  },
  {
   "cell_type": "markdown",
   "id": "7e52dded",
   "metadata": {},
   "source": [
    "**Replacing Missing values as a new category, named as \"Missing_Data\"**"
   ]
  },
  {
   "cell_type": "code",
   "execution_count": 28,
   "id": "f48b2919",
   "metadata": {},
   "outputs": [],
   "source": [
    "# Assign missing values as \"Missing_Data\"\n",
    "data['Tumour_stage_final'] = data['Tumour_stage_final'].fillna(\"Missing_Data\")\n"
   ]
  },
  {
   "cell_type": "code",
   "execution_count": 29,
   "id": "c0515dee",
   "metadata": {},
   "outputs": [
    {
     "data": {
      "text/plain": [
       "Stage IV        273\n",
       "Stage III        55\n",
       "Missing_Data     41\n",
       "Not known        37\n",
       "Stage II         14\n",
       "Name: Tumour_stage_final, dtype: int64"
      ]
     },
     "execution_count": 29,
     "metadata": {},
     "output_type": "execute_result"
    }
   ],
   "source": [
    "data['Tumour_stage_final'].value_counts() #41 missing values are to a new category named as Missing_Data"
   ]
  },
  {
   "cell_type": "code",
   "execution_count": 30,
   "id": "4c6d6c6e",
   "metadata": {},
   "outputs": [],
   "source": [
    "# Extract two features and create a new DataFrame\n",
    "selected_features = ['Tumour_stage_final', 'Status']\n",
    "df = data[selected_features]"
   ]
  },
  {
   "cell_type": "code",
   "execution_count": 31,
   "id": "b346d143",
   "metadata": {},
   "outputs": [
    {
     "data": {
      "image/png": "[encoded data removed]",
      "text/plain": [
       "<Figure size 640x480 with 1 Axes>"
      ]
     },
     "metadata": {},
     "output_type": "display_data"
    }
   ],
   "source": [
    "# Group by \"Tumour_stage_final\" and calculate the counts of 1s and 0s\n",
    "grouped = df.groupby(['Tumour_stage_final', 'Status']).size().unstack()\n",
    "\n",
    "# Plot the bar plot\n",
    "ax = grouped.plot(kind='bar', stacked=True)\n",
    "plt.title(\"Number of Patients' Status by Tumour Stage\")\n",
    "plt.xlabel(\"Tumour Stage\")\n",
    "plt.ylabel(\"Number of Patients\")\n",
    "plt.legend(['Not Dead', 'Dead'], loc='upper right')\n",
    "plt.show()"
   ]
  },
  {
   "cell_type": "markdown",
   "id": "c44a2f23",
   "metadata": {},
   "source": [
    "**1 Patient who is not dead (blue colour) in our dataset belongs to \"Not known\" category of the \"Tumour_stage_final\" feature.**"
   ]
  },
  {
   "cell_type": "markdown",
   "id": "602a5847",
   "metadata": {},
   "source": [
    "### KAPLAN-MEIER Survival Curve "
   ]
  },
  {
   "cell_type": "code",
   "execution_count": 32,
   "id": "83c1799c",
   "metadata": {},
   "outputs": [],
   "source": [
    "#!pip install lifelines\n",
    "#!pip install scikit-survival"
   ]
  },
  {
   "cell_type": "code",
   "execution_count": 33,
   "id": "86842715",
   "metadata": {},
   "outputs": [
    {
     "data": {
      "text/plain": [
       "Index(['MR_NO', 'Comorbidities_final', 'Thyroidism', 'Diabetes', 'HTN',\n",
       "       'Family_cancer_history', 'ECOG_final', 'Gall_stone_final', 'Pathology',\n",
       "       'Tumour_grade_final', 'Cancer_presentation_final', 'Tumour_stage_final',\n",
       "       'TNM_classification', 'Metastasis_final', 'Site_metastasis',\n",
       "       'Mets_site_final', 'Cholecystectomy_TMC', 'Outside_cholecystectomy',\n",
       "       'Surgery_final', 'Treatment_final', 'Treatment_clean', 'Treatment',\n",
       "       'Status', 'Date_event', 'Date_diagnosis', 'AGE', 'GENDER', 'COUNTRY',\n",
       "       'STATE_NAME', 'CITY_NAME', 'PINCODE', 'First_Visit_Date', 'HEIGHT',\n",
       "       'WEIGHT', 'BSA_DETAILS', 'BMI_DETAILS', 'BILIRUBIN CONJUGATED',\n",
       "       'BILIRUBIN UNCONJUGATED', 'BILIRUBIN TOTAL', 'AST - SGOT', 'ALT - SGPT',\n",
       "       'ALK PHOS [ALP]', 'GAMMA GT', 'ALBUMIN', 'CREATININE_from_UnC_test',\n",
       "       'UREA_from_UnC_test', 'ESTIMATED AVERAGE GLUCOSE (eAG)', 'HbA1c',\n",
       "       'CREATININE_from_CREATININE_test', 'Diabetes_final',\n",
       "       'Time_overall_study'],\n",
       "      dtype='object')"
      ]
     },
     "execution_count": 33,
     "metadata": {},
     "output_type": "execute_result"
    }
   ],
   "source": [
    "data.columns"
   ]
  },
  {
   "cell_type": "code",
   "execution_count": 34,
   "id": "5ac1d1ac",
   "metadata": {},
   "outputs": [
    {
     "name": "stdout",
     "output_type": "stream",
     "text": [
      "<class 'pandas.core.frame.DataFrame'>\n",
      "Int64Index: 420 entries, 0 to 695\n",
      "Data columns (total 51 columns):\n",
      " #   Column                           Non-Null Count  Dtype         \n",
      "---  ------                           --------------  -----         \n",
      " 0   MR_NO                            420 non-null    object        \n",
      " 1   Comorbidities_final              346 non-null    object        \n",
      " 2   Thyroidism                       401 non-null    object        \n",
      " 3   Diabetes                         403 non-null    object        \n",
      " 4   HTN                              403 non-null    object        \n",
      " 5   Family_cancer_history            401 non-null    object        \n",
      " 6   ECOG_final                       404 non-null    object        \n",
      " 7   Gall_stone_final                 402 non-null    object        \n",
      " 8   Pathology                        420 non-null    object        \n",
      " 9   Tumour_grade_final               398 non-null    object        \n",
      " 10  Cancer_presentation_final        395 non-null    object        \n",
      " 11  Tumour_stage_final               420 non-null    object        \n",
      " 12  TNM_classification               377 non-null    object        \n",
      " 13  Metastasis_final                 393 non-null    object        \n",
      " 14  Site_metastasis                  340 non-null    object        \n",
      " 15  Mets_site_final                  392 non-null    object        \n",
      " 16  Cholecystectomy_TMC              292 non-null    object        \n",
      " 17  Outside_cholecystectomy          401 non-null    object        \n",
      " 18  Surgery_final                    404 non-null    object        \n",
      " 19  Treatment_final                  389 non-null    object        \n",
      " 20  Treatment_clean                  386 non-null    object        \n",
      " 21  Treatment                        386 non-null    object        \n",
      " 22  Status                           420 non-null    int64         \n",
      " 23  Date_event                       420 non-null    datetime64[ns]\n",
      " 24  Date_diagnosis                   420 non-null    datetime64[ns]\n",
      " 25  AGE                              420 non-null    int64         \n",
      " 26  GENDER                           420 non-null    object        \n",
      " 27  COUNTRY                          420 non-null    object        \n",
      " 28  STATE_NAME                       420 non-null    object        \n",
      " 29  CITY_NAME                        420 non-null    object        \n",
      " 30  PINCODE                          412 non-null    float64       \n",
      " 31  First_Visit_Date                 346 non-null    datetime64[ns]\n",
      " 32  HEIGHT                           346 non-null    float64       \n",
      " 33  WEIGHT                           346 non-null    float64       \n",
      " 34  BSA_DETAILS                      346 non-null    float64       \n",
      " 35  BMI_DETAILS                      346 non-null    float64       \n",
      " 36  BILIRUBIN CONJUGATED             269 non-null    float64       \n",
      " 37  BILIRUBIN UNCONJUGATED           269 non-null    float64       \n",
      " 38  BILIRUBIN TOTAL                  269 non-null    float64       \n",
      " 39  AST - SGOT                       269 non-null    float64       \n",
      " 40  ALT - SGPT                       268 non-null    float64       \n",
      " 41  ALK PHOS [ALP]                   269 non-null    float64       \n",
      " 42  GAMMA GT                         268 non-null    float64       \n",
      " 43  ALBUMIN                          269 non-null    float64       \n",
      " 44  CREATININE_from_UnC_test         13 non-null     float64       \n",
      " 45  UREA_from_UnC_test               13 non-null     float64       \n",
      " 46  ESTIMATED AVERAGE GLUCOSE (eAG)  47 non-null     float64       \n",
      " 47  HbA1c                            47 non-null     float64       \n",
      " 48  CREATININE_from_CREATININE_test  115 non-null    float64       \n",
      " 49  Diabetes_final                   403 non-null    object        \n",
      " 50  Time_overall_study               420 non-null    float64       \n",
      "dtypes: datetime64[ns](3), float64(19), int64(2), object(27)\n",
      "memory usage: 170.6+ KB\n"
     ]
    }
   ],
   "source": [
    "data.info()"
   ]
  },
  {
   "cell_type": "markdown",
   "id": "d11ec5e9",
   "metadata": {},
   "source": [
    "#### converting \"Status\" feature into boolean for survival analysis"
   ]
  },
  {
   "cell_type": "code",
   "execution_count": 35,
   "id": "0d7f9178",
   "metadata": {},
   "outputs": [],
   "source": [
    "# data\n",
    "data[\"Status\"] = data[\"Status\"].astype(bool)"
   ]
  },
  {
   "cell_type": "code",
   "execution_count": 36,
   "id": "7e448312",
   "metadata": {},
   "outputs": [
    {
     "name": "stdout",
     "output_type": "stream",
     "text": [
      "           removed  observed  censored  entrance  at_risk\n",
      "event_at                                                 \n",
      "0.000000         1         1         0       420      420\n",
      "0.032855         1         1         0         0      419\n",
      "0.065710         2         2         0         0      418\n",
      "0.098565         1         1         0         0      416\n",
      "0.131420         1         1         0         0      415\n",
      "...            ...       ...       ...       ...      ...\n",
      "38.505924        1         1         0         0        5\n",
      "40.772911        1         1         0         0        4\n",
      "42.448510        1         1         0         0        3\n",
      "47.113904        1         1         0         0        2\n",
      "49.216616        1         1         0         0        1\n",
      "\n",
      "[315 rows x 5 columns]\n"
     ]
    },
    {
     "data": {
      "image/png": "[encoded data removed]",
      "text/plain": [
       "<Figure size 640x480 with 1 Axes>"
      ]
     },
     "metadata": {},
     "output_type": "display_data"
    }
   ],
   "source": [
    "from lifelines import KaplanMeierFitter\n",
    "#data\n",
    "df = data\n",
    "# Initialize KaplanMeierFitter\n",
    "kmf = KaplanMeierFitter()\n",
    "\n",
    "# Fit the Kaplan-Meier estimator\n",
    "kmf.fit(df['Time_overall_study'], event_observed=df['Status'])\n",
    "\n",
    "# Create a new figure and axes\n",
    "fig, ax = plt.subplots()\n",
    "\n",
    "# Plot the Kaplan-Meier survival curve\n",
    "kmf.plot(ax=ax)\n",
    "\n",
    "# Plot censored points\n",
    "censored_data = df[df['Status'] == 0]\n",
    "ax.scatter(censored_data['Time_overall_study'], kmf.predict(censored_data['Time_overall_study']),\n",
    "           label='Censored', c='red', marker='x')\n",
    "\n",
    "# Display the risk data table\n",
    "risk_table = kmf.event_table\n",
    "print(risk_table)\n",
    "\n",
    "# Customize the plot\n",
    "plt.title(\"Kaplan-Meier Survival Curve\")\n",
    "plt.xlabel(\"Time\")\n",
    "plt.ylabel(\"Survival Probability\")\n",
    "plt.legend()\n",
    "plt.show()"
   ]
  },
  {
   "cell_type": "code",
   "execution_count": 37,
   "id": "1453b53c",
   "metadata": {},
   "outputs": [
    {
     "data": {
      "text/plain": [
       "<lifelines.KaplanMeierFitter:\"KM_estimate\", fitted with 420 total observations, 1 right-censored observations>"
      ]
     },
     "execution_count": 37,
     "metadata": {},
     "output_type": "execute_result"
    }
   ],
   "source": [
    "from lifelines import KaplanMeierFitter\n",
    "kmf = KaplanMeierFitter()\n",
    "\n",
    "Time = data[\"Time_overall_study\"]\n",
    "Event = data[\"Status\"]\n",
    "\n",
    "kmf.fit(Time, event_observed=Event)"
   ]
  },
  {
   "cell_type": "code",
   "execution_count": 38,
   "id": "e0409fb4",
   "metadata": {},
   "outputs": [
    {
     "data": {
      "image/png": "[encoded data removed]",
      "text/plain": [
       "<Figure size 1000x600 with 2 Axes>"
      ]
     },
     "metadata": {},
     "output_type": "display_data"
    }
   ],
   "source": [
    "# Perform Kaplan-Meier survival analysis\n",
    "kmf = KaplanMeierFitter().fit(data[\"Time_overall_study\"], data[\"Status\"])\n",
    "\n",
    "# Create a larger figure\n",
    "plt.figure(figsize=(10, 6))  # Adjust the width and height as needed\n",
    "\n",
    "# Plot the Kaplan-Meier survival function with at-risk counts\n",
    "kmf.plot_survival_function(at_risk_counts=True)\n",
    "\n",
    "# Plot censored data points\n",
    "censored_data = data[data[\"Status\"] == 0]\n",
    "plt.scatter(censored_data[\"Time_overall_study\"], kmf.predict(censored_data[\"Time_overall_study\"]),\n",
    "            marker='x', color='red', s=50, label='Censored')\n",
    "\n",
    "# Add title and labels to the plot\n",
    "plt.title(\"Kaplan-Meier Survival Analysis\")\n",
    "plt.xlabel(\"Time\")\n",
    "plt.ylabel(\"Survival Probability\")\n",
    "plt.legend()\n",
    "\n",
    "# Show the plot\n",
    "plt.tight_layout()\n",
    "plt.show()\n"
   ]
  },
  {
   "cell_type": "code",
   "execution_count": 39,
   "id": "9d68101b",
   "metadata": {},
   "outputs": [
    {
     "data": {
      "text/plain": [
       "7.06380007803035"
      ]
     },
     "execution_count": 39,
     "metadata": {},
     "output_type": "execute_result"
    }
   ],
   "source": [
    "#Median time of survival\n",
    "kmf.median_survival_time_"
   ]
  },
  {
   "cell_type": "markdown",
   "id": "2fe73b13",
   "metadata": {},
   "source": [
    "**The overall median survival time for the data available is 7.12 months**"
   ]
  },
  {
   "cell_type": "markdown",
   "id": "08f97bea",
   "metadata": {},
   "source": [
    "### Confidence Interval for overall Median survival time"
   ]
  },
  {
   "cell_type": "code",
   "execution_count": 40,
   "id": "85e83828",
   "metadata": {},
   "outputs": [
    {
     "data": {
      "text/html": [
       "<div>\n",
       "<style scoped>\n",
       "    .dataframe tbody tr th:only-of-type {\n",
       "        vertical-align: middle;\n",
       "    }\n",
       "\n",
       "    .dataframe tbody tr th {\n",
       "        vertical-align: top;\n",
       "    }\n",
       "\n",
       "    .dataframe thead th {\n",
       "        text-align: right;\n",
       "    }\n",
       "</style>\n",
       "<table border=\"1\" class=\"dataframe\">\n",
       "  <thead>\n",
       "    <tr style=\"text-align: right;\">\n",
       "      <th></th>\n",
       "      <th>KM_estimate_lower_0.95</th>\n",
       "      <th>KM_estimate_upper_0.95</th>\n",
       "    </tr>\n",
       "  </thead>\n",
       "  <tbody>\n",
       "    <tr>\n",
       "      <th>0.5</th>\n",
       "      <td>6.340993</td>\n",
       "      <td>8.148011</td>\n",
       "    </tr>\n",
       "  </tbody>\n",
       "</table>\n",
       "</div>"
      ],
      "text/plain": [
       "     KM_estimate_lower_0.95  KM_estimate_upper_0.95\n",
       "0.5                6.340993                8.148011"
      ]
     },
     "execution_count": 40,
     "metadata": {},
     "output_type": "execute_result"
    }
   ],
   "source": [
    "from lifelines.utils import median_survival_times\n",
    "median_ci = median_survival_times(kmf.confidence_interval_)\n",
    "median_ci"
   ]
  },
  {
   "cell_type": "markdown",
   "id": "6c75d4db",
   "metadata": {},
   "source": [
    "**The 95% confidence interval for the median survival time = 6.43 months to 8.18 months**"
   ]
  },
  {
   "cell_type": "markdown",
   "id": "ec00cd9e",
   "metadata": {},
   "source": [
    "### Survival Curve based on Stages of Tumour"
   ]
  },
  {
   "cell_type": "code",
   "execution_count": 41,
   "id": "dcceb329",
   "metadata": {},
   "outputs": [
    {
     "data": {
      "text/plain": [
       "Stage IV        273\n",
       "Stage III        55\n",
       "Missing_Data     41\n",
       "Not known        37\n",
       "Stage II         14\n",
       "Name: Tumour_stage_final, dtype: int64"
      ]
     },
     "execution_count": 41,
     "metadata": {},
     "output_type": "execute_result"
    }
   ],
   "source": [
    "data[\"Tumour_stage_final\"].value_counts()"
   ]
  },
  {
   "cell_type": "code",
   "execution_count": 42,
   "id": "b03e1354",
   "metadata": {},
   "outputs": [
    {
     "data": {
      "text/plain": [
       "0"
      ]
     },
     "execution_count": 42,
     "metadata": {},
     "output_type": "execute_result"
    }
   ],
   "source": [
    "data[\"Tumour_stage_final\"].isnull().sum()"
   ]
  },
  {
   "cell_type": "markdown",
   "id": "380606a5",
   "metadata": {},
   "source": [
    "**0 Missing values in \"Tumour_stage_final\" feature**"
   ]
  },
  {
   "cell_type": "code",
   "execution_count": 43,
   "id": "d6df28f9",
   "metadata": {},
   "outputs": [
    {
     "name": "stdout",
     "output_type": "stream",
     "text": [
      "Median survival time for Stage IV: 6.28 months\n",
      "Risk table for Stage IV:\n",
      "           removed  observed  censored  entrance  at_risk\n",
      "event_at                                                 \n",
      "0.000000         0         0         0       273      273\n",
      "0.032855         1         1         0         0      273\n",
      "0.065710         1         1         0         0      272\n",
      "0.131420         1         1         0         0      271\n",
      "0.295694         1         1         0         0      270\n",
      "...            ...       ...       ...       ...      ...\n",
      "38.505924        1         1         0         0        5\n",
      "40.772911        1         1         0         0        4\n",
      "42.448510        1         1         0         0        3\n",
      "47.113904        1         1         0         0        2\n",
      "49.216616        1         1         0         0        1\n",
      "\n",
      "[220 rows x 5 columns]\n",
      "Median survival time for Stage II: 13.34 months\n",
      "Risk table for Stage II:\n",
      "           removed  observed  censored  entrance  at_risk\n",
      "event_at                                                 \n",
      "0.000000         0         0         0        14       14\n",
      "0.919937         1         1         0         0       14\n",
      "1.872728         1         1         0         0       13\n",
      "2.069858         1         1         0         0       12\n",
      "9.330787         1         1         0         0       11\n",
      "9.790755         1         1         0         0       10\n",
      "11.926323        1         1         0         0        9\n",
      "13.207663        1         1         0         0        8\n",
      "13.339083        1         1         0         0        7\n",
      "15.540360        1         1         0         0        6\n",
      "17.248814        1         1         0         0        5\n",
      "20.862851        1         1         0         0        4\n",
      "23.852646        1         1         0         0        3\n",
      "27.170989        1         1         0         0        2\n",
      "38.144520        1         1         0         0        1\n",
      "Median survival time for Not known: 9.07 months\n",
      "Risk table for Not known:\n",
      "           removed  observed  censored  entrance  at_risk\n",
      "event_at                                                 \n",
      "0.000000         0         0         0        37       37\n",
      "0.624243         1         1         0         0       37\n",
      "1.412760         1         1         0         0       36\n",
      "2.496971         1         1         0         0       35\n",
      "2.562681         1         1         0         0       34\n",
      "2.891230         1         1         0         0       33\n",
      "3.548327         1         1         0         0       32\n",
      "4.041151         1         1         0         0       31\n",
      "4.632539         1         1         0         0       30\n",
      "5.256781         1         1         0         0       29\n",
      "5.289636         1         1         0         0       28\n",
      "5.651040         1         1         0         0       27\n",
      "6.143863         1         1         0         0       26\n",
      "6.340993         1         1         0         0       25\n",
      "6.965235         1         1         0         0       24\n",
      "7.030945         1         1         0         0       23\n",
      "7.096655         1         1         0         0       22\n",
      "7.293784         1         1         0         0       21\n",
      "7.950882         1         1         0         0       20\n",
      "9.067948         1         1         0         0       19\n",
      "11.367790        1         1         0         0       18\n",
      "11.992033        1         1         0         0       17\n",
      "12.320582        1         1         0         0       16\n",
      "12.681985        1         1         0         0       15\n",
      "12.846260        1         1         0         0       14\n",
      "13.766196        1         1         0         0       13\n",
      "14.456149        1         1         0         0       12\n",
      "16.361732        1         1         0         0       11\n",
      "17.511653        1         1         0         0       10\n",
      "18.792994        1         1         0         0        9\n",
      "19.778640        1         1         0         0        8\n",
      "20.172899        1         1         0         0        7\n",
      "21.355675        1         1         0         0        6\n",
      "22.505596        1         1         0         0        5\n",
      "26.152488        1         1         0         0        4\n",
      "28.518039        1         1         0         0        3\n",
      "29.010863        1         1         0         0        2\n",
      "36.370357        1         0         1         0        1\n",
      "Median survival time for Stage III: 9.69 months\n",
      "Risk table for Stage III:\n",
      "           removed  observed  censored  entrance  at_risk\n",
      "event_at                                                 \n",
      "0.000000         0         0         0        55       55\n",
      "0.755662         1         1         0         0       55\n",
      "0.821372         1         1         0         0       54\n",
      "0.985647         1         1         0         0       53\n",
      "1.642744         1         1         0         0       52\n",
      "2.168422         2         2         0         0       51\n",
      "2.332697         1         1         0         0       49\n",
      "3.154069         1         1         0         0       48\n",
      "3.186924         2         2         0         0       47\n",
      "3.318343         1         1         0         0       45\n",
      "3.351198         1         1         0         0       44\n",
      "3.844021         1         1         0         0       43\n",
      "4.303990         1         1         0         0       42\n",
      "4.402554         1         1         0         0       41\n",
      "4.895378         1         1         0         0       40\n",
      "6.373848         1         1         0         0       39\n",
      "6.538122         1         1         0         0       38\n",
      "6.932381         1         1         0         0       37\n",
      "7.030945         1         1         0         0       36\n",
      "7.556623         2         2         0         0       35\n",
      "8.180866         1         1         0         0       33\n",
      "8.673689         1         1         0         0       32\n",
      "9.035093         1         1         0         0       31\n",
      "9.100803         1         1         0         0       30\n",
      "9.133658         1         1         0         0       29\n",
      "9.692191         1         1         0         0       28\n",
      "10.185014        1         1         0         0       27\n",
      "10.283579        2         2         0         0       26\n",
      "10.349288        1         1         0         0       24\n",
      "10.414998        1         1         0         0       23\n",
      "10.447853        1         1         0         0       22\n",
      "10.973531        1         1         0         0       21\n",
      "12.517711        1         1         0         0       20\n",
      "13.799051        1         1         0         0       19\n",
      "15.047537        1         1         0         0       18\n",
      "15.244666        1         1         0         0       17\n",
      "15.868909        1         1         0         0       16\n",
      "16.328877        1         1         0         0       15\n",
      "16.460297        1         1         0         0       14\n",
      "17.215959        1         1         0         0       13\n",
      "18.135896        1         1         0         0       12\n",
      "18.267316        1         1         0         0       11\n",
      "18.563010        1         1         0         0       10\n",
      "19.877205        1         1         0         0        9\n",
      "21.027126        1         1         0         0        8\n",
      "22.932709        1         1         0         0        7\n",
      "23.162693        1         1         0         0        6\n",
      "24.476889        1         1         0         0        5\n",
      "25.002567        1         1         0         0        4\n",
      "25.363971        1         1         0         0        3\n",
      "26.218197        1         1         0         0        2\n",
      "28.090926        1         1         0         0        1\n",
      "Median survival time for Missing_Data: 6.51 months\n",
      "Risk table for Missing_Data:\n",
      "           removed  observed  censored  entrance  at_risk\n",
      "event_at                                                 \n",
      "0.000000         1         1         0        41       41\n",
      "0.065710         1         1         0         0       40\n",
      "0.098565         1         1         0         0       39\n",
      "0.394259         1         1         0         0       38\n",
      "0.492823         1         1         0         0       37\n",
      "0.722807         1         1         0         0       36\n",
      "0.985647         1         1         0         0       35\n",
      "1.051356         1         1         0         0       34\n",
      "1.215631         1         1         0         0       33\n",
      "1.511325         1         1         0         0       32\n",
      "1.642744         1         1         0         0       31\n",
      "1.839874         1         1         0         0       30\n",
      "2.332697         1         1         0         0       29\n",
      "2.759810         1         1         0         0       28\n",
      "2.858375         1         1         0         0       27\n",
      "2.891230         1         1         0         0       26\n",
      "2.956940         1         1         0         0       25\n",
      "3.581182         2         2         0         0       24\n",
      "4.106861         1         1         0         0       22\n",
      "6.505267         1         1         0         0       21\n",
      "6.735251         1         1         0         0       20\n",
      "6.833816         1         1         0         0       19\n",
      "7.655188         1         1         0         0       18\n",
      "8.837964         1         1         0         0       17\n",
      "10.579273        1         1         0         0       16\n",
      "11.532064        1         1         0         0       15\n",
      "11.893468        1         1         0         0       14\n",
      "12.419146        1         1         0         0       13\n",
      "12.911969        1         1         0         0       12\n",
      "13.043389        1         1         0         0       11\n",
      "14.259020        1         1         0         0       10\n",
      "14.653278        1         1         0         0        9\n",
      "16.723136        1         1         0         0        8\n",
      "18.563010        1         1         0         0        7\n",
      "25.495390        1         1         0         0        6\n",
      "28.715169        1         1         0         0        5\n",
      "29.832235        1         1         0         0        4\n",
      "30.226493        1         1         0         0        3\n",
      "30.357913        1         1         0         0        2\n",
      "32.624900        1         1         0         0        1\n"
     ]
    },
    {
     "data": {
      "image/png": "[encoded data removed]",
      "text/plain": [
       "<Figure size 1000x600 with 1 Axes>"
      ]
     },
     "metadata": {},
     "output_type": "display_data"
    }
   ],
   "source": [
    "import pandas as pd\n",
    "import matplotlib.pyplot as plt\n",
    "from lifelines import KaplanMeierFitter\n",
    "from lifelines.utils import survival_table_from_events\n",
    "\n",
    "\n",
    "# data\n",
    "df = data[[\"Tumour_stage_final\", \"Status\", \"Time_overall_study\"]]\n",
    "\n",
    "# Perform Kaplan-Meier survival analysis for each category\n",
    "kmf = KaplanMeierFitter()\n",
    "\n",
    "# Create a larger figure\n",
    "plt.figure(figsize=(10, 6))  # Adjust the width and height as needed\n",
    "\n",
    "for category in df[\"Tumour_stage_final\"].unique():\n",
    "    subset = df[df[\"Tumour_stage_final\"] == category]\n",
    "    kmf.fit(subset[\"Time_overall_study\"], event_observed=subset[\"Status\"], label=category)\n",
    "\n",
    "    # Plot the Kaplan-Meier curve\n",
    "    kmf.plot()\n",
    "\n",
    "    # Calculate and print median survival time\n",
    "    median_survival_time = kmf.median_survival_time_\n",
    "    print(f\"Median survival time for {category}: {median_survival_time:.2f} months\")\n",
    "\n",
    "    # Plot censored data points\n",
    "    censored_data = subset[subset[\"Status\"] == 0]\n",
    "    plt.scatter(censored_data[\"Time_overall_study\"], kmf.predict(censored_data[\"Time_overall_study\"]),\n",
    "            marker='x', color='black', s=50, label=f'Censored - {category}')\n",
    "    \n",
    "    # Calculate the risk table\n",
    "    event_table = survival_table_from_events(subset[\"Time_overall_study\"], subset[\"Status\"])\n",
    "    print(f\"Risk table for {category}:\\n{event_table}\")\n",
    "    \n",
    "# Add title and labels to the plot\n",
    "plt.title(\"Kaplan-Meier Survival Analysis by Tumour Stage\")\n",
    "plt.xlabel(\"Time (months)\")\n",
    "plt.ylabel(\"Survival Probability\")\n",
    "plt.legend()\n",
    "\n",
    "# Change x-axis scale to 5 months\n",
    "plt.xticks(np.arange(0, 151, 10), rotation=45)\n",
    "\n",
    "# Show the plot\n",
    "plt.show()\n"
   ]
  },
  {
   "cell_type": "markdown",
   "id": "558043ff",
   "metadata": {},
   "source": [
    "**Since there is only one black cross and that too on the \"green\" curve, it signifies that 1 observation that is censored, belongs to the \"Not Known\" category of the \"Tumour_stage_final\" feature.**\n",
    "\n",
    "**Median survival time for Stage II: 13.34 months**\n",
    "\n",
    "**Median survival time for Stage III: 9.69 months**\n",
    "\n",
    "**Median survival time for Stage IV: 6.44 months**\n",
    "        \n",
    "**Median survival time for Not known: 9.07 months**\n",
    "        \n",
    "**Median survival time for Missing_Data: 6.51 months**"
   ]
  },
  {
   "cell_type": "markdown",
   "id": "3d65b8b2",
   "metadata": {},
   "source": [
    "### Survival Curve based on Surgery Type"
   ]
  },
  {
   "cell_type": "code",
   "execution_count": 44,
   "id": "44429a13",
   "metadata": {},
   "outputs": [
    {
     "data": {
      "text/plain": [
       "No         249\n",
       "Simple     109\n",
       "Radical     43\n",
       "Partial      3\n",
       "Name: Surgery_final, dtype: int64"
      ]
     },
     "execution_count": 44,
     "metadata": {},
     "output_type": "execute_result"
    }
   ],
   "source": [
    "data[\"Surgery_final\"].value_counts()"
   ]
  },
  {
   "cell_type": "code",
   "execution_count": 45,
   "id": "3583e410",
   "metadata": {},
   "outputs": [
    {
     "data": {
      "text/plain": [
       "16"
      ]
     },
     "execution_count": 45,
     "metadata": {},
     "output_type": "execute_result"
    }
   ],
   "source": [
    "data[\"Surgery_final\"].isnull().sum()"
   ]
  },
  {
   "cell_type": "markdown",
   "id": "85dfb930",
   "metadata": {},
   "source": [
    "**A total of 16 missing values in the \"Surgery_final\" feature**"
   ]
  },
  {
   "cell_type": "markdown",
   "id": "eb96d1c5",
   "metadata": {},
   "source": [
    "**The missing data was assigned to a new category = \"Missing_Data\" category for seperate analysis**"
   ]
  },
  {
   "cell_type": "code",
   "execution_count": 46,
   "id": "2edb3a00",
   "metadata": {},
   "outputs": [],
   "source": [
    "# Assign missing values as \"Missing_Data\"\n",
    "data['Surgery_final'] = data['Surgery_final'].fillna(\"Missing_Data\")"
   ]
  },
  {
   "cell_type": "code",
   "execution_count": 47,
   "id": "acc4f64a",
   "metadata": {},
   "outputs": [
    {
     "data": {
      "text/plain": [
       "No              249\n",
       "Simple          109\n",
       "Radical          43\n",
       "Missing_Data     16\n",
       "Partial           3\n",
       "Name: Surgery_final, dtype: int64"
      ]
     },
     "execution_count": 47,
     "metadata": {},
     "output_type": "execute_result"
    }
   ],
   "source": [
    "data[\"Surgery_final\"].value_counts()"
   ]
  },
  {
   "cell_type": "code",
   "execution_count": 48,
   "id": "7b7ea14b",
   "metadata": {},
   "outputs": [
    {
     "name": "stdout",
     "output_type": "stream",
     "text": [
      "Median survival time for Radical: 15.05 months\n",
      "Risk table for Radical:\n",
      "           removed  observed  censored  entrance  at_risk\n",
      "event_at                                                 \n",
      "0.000000         0         0         0        43       43\n",
      "0.919937         1         1         0         0       43\n",
      "3.154069         1         1         0         0       42\n",
      "3.942586         1         1         0         0       41\n",
      "4.829668         1         1         0         0       40\n",
      "5.289636         1         1         0         0       39\n",
      "6.275283         1         1         0         0       38\n",
      "6.932381         1         1         0         0       37\n",
      "7.655188         1         1         0         0       36\n",
      "7.950882         1         1         0         0       35\n",
      "8.016592         1         1         0         0       34\n",
      "9.133658         1         1         0         0       33\n",
      "9.330787         1         1         0         0       32\n",
      "9.692191         1         1         0         0       31\n",
      "10.283579        2         2         0         0       30\n",
      "10.349288        1         1         0         0       28\n",
      "10.447853        1         1         0         0       27\n",
      "10.973531        1         1         0         0       26\n",
      "11.926323        1         1         0         0       25\n",
      "14.456149        1         1         0         0       24\n",
      "14.686133        1         1         0         0       23\n",
      "15.047537        1         1         0         0       22\n",
      "15.146102        1         1         0         0       21\n",
      "15.540360        1         1         0         0       20\n",
      "16.328877        1         1         0         0       19\n",
      "16.460297        1         1         0         0       18\n",
      "16.953120        1         1         0         0       17\n",
      "18.135896        1         1         0         0       16\n",
      "18.267316        1         1         0         0       15\n",
      "18.563010        1         1         0         0       14\n",
      "19.877205        1         1         0         0       13\n",
      "20.008624        1         1         0         0       12\n",
      "21.027126        1         1         0         0       11\n",
      "23.162693        1         1         0         0       10\n",
      "24.246904        1         1         0         0        9\n",
      "25.363971        1         1         0         0        8\n",
      "27.170989        1         1         0         0        7\n",
      "27.598103        1         1         0         0        6\n",
      "28.518039        1         1         0         0        5\n",
      "29.010863        1         1         0         0        4\n",
      "30.226493        1         1         0         0        3\n",
      "38.177375        1         1         0         0        2\n",
      "42.448510        1         1         0         0        1\n",
      "Median survival time for No: 5.29 months\n",
      "Risk table for No:\n",
      "           removed  observed  censored  entrance  at_risk\n",
      "event_at                                                 \n",
      "0.000000         0         0         0       249      249\n",
      "0.032855         1         1         0         0      249\n",
      "0.065710         1         1         0         0      248\n",
      "0.098565         1         1         0         0      247\n",
      "0.131420         1         1         0         0      246\n",
      "...            ...       ...       ...       ...      ...\n",
      "27.992361        1         1         0         0        5\n",
      "28.090926        1         1         0         0        4\n",
      "28.715169        1         1         0         0        3\n",
      "29.832235        1         1         0         0        2\n",
      "38.505924        1         1         0         0        1\n",
      "\n",
      "[198 rows x 5 columns]\n",
      "Median survival time for Simple: 9.33 months\n",
      "Risk table for Simple:\n",
      "           removed  observed  censored  entrance  at_risk\n",
      "event_at                                                 \n",
      "0.000000         0         0         0       109      109\n",
      "0.065710         1         1         0         0      109\n",
      "0.854227         1         1         0         0      108\n",
      "1.314195         1         1         0         0      107\n",
      "1.412760         2         2         0         0      106\n",
      "...            ...       ...       ...       ...      ...\n",
      "36.797470        1         1         0         0        5\n",
      "38.144520        1         1         0         0        4\n",
      "40.772911        1         1         0         0        3\n",
      "47.113904        1         1         0         0        2\n",
      "49.216616        1         1         0         0        1\n",
      "\n",
      "[101 rows x 5 columns]\n",
      "Median survival time for Partial: 21.36 months\n",
      "Risk table for Partial:\n",
      "           removed  observed  censored  entrance  at_risk\n",
      "event_at                                                 \n",
      "0.000000         0         0         0         3        3\n",
      "3.318343         1         1         0         0        3\n",
      "21.355675        1         1         0         0        2\n",
      "32.526335        1         1         0         0        1\n",
      "Median survival time for Missing_Data: 4.11 months\n",
      "Risk table for Missing_Data:\n",
      "           removed  observed  censored  entrance  at_risk\n",
      "event_at                                                 \n",
      "0.000000         1         1         0        16       16\n",
      "0.394259         1         1         0         0       15\n",
      "1.051356         1         1         0         0       14\n",
      "1.511325         1         1         0         0       13\n",
      "2.956940         1         1         0         0       12\n",
      "3.581182         2         2         0         0       11\n",
      "4.106861         1         1         0         0        9\n",
      "6.505267         1         1         0         0        8\n",
      "6.735251         1         1         0         0        7\n",
      "8.837964         1         1         0         0        6\n",
      "11.893468        1         1         0         0        5\n",
      "11.959178        1         1         0         0        4\n",
      "12.419146        1         1         0         0        3\n",
      "25.495390        1         1         0         0        2\n",
      "30.357913        1         1         0         0        1\n"
     ]
    },
    {
     "data": {
      "image/png": "[encoded data removed]",
      "text/plain": [
       "<Figure size 640x480 with 1 Axes>"
      ]
     },
     "metadata": {},
     "output_type": "display_data"
    }
   ],
   "source": [
    "import pandas as pd\n",
    "import matplotlib.pyplot as plt\n",
    "from lifelines.utils import survival_table_from_events\n",
    "\n",
    "# data\n",
    "df = data[[\"Surgery_final\", \"Status\", \"Time_overall_study\"]]\n",
    "\n",
    "# Perform Kaplan-Meier survival analysis for each category\n",
    "kmf = KaplanMeierFitter()\n",
    "\n",
    "for category in df[\"Surgery_final\"].unique():\n",
    "    subset = df[df[\"Surgery_final\"] == category]\n",
    "    kmf.fit(subset[\"Time_overall_study\"], event_observed=subset[\"Status\"], label=category)\n",
    "\n",
    "    # Plot the Kaplan-Meier curve\n",
    "    kmf.plot()\n",
    "\n",
    "    # Calculate and print median survival time\n",
    "    median_survival_time = kmf.median_survival_time_\n",
    "    print(f\"Median survival time for {category}: {median_survival_time:.2f} months\")\n",
    "\n",
    "    # Plot censored data points\n",
    "    censored_data = subset[subset[\"Status\"] == 0]\n",
    "    plt.scatter(censored_data[\"Time_overall_study\"], kmf.predict(censored_data[\"Time_overall_study\"]),\n",
    "            marker='x', color='black', s=50, label=f'Censored - {category}')\n",
    "    \n",
    "    # Calculate the risk table\n",
    "    event_table = survival_table_from_events(subset[\"Time_overall_study\"], subset[\"Status\"])\n",
    "    print(f\"Risk table for {category}:\\n{event_table}\")\n",
    "    \n",
    "# Add title and labels to the plot\n",
    "plt.title(\"Kaplan-Meier Survival Analysis w.r.t Surgery Type\")\n",
    "plt.xlabel(\"Time (months)\")\n",
    "plt.ylabel(\"Survival Probability\")\n",
    "plt.legend()\n",
    "\n",
    "# Show the plot\n",
    "plt.show()"
   ]
  },
  {
   "cell_type": "markdown",
   "id": "f928d467",
   "metadata": {},
   "source": [
    "**Since there is only one black cross and that too on the \"green\" curve, it signifies that 1 observation that is censored, belongs to the \" simple cholecystectomy\" category of the \"Tumour_stage_final\" feature.**\n",
    "\n",
    "**Median survival time for No Surgery: 5.29 months**\n",
    "\n",
    "**Median survival time for Simple: 9.89 months**\n",
    "\n",
    "**Median survival time for Radical: 15.05 months**\n",
    "        \n",
    "**Median survival time for Partial: 21.36 months**\n",
    "        \n",
    "**Median survival time for Missing_Data: 4.11 months**"
   ]
  },
  {
   "cell_type": "code",
   "execution_count": 49,
   "id": "087fec63",
   "metadata": {},
   "outputs": [],
   "source": [
    "df = filtered_data[filtered_data[\"Status\"]==\"No\"]"
   ]
  },
  {
   "cell_type": "code",
   "execution_count": 50,
   "id": "68b3c3b1",
   "metadata": {},
   "outputs": [
    {
     "data": {
      "text/plain": [
       "47    Simple\n",
       "Name: Surgery_final, dtype: object"
      ]
     },
     "execution_count": 50,
     "metadata": {},
     "output_type": "execute_result"
    }
   ],
   "source": [
    "df[\"Surgery_final\"]"
   ]
  },
  {
   "cell_type": "markdown",
   "id": "b1a6ea24",
   "metadata": {},
   "source": [
    "**Surgery type for 1 censored observation in our data = \"simple\". Verified.**"
   ]
  }
 ],
 "metadata": {
  "kernelspec": {
   "display_name": "Python 3 (ipykernel)",
   "language": "python",
   "name": "python3"
  },
  "language_info": {
   "codemirror_mode": {
    "name": "ipython",
    "version": 3
   },
   "file_extension": ".py",
   "mimetype": "text/x-python",
   "name": "python",
   "nbconvert_exporter": "python",
   "pygments_lexer": "ipython3",
   "version": "3.10.9"
  }
 },
 "nbformat": 4,
 "nbformat_minor": 5
}
