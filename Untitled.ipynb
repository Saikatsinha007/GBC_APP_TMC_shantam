{
 "cells": [
  {
   "cell_type": "code",
   "execution_count": 1,
   "id": "3a35118c",
   "metadata": {},
   "outputs": [],
   "source": [
    "# Import the required libraries & modules\n",
    "import pandas as pd\n",
    "import numpy as np\n",
    "import matplotlib.pyplot as plt \n",
    "import seaborn as sns\n",
    "%matplotlib inline"
   ]
  },
  {
   "cell_type": "code",
   "execution_count": 2,
   "id": "9e84c424",
   "metadata": {},
   "outputs": [],
   "source": [
    "gbc_patients = pd.read_excel(\"GBC.xlsx\")"
   ]
  },
  {
   "cell_type": "code",
   "execution_count": 3,
   "id": "76959ae9",
   "metadata": {},
   "outputs": [
    {
     "data": {
      "text/html": [
       "<div>\n",
       "<style scoped>\n",
       "    .dataframe tbody tr th:only-of-type {\n",
       "        vertical-align: middle;\n",
       "    }\n",
       "\n",
       "    .dataframe tbody tr th {\n",
       "        vertical-align: top;\n",
       "    }\n",
       "\n",
       "    .dataframe thead th {\n",
       "        text-align: right;\n",
       "    }\n",
       "</style>\n",
       "<table border=\"1\" class=\"dataframe\">\n",
       "  <thead>\n",
       "    <tr style=\"text-align: right;\">\n",
       "      <th></th>\n",
       "      <th>MR_NO</th>\n",
       "      <th>Comorbidities_final</th>\n",
       "      <th>Thyroidism</th>\n",
       "      <th>Diabetes</th>\n",
       "      <th>HTN</th>\n",
       "      <th>Family_cancer_history</th>\n",
       "      <th>ECOG_final</th>\n",
       "      <th>Gall_stone_final</th>\n",
       "      <th>Pathology</th>\n",
       "      <th>Tumour_grade_final</th>\n",
       "      <th>...</th>\n",
       "      <th>ALT - SGPT</th>\n",
       "      <th>ALK PHOS [ALP]</th>\n",
       "      <th>GAMMA GT</th>\n",
       "      <th>ALBUMIN</th>\n",
       "      <th>CREATININE_from_UnC_test</th>\n",
       "      <th>UREA_from_UnC_test</th>\n",
       "      <th>ESTIMATED AVERAGE GLUCOSE (eAG)</th>\n",
       "      <th>HbA1c</th>\n",
       "      <th>CREATININE_from_CREATININE_test</th>\n",
       "      <th>Diabetes_final</th>\n",
       "    </tr>\n",
       "  </thead>\n",
       "  <tbody>\n",
       "    <tr>\n",
       "      <th>0</th>\n",
       "      <td>MR/17/000051</td>\n",
       "      <td>NaN</td>\n",
       "      <td>No</td>\n",
       "      <td>No</td>\n",
       "      <td>Yes</td>\n",
       "      <td>No</td>\n",
       "      <td>1</td>\n",
       "      <td>Yes</td>\n",
       "      <td>Adenocarcinoma</td>\n",
       "      <td>Grade 3</td>\n",
       "      <td>...</td>\n",
       "      <td>28.0</td>\n",
       "      <td>147.0</td>\n",
       "      <td>21.0</td>\n",
       "      <td>4.7</td>\n",
       "      <td>NaN</td>\n",
       "      <td>NaN</td>\n",
       "      <td>137.0</td>\n",
       "      <td>6.4</td>\n",
       "      <td>0.64</td>\n",
       "      <td>Yes</td>\n",
       "    </tr>\n",
       "    <tr>\n",
       "      <th>1</th>\n",
       "      <td>MR/17/000165</td>\n",
       "      <td>NaN</td>\n",
       "      <td>No</td>\n",
       "      <td>No</td>\n",
       "      <td>No</td>\n",
       "      <td>No</td>\n",
       "      <td>Not known</td>\n",
       "      <td>No</td>\n",
       "      <td>Adenocarcinoma</td>\n",
       "      <td>Grade X</td>\n",
       "      <td>...</td>\n",
       "      <td>27.0</td>\n",
       "      <td>83.0</td>\n",
       "      <td>76.0</td>\n",
       "      <td>3.4</td>\n",
       "      <td>NaN</td>\n",
       "      <td>NaN</td>\n",
       "      <td>NaN</td>\n",
       "      <td>NaN</td>\n",
       "      <td>NaN</td>\n",
       "      <td>No</td>\n",
       "    </tr>\n",
       "    <tr>\n",
       "      <th>2</th>\n",
       "      <td>MR/17/000504</td>\n",
       "      <td>NaN</td>\n",
       "      <td>Hypothyroidism</td>\n",
       "      <td>Yes</td>\n",
       "      <td>Yes</td>\n",
       "      <td>Not known</td>\n",
       "      <td>Not known</td>\n",
       "      <td>Not known</td>\n",
       "      <td>Adenocarcinoma</td>\n",
       "      <td>Grade 3</td>\n",
       "      <td>...</td>\n",
       "      <td>NaN</td>\n",
       "      <td>NaN</td>\n",
       "      <td>NaN</td>\n",
       "      <td>NaN</td>\n",
       "      <td>NaN</td>\n",
       "      <td>NaN</td>\n",
       "      <td>NaN</td>\n",
       "      <td>NaN</td>\n",
       "      <td>NaN</td>\n",
       "      <td>Yes</td>\n",
       "    </tr>\n",
       "    <tr>\n",
       "      <th>3</th>\n",
       "      <td>MR/17/000600</td>\n",
       "      <td>NaN</td>\n",
       "      <td>No</td>\n",
       "      <td>No</td>\n",
       "      <td>Yes</td>\n",
       "      <td>No</td>\n",
       "      <td>1</td>\n",
       "      <td>No</td>\n",
       "      <td>Adenocarcinoma</td>\n",
       "      <td>Grade X</td>\n",
       "      <td>...</td>\n",
       "      <td>98.0</td>\n",
       "      <td>481.0</td>\n",
       "      <td>83.0</td>\n",
       "      <td>4.1</td>\n",
       "      <td>NaN</td>\n",
       "      <td>NaN</td>\n",
       "      <td>117.0</td>\n",
       "      <td>5.7</td>\n",
       "      <td>1.08</td>\n",
       "      <td>Yes</td>\n",
       "    </tr>\n",
       "    <tr>\n",
       "      <th>4</th>\n",
       "      <td>MR/17/000665</td>\n",
       "      <td>NaN</td>\n",
       "      <td>No</td>\n",
       "      <td>No</td>\n",
       "      <td>No</td>\n",
       "      <td>No</td>\n",
       "      <td>1</td>\n",
       "      <td>Not known</td>\n",
       "      <td>Adenocarcinoma</td>\n",
       "      <td>Grade X</td>\n",
       "      <td>...</td>\n",
       "      <td>78.0</td>\n",
       "      <td>206.0</td>\n",
       "      <td>481.0</td>\n",
       "      <td>3.2</td>\n",
       "      <td>NaN</td>\n",
       "      <td>NaN</td>\n",
       "      <td>NaN</td>\n",
       "      <td>NaN</td>\n",
       "      <td>0.60</td>\n",
       "      <td>No</td>\n",
       "    </tr>\n",
       "  </tbody>\n",
       "</table>\n",
       "<p>5 rows × 50 columns</p>\n",
       "</div>"
      ],
      "text/plain": [
       "          MR_NO Comorbidities_final      Thyroidism Diabetes  HTN  \\\n",
       "0  MR/17/000051                 NaN              No       No  Yes   \n",
       "1  MR/17/000165                 NaN              No       No   No   \n",
       "2  MR/17/000504                 NaN  Hypothyroidism      Yes  Yes   \n",
       "3  MR/17/000600                 NaN              No       No  Yes   \n",
       "4  MR/17/000665                 NaN              No       No   No   \n",
       "\n",
       "  Family_cancer_history ECOG_final Gall_stone_final       Pathology  \\\n",
       "0                    No          1              Yes  Adenocarcinoma   \n",
       "1                    No  Not known               No  Adenocarcinoma   \n",
       "2             Not known  Not known        Not known  Adenocarcinoma   \n",
       "3                    No          1               No  Adenocarcinoma   \n",
       "4                    No          1        Not known  Adenocarcinoma   \n",
       "\n",
       "  Tumour_grade_final  ... ALT - SGPT ALK PHOS [ALP] GAMMA GT ALBUMIN  \\\n",
       "0            Grade 3  ...       28.0          147.0     21.0     4.7   \n",
       "1            Grade X  ...       27.0           83.0     76.0     3.4   \n",
       "2            Grade 3  ...        NaN            NaN      NaN     NaN   \n",
       "3            Grade X  ...       98.0          481.0     83.0     4.1   \n",
       "4            Grade X  ...       78.0          206.0    481.0     3.2   \n",
       "\n",
       "  CREATININE_from_UnC_test UREA_from_UnC_test ESTIMATED AVERAGE GLUCOSE (eAG)  \\\n",
       "0                      NaN                NaN                           137.0   \n",
       "1                      NaN                NaN                             NaN   \n",
       "2                      NaN                NaN                             NaN   \n",
       "3                      NaN                NaN                           117.0   \n",
       "4                      NaN                NaN                             NaN   \n",
       "\n",
       "  HbA1c CREATININE_from_CREATININE_test Diabetes_final  \n",
       "0   6.4                            0.64            Yes  \n",
       "1   NaN                             NaN             No  \n",
       "2   NaN                             NaN            Yes  \n",
       "3   5.7                            1.08            Yes  \n",
       "4   NaN                            0.60             No  \n",
       "\n",
       "[5 rows x 50 columns]"
      ]
     },
     "execution_count": 3,
     "metadata": {},
     "output_type": "execute_result"
    }
   ],
   "source": [
    "gbc_patients.head()"
   ]
  },
  {
   "cell_type": "code",
   "execution_count": 4,
   "id": "d5d9c657",
   "metadata": {},
   "outputs": [
    {
     "data": {
      "text/plain": [
       "(698, 50)"
      ]
     },
     "execution_count": 4,
     "metadata": {},
     "output_type": "execute_result"
    }
   ],
   "source": [
    "gbc_patients.shape"
   ]
  },
  {
   "cell_type": "code",
   "execution_count": 5,
   "id": "6b677a8f",
   "metadata": {},
   "outputs": [
    {
     "data": {
      "text/plain": [
       "Index(['MR_NO', 'Comorbidities_final', 'Thyroidism', 'Diabetes', 'HTN',\n",
       "       'Family_cancer_history', 'ECOG_final', 'Gall_stone_final', 'Pathology',\n",
       "       'Tumour_grade_final', 'Cancer_presentation_final', 'Tumour_stage_final',\n",
       "       'TNM_classification', 'Metastasis_final', 'Site_metastasis',\n",
       "       'Mets_site_final', 'Cholecystectomy_TMC', 'Outside_cholecystectomy',\n",
       "       'Surgery_final', 'Treatment_final', 'Treatment_clean', 'Treatment',\n",
       "       'Status', 'Date_event', 'Date_diagnosis', 'AGE', 'GENDER', 'COUNTRY',\n",
       "       'STATE_NAME', 'CITY_NAME', 'PINCODE', 'First_Visit_Date', 'HEIGHT',\n",
       "       'WEIGHT', 'BSA_DETAILS', 'BMI_DETAILS', 'BILIRUBIN CONJUGATED',\n",
       "       'BILIRUBIN UNCONJUGATED', 'BILIRUBIN TOTAL', 'AST - SGOT', 'ALT - SGPT',\n",
       "       'ALK PHOS [ALP]', 'GAMMA GT', 'ALBUMIN', 'CREATININE_from_UnC_test',\n",
       "       'UREA_from_UnC_test', 'ESTIMATED AVERAGE GLUCOSE (eAG)', 'HbA1c',\n",
       "       'CREATININE_from_CREATININE_test', 'Diabetes_final'],\n",
       "      dtype='object')"
      ]
     },
     "execution_count": 5,
     "metadata": {},
     "output_type": "execute_result"
    }
   ],
   "source": [
    "gbc_patients.columns"
   ]
  },
  {
   "cell_type": "code",
   "execution_count": 6,
   "id": "5a6098c9",
   "metadata": {},
   "outputs": [
    {
     "data": {
      "text/html": [
       "<div>\n",
       "<style scoped>\n",
       "    .dataframe tbody tr th:only-of-type {\n",
       "        vertical-align: middle;\n",
       "    }\n",
       "\n",
       "    .dataframe tbody tr th {\n",
       "        vertical-align: top;\n",
       "    }\n",
       "\n",
       "    .dataframe thead th {\n",
       "        text-align: right;\n",
       "    }\n",
       "</style>\n",
       "<table border=\"1\" class=\"dataframe\">\n",
       "  <thead>\n",
       "    <tr style=\"text-align: right;\">\n",
       "      <th></th>\n",
       "      <th>AGE</th>\n",
       "      <th>PINCODE</th>\n",
       "      <th>HEIGHT</th>\n",
       "      <th>WEIGHT</th>\n",
       "      <th>BSA_DETAILS</th>\n",
       "      <th>BMI_DETAILS</th>\n",
       "      <th>BILIRUBIN CONJUGATED</th>\n",
       "      <th>BILIRUBIN UNCONJUGATED</th>\n",
       "      <th>BILIRUBIN TOTAL</th>\n",
       "      <th>AST - SGOT</th>\n",
       "      <th>ALT - SGPT</th>\n",
       "      <th>ALK PHOS [ALP]</th>\n",
       "      <th>GAMMA GT</th>\n",
       "      <th>ALBUMIN</th>\n",
       "      <th>CREATININE_from_UnC_test</th>\n",
       "      <th>UREA_from_UnC_test</th>\n",
       "      <th>ESTIMATED AVERAGE GLUCOSE (eAG)</th>\n",
       "      <th>HbA1c</th>\n",
       "      <th>CREATININE_from_CREATININE_test</th>\n",
       "    </tr>\n",
       "  </thead>\n",
       "  <tbody>\n",
       "    <tr>\n",
       "      <th>count</th>\n",
       "      <td>698.000000</td>\n",
       "      <td>615.000000</td>\n",
       "      <td>566.000000</td>\n",
       "      <td>566.000000</td>\n",
       "      <td>566.000000</td>\n",
       "      <td>566.000000</td>\n",
       "      <td>425.000000</td>\n",
       "      <td>425.000000</td>\n",
       "      <td>425.000000</td>\n",
       "      <td>425.000000</td>\n",
       "      <td>424.000000</td>\n",
       "      <td>425.000000</td>\n",
       "      <td>423.000000</td>\n",
       "      <td>424.000000</td>\n",
       "      <td>21.000000</td>\n",
       "      <td>21.000000</td>\n",
       "      <td>80.0000</td>\n",
       "      <td>80.000000</td>\n",
       "      <td>180.000000</td>\n",
       "    </tr>\n",
       "    <tr>\n",
       "      <th>mean</th>\n",
       "      <td>57.393983</td>\n",
       "      <td>723308.866667</td>\n",
       "      <td>134.275795</td>\n",
       "      <td>51.425972</td>\n",
       "      <td>1.339470</td>\n",
       "      <td>24.186466</td>\n",
       "      <td>1.351529</td>\n",
       "      <td>0.676000</td>\n",
       "      <td>3.504000</td>\n",
       "      <td>89.051765</td>\n",
       "      <td>76.007075</td>\n",
       "      <td>354.828235</td>\n",
       "      <td>317.969267</td>\n",
       "      <td>3.831604</td>\n",
       "      <td>0.753333</td>\n",
       "      <td>25.238095</td>\n",
       "      <td>133.3250</td>\n",
       "      <td>6.322500</td>\n",
       "      <td>0.704000</td>\n",
       "    </tr>\n",
       "    <tr>\n",
       "      <th>std</th>\n",
       "      <td>11.026423</td>\n",
       "      <td>105826.572552</td>\n",
       "      <td>52.825245</td>\n",
       "      <td>19.299532</td>\n",
       "      <td>0.550452</td>\n",
       "      <td>92.539473</td>\n",
       "      <td>3.180498</td>\n",
       "      <td>0.604923</td>\n",
       "      <td>5.890535</td>\n",
       "      <td>145.464439</td>\n",
       "      <td>82.182392</td>\n",
       "      <td>376.593452</td>\n",
       "      <td>463.170903</td>\n",
       "      <td>0.620372</td>\n",
       "      <td>0.279935</td>\n",
       "      <td>13.721898</td>\n",
       "      <td>40.4252</td>\n",
       "      <td>1.425533</td>\n",
       "      <td>0.178124</td>\n",
       "    </tr>\n",
       "    <tr>\n",
       "      <th>min</th>\n",
       "      <td>20.000000</td>\n",
       "      <td>55.000000</td>\n",
       "      <td>0.000000</td>\n",
       "      <td>0.000000</td>\n",
       "      <td>0.000000</td>\n",
       "      <td>0.000000</td>\n",
       "      <td>0.000000</td>\n",
       "      <td>0.000000</td>\n",
       "      <td>0.100000</td>\n",
       "      <td>12.000000</td>\n",
       "      <td>7.000000</td>\n",
       "      <td>44.000000</td>\n",
       "      <td>11.000000</td>\n",
       "      <td>1.800000</td>\n",
       "      <td>0.390000</td>\n",
       "      <td>7.000000</td>\n",
       "      <td>65.0000</td>\n",
       "      <td>3.900000</td>\n",
       "      <td>0.380000</td>\n",
       "    </tr>\n",
       "    <tr>\n",
       "      <th>25%</th>\n",
       "      <td>50.000000</td>\n",
       "      <td>700124.000000</td>\n",
       "      <td>145.000000</td>\n",
       "      <td>45.750000</td>\n",
       "      <td>1.350000</td>\n",
       "      <td>18.850000</td>\n",
       "      <td>0.000000</td>\n",
       "      <td>0.300000</td>\n",
       "      <td>0.500000</td>\n",
       "      <td>31.000000</td>\n",
       "      <td>30.000000</td>\n",
       "      <td>115.000000</td>\n",
       "      <td>47.500000</td>\n",
       "      <td>3.500000</td>\n",
       "      <td>0.570000</td>\n",
       "      <td>18.000000</td>\n",
       "      <td>108.0000</td>\n",
       "      <td>5.400000</td>\n",
       "      <td>0.580000</td>\n",
       "    </tr>\n",
       "    <tr>\n",
       "      <th>50%</th>\n",
       "      <td>58.000000</td>\n",
       "      <td>721636.000000</td>\n",
       "      <td>151.500000</td>\n",
       "      <td>53.350000</td>\n",
       "      <td>1.490000</td>\n",
       "      <td>22.045000</td>\n",
       "      <td>0.000000</td>\n",
       "      <td>0.500000</td>\n",
       "      <td>0.800000</td>\n",
       "      <td>51.000000</td>\n",
       "      <td>49.000000</td>\n",
       "      <td>221.000000</td>\n",
       "      <td>140.000000</td>\n",
       "      <td>3.950000</td>\n",
       "      <td>0.700000</td>\n",
       "      <td>21.000000</td>\n",
       "      <td>124.0000</td>\n",
       "      <td>6.050000</td>\n",
       "      <td>0.670000</td>\n",
       "    </tr>\n",
       "    <tr>\n",
       "      <th>75%</th>\n",
       "      <td>65.000000</td>\n",
       "      <td>743362.500000</td>\n",
       "      <td>160.000000</td>\n",
       "      <td>62.000000</td>\n",
       "      <td>1.640000</td>\n",
       "      <td>25.372500</td>\n",
       "      <td>0.000000</td>\n",
       "      <td>0.900000</td>\n",
       "      <td>3.000000</td>\n",
       "      <td>92.000000</td>\n",
       "      <td>88.000000</td>\n",
       "      <td>445.000000</td>\n",
       "      <td>411.500000</td>\n",
       "      <td>4.300000</td>\n",
       "      <td>0.790000</td>\n",
       "      <td>28.000000</td>\n",
       "      <td>146.0000</td>\n",
       "      <td>7.125000</td>\n",
       "      <td>0.790000</td>\n",
       "    </tr>\n",
       "    <tr>\n",
       "      <th>max</th>\n",
       "      <td>90.000000</td>\n",
       "      <td>854326.000000</td>\n",
       "      <td>178.000000</td>\n",
       "      <td>100.800000</td>\n",
       "      <td>2.220000</td>\n",
       "      <td>2211.650000</td>\n",
       "      <td>20.200000</td>\n",
       "      <td>3.000000</td>\n",
       "      <td>33.400000</td>\n",
       "      <td>2203.000000</td>\n",
       "      <td>779.000000</td>\n",
       "      <td>2740.000000</td>\n",
       "      <td>3776.000000</td>\n",
       "      <td>5.000000</td>\n",
       "      <td>1.410000</td>\n",
       "      <td>67.000000</td>\n",
       "      <td>258.0000</td>\n",
       "      <td>10.600000</td>\n",
       "      <td>1.460000</td>\n",
       "    </tr>\n",
       "  </tbody>\n",
       "</table>\n",
       "</div>"
      ],
      "text/plain": [
       "              AGE        PINCODE      HEIGHT      WEIGHT  BSA_DETAILS  \\\n",
       "count  698.000000     615.000000  566.000000  566.000000   566.000000   \n",
       "mean    57.393983  723308.866667  134.275795   51.425972     1.339470   \n",
       "std     11.026423  105826.572552   52.825245   19.299532     0.550452   \n",
       "min     20.000000      55.000000    0.000000    0.000000     0.000000   \n",
       "25%     50.000000  700124.000000  145.000000   45.750000     1.350000   \n",
       "50%     58.000000  721636.000000  151.500000   53.350000     1.490000   \n",
       "75%     65.000000  743362.500000  160.000000   62.000000     1.640000   \n",
       "max     90.000000  854326.000000  178.000000  100.800000     2.220000   \n",
       "\n",
       "       BMI_DETAILS  BILIRUBIN CONJUGATED  BILIRUBIN UNCONJUGATED  \\\n",
       "count   566.000000            425.000000              425.000000   \n",
       "mean     24.186466              1.351529                0.676000   \n",
       "std      92.539473              3.180498                0.604923   \n",
       "min       0.000000              0.000000                0.000000   \n",
       "25%      18.850000              0.000000                0.300000   \n",
       "50%      22.045000              0.000000                0.500000   \n",
       "75%      25.372500              0.000000                0.900000   \n",
       "max    2211.650000             20.200000                3.000000   \n",
       "\n",
       "       BILIRUBIN TOTAL   AST - SGOT  ALT - SGPT  ALK PHOS [ALP]     GAMMA GT  \\\n",
       "count       425.000000   425.000000  424.000000      425.000000   423.000000   \n",
       "mean          3.504000    89.051765   76.007075      354.828235   317.969267   \n",
       "std           5.890535   145.464439   82.182392      376.593452   463.170903   \n",
       "min           0.100000    12.000000    7.000000       44.000000    11.000000   \n",
       "25%           0.500000    31.000000   30.000000      115.000000    47.500000   \n",
       "50%           0.800000    51.000000   49.000000      221.000000   140.000000   \n",
       "75%           3.000000    92.000000   88.000000      445.000000   411.500000   \n",
       "max          33.400000  2203.000000  779.000000     2740.000000  3776.000000   \n",
       "\n",
       "          ALBUMIN  CREATININE_from_UnC_test  UREA_from_UnC_test  \\\n",
       "count  424.000000                 21.000000           21.000000   \n",
       "mean     3.831604                  0.753333           25.238095   \n",
       "std      0.620372                  0.279935           13.721898   \n",
       "min      1.800000                  0.390000            7.000000   \n",
       "25%      3.500000                  0.570000           18.000000   \n",
       "50%      3.950000                  0.700000           21.000000   \n",
       "75%      4.300000                  0.790000           28.000000   \n",
       "max      5.000000                  1.410000           67.000000   \n",
       "\n",
       "       ESTIMATED AVERAGE GLUCOSE (eAG)      HbA1c  \\\n",
       "count                          80.0000  80.000000   \n",
       "mean                          133.3250   6.322500   \n",
       "std                            40.4252   1.425533   \n",
       "min                            65.0000   3.900000   \n",
       "25%                           108.0000   5.400000   \n",
       "50%                           124.0000   6.050000   \n",
       "75%                           146.0000   7.125000   \n",
       "max                           258.0000  10.600000   \n",
       "\n",
       "       CREATININE_from_CREATININE_test  \n",
       "count                       180.000000  \n",
       "mean                          0.704000  \n",
       "std                           0.178124  \n",
       "min                           0.380000  \n",
       "25%                           0.580000  \n",
       "50%                           0.670000  \n",
       "75%                           0.790000  \n",
       "max                           1.460000  "
      ]
     },
     "execution_count": 6,
     "metadata": {},
     "output_type": "execute_result"
    }
   ],
   "source": [
    "gbc_patients.describe()"
   ]
  },
  {
   "cell_type": "code",
   "execution_count": 7,
   "id": "27957169",
   "metadata": {},
   "outputs": [
    {
     "name": "stdout",
     "output_type": "stream",
     "text": [
      "<class 'pandas.core.frame.DataFrame'>\n",
      "RangeIndex: 698 entries, 0 to 697\n",
      "Data columns (total 50 columns):\n",
      " #   Column                           Non-Null Count  Dtype         \n",
      "---  ------                           --------------  -----         \n",
      " 0   MR_NO                            698 non-null    object        \n",
      " 1   Comorbidities_final              566 non-null    object        \n",
      " 2   Thyroidism                       657 non-null    object        \n",
      " 3   Diabetes                         659 non-null    object        \n",
      " 4   HTN                              659 non-null    object        \n",
      " 5   Family_cancer_history            657 non-null    object        \n",
      " 6   ECOG_final                       660 non-null    object        \n",
      " 7   Gall_stone_final                 657 non-null    object        \n",
      " 8   Pathology                        698 non-null    object        \n",
      " 9   Tumour_grade_final               646 non-null    object        \n",
      " 10  Cancer_presentation_final        642 non-null    object        \n",
      " 11  Tumour_stage_final               620 non-null    object        \n",
      " 12  TNM_classification               618 non-null    object        \n",
      " 13  Metastasis_final                 632 non-null    object        \n",
      " 14  Site_metastasis                  533 non-null    object        \n",
      " 15  Mets_site_final                  630 non-null    object        \n",
      " 16  Cholecystectomy_TMC              489 non-null    object        \n",
      " 17  Outside_cholecystectomy          657 non-null    object        \n",
      " 18  Surgery_final                    660 non-null    object        \n",
      " 19  Treatment_final                  642 non-null    object        \n",
      " 20  Treatment_clean                  630 non-null    object        \n",
      " 21  Treatment                        630 non-null    object        \n",
      " 22  Status                           584 non-null    object        \n",
      " 23  Date_event                       434 non-null    datetime64[ns]\n",
      " 24  Date_diagnosis                   653 non-null    datetime64[ns]\n",
      " 25  AGE                              698 non-null    int64         \n",
      " 26  GENDER                           698 non-null    object        \n",
      " 27  COUNTRY                          698 non-null    object        \n",
      " 28  STATE_NAME                       698 non-null    object        \n",
      " 29  CITY_NAME                        698 non-null    object        \n",
      " 30  PINCODE                          615 non-null    float64       \n",
      " 31  First_Visit_Date                 566 non-null    datetime64[ns]\n",
      " 32  HEIGHT                           566 non-null    float64       \n",
      " 33  WEIGHT                           566 non-null    float64       \n",
      " 34  BSA_DETAILS                      566 non-null    float64       \n",
      " 35  BMI_DETAILS                      566 non-null    float64       \n",
      " 36  BILIRUBIN CONJUGATED             425 non-null    float64       \n",
      " 37  BILIRUBIN UNCONJUGATED           425 non-null    float64       \n",
      " 38  BILIRUBIN TOTAL                  425 non-null    float64       \n",
      " 39  AST - SGOT                       425 non-null    float64       \n",
      " 40  ALT - SGPT                       424 non-null    float64       \n",
      " 41  ALK PHOS [ALP]                   425 non-null    float64       \n",
      " 42  GAMMA GT                         423 non-null    float64       \n",
      " 43  ALBUMIN                          424 non-null    float64       \n",
      " 44  CREATININE_from_UnC_test         21 non-null     float64       \n",
      " 45  UREA_from_UnC_test               21 non-null     float64       \n",
      " 46  ESTIMATED AVERAGE GLUCOSE (eAG)  80 non-null     float64       \n",
      " 47  HbA1c                            80 non-null     float64       \n",
      " 48  CREATININE_from_CREATININE_test  180 non-null    float64       \n",
      " 49  Diabetes_final                   659 non-null    object        \n",
      "dtypes: datetime64[ns](3), float64(18), int64(1), object(28)\n",
      "memory usage: 272.8+ KB\n"
     ]
    }
   ],
   "source": [
    "gbc_patients.info()"
   ]
  },
  {
   "cell_type": "code",
   "execution_count": 8,
   "id": "0364d924",
   "metadata": {},
   "outputs": [
    {
     "data": {
      "text/plain": [
       "Dead         460\n",
       "Not Known     63\n",
       "Alive         34\n",
       "Live          26\n",
       "No             1\n",
       "Name: Status, dtype: int64"
      ]
     },
     "execution_count": 8,
     "metadata": {},
     "output_type": "execute_result"
    }
   ],
   "source": [
    "gbc_patients.Status.value_counts()"
   ]
  },
  {
   "cell_type": "code",
   "execution_count": 9,
   "id": "ae5c62c5",
   "metadata": {},
   "outputs": [
    {
     "data": {
      "text/plain": [
       "MR_NO                                0\n",
       "Comorbidities_final                132\n",
       "Thyroidism                          41\n",
       "Diabetes                            39\n",
       "HTN                                 39\n",
       "Family_cancer_history               41\n",
       "ECOG_final                          38\n",
       "Gall_stone_final                    41\n",
       "Pathology                            0\n",
       "Tumour_grade_final                  52\n",
       "Cancer_presentation_final           56\n",
       "Tumour_stage_final                  78\n",
       "TNM_classification                  80\n",
       "Metastasis_final                    66\n",
       "Site_metastasis                    165\n",
       "Mets_site_final                     68\n",
       "Cholecystectomy_TMC                209\n",
       "Outside_cholecystectomy             41\n",
       "Surgery_final                       38\n",
       "Treatment_final                     56\n",
       "Treatment_clean                     68\n",
       "Treatment                           68\n",
       "Status                             114\n",
       "Date_event                         264\n",
       "Date_diagnosis                      45\n",
       "AGE                                  0\n",
       "GENDER                               0\n",
       "COUNTRY                              0\n",
       "STATE_NAME                           0\n",
       "CITY_NAME                            0\n",
       "PINCODE                             83\n",
       "First_Visit_Date                   132\n",
       "HEIGHT                             132\n",
       "WEIGHT                             132\n",
       "BSA_DETAILS                        132\n",
       "BMI_DETAILS                        132\n",
       "BILIRUBIN CONJUGATED               273\n",
       "BILIRUBIN UNCONJUGATED             273\n",
       "BILIRUBIN TOTAL                    273\n",
       "AST - SGOT                         273\n",
       "ALT - SGPT                         274\n",
       "ALK PHOS [ALP]                     273\n",
       "GAMMA GT                           275\n",
       "ALBUMIN                            274\n",
       "CREATININE_from_UnC_test           677\n",
       "UREA_from_UnC_test                 677\n",
       "ESTIMATED AVERAGE GLUCOSE (eAG)    618\n",
       "HbA1c                              618\n",
       "CREATININE_from_CREATININE_test    518\n",
       "Diabetes_final                      39\n",
       "dtype: int64"
      ]
     },
     "execution_count": 9,
     "metadata": {},
     "output_type": "execute_result"
    }
   ],
   "source": [
    "gbc_patients.isnull().sum()"
   ]
  },
  {
   "cell_type": "code",
   "execution_count": 10,
   "id": "7bbaca86",
   "metadata": {},
   "outputs": [
    {
     "name": "stdout",
     "output_type": "stream",
     "text": [
      "Median Age: 58.0\n"
     ]
    }
   ],
   "source": [
    "median_age = np.median(gbc_patients[\"AGE\"])\n",
    "\n",
    "print(\"Median Age:\", median_age)"
   ]
  },
  {
   "cell_type": "code",
   "execution_count": 11,
   "id": "bee932c0",
   "metadata": {},
   "outputs": [],
   "source": [
    "#copycat data\n",
    "df= gbc_patients.copy()"
   ]
  },
  {
   "cell_type": "markdown",
   "id": "be887014",
   "metadata": {},
   "source": [
    "### Filtering out the data on the basis of defined - 'Status', 'Date_event', 'Date_diagnosis'"
   ]
  },
  {
   "cell_type": "code",
   "execution_count": 12,
   "id": "3c82ca45",
   "metadata": {},
   "outputs": [
    {
     "data": {
      "text/plain": [
       "Dead    425\n",
       "No        1\n",
       "Name: Status, dtype: int64"
      ]
     },
     "execution_count": 12,
     "metadata": {},
     "output_type": "execute_result"
    }
   ],
   "source": [
    "#subset= ['Status', 'Date_event'] = 434\n",
    "#subset= ['Status', 'Date_diagnosis'] = 566\n",
    "#subset= ['Date_event', 'Date_diagnosis'] = 426\n",
    "#cleaned_data = df.dropna(subset=[ 'Status','Date_event'])\n",
    "\n",
    "filtered_data = df.dropna(subset=[ 'Status','Date_event', 'Date_diagnosis'])\n",
    "filtered_data.shape\n",
    "filtered_data[\"Status\"].value_counts()"
   ]
  },
  {
   "cell_type": "markdown",
   "id": "0587d644",
   "metadata": {},
   "source": [
    "#### 426 obsevations and 50 features are there in our Filtered Data"
   ]
  },
  {
   "cell_type": "code",
   "execution_count": 13,
   "id": "34e3ccb0",
   "metadata": {},
   "outputs": [],
   "source": [
    "#cleaned_data[[\"Status\", \"Date_event\"]].head(30)"
   ]
  },
  {
   "cell_type": "code",
   "execution_count": 14,
   "id": "144d9b94",
   "metadata": {},
   "outputs": [],
   "source": [
    "#cleaned_data.nunique()"
   ]
  },
  {
   "cell_type": "code",
   "execution_count": 15,
   "id": "9c463cdd",
   "metadata": {},
   "outputs": [],
   "source": [
    "#filtered_data = df[df['Date_event'].notna()]\n",
    "\n",
    "# Print the filtered DataFrame\n",
    "#print(filtered_data.shape)"
   ]
  },
  {
   "cell_type": "code",
   "execution_count": 16,
   "id": "359468c0",
   "metadata": {},
   "outputs": [
    {
     "data": {
      "text/plain": [
       "'\\n# Compare shapes (number of rows and columns)\\nif cleaned_data.shape == filtered_data.shape:\\n    # Check if column names are the same\\n    if all(cleaned_data.columns == filtered_data.columns):\\n        print(\"The DataFrames have the same features and rows.\")\\n    else:\\n        print(\"The DataFrames have the same number of rows but different features.\")\\nelse:\\n    print(\"The DataFrames have different shapes (rows and/or columns).\")\\n'"
      ]
     },
     "execution_count": 16,
     "metadata": {},
     "output_type": "execute_result"
    }
   ],
   "source": [
    "'''\n",
    "# Compare shapes (number of rows and columns)\n",
    "if cleaned_data.shape == filtered_data.shape:\n",
    "    # Check if column names are the same\n",
    "    if all(cleaned_data.columns == filtered_data.columns):\n",
    "        print(\"The DataFrames have the same features and rows.\")\n",
    "    else:\n",
    "        print(\"The DataFrames have the same number of rows but different features.\")\n",
    "else:\n",
    "    print(\"The DataFrames have different shapes (rows and/or columns).\")\n",
    "'''"
   ]
  },
  {
   "cell_type": "markdown",
   "id": "146f6996",
   "metadata": {},
   "source": [
    "### Missing Values"
   ]
  },
  {
   "cell_type": "code",
   "execution_count": 17,
   "id": "d6a3a87f",
   "metadata": {},
   "outputs": [
    {
     "name": "stdout",
     "output_type": "stream",
     "text": [
      "Total NULL Values in each columns\n",
      "**************************************\n",
      "MR_NO                                0\n",
      "Comorbidities_final                 74\n",
      "Thyroidism                          19\n",
      "Diabetes                            17\n",
      "HTN                                 17\n",
      "Family_cancer_history               19\n",
      "ECOG_final                          16\n",
      "Gall_stone_final                    18\n",
      "Pathology                            0\n",
      "Tumour_grade_final                  22\n",
      "Cancer_presentation_final           25\n",
      "Tumour_stage_final                  41\n",
      "TNM_classification                  43\n",
      "Metastasis_final                    27\n",
      "Site_metastasis                     80\n",
      "Mets_site_final                     28\n",
      "Cholecystectomy_TMC                129\n",
      "Outside_cholecystectomy             19\n",
      "Surgery_final                       16\n",
      "Treatment_final                     31\n",
      "Treatment_clean                     34\n",
      "Treatment                           34\n",
      "Status                               0\n",
      "Date_event                           0\n",
      "Date_diagnosis                       0\n",
      "AGE                                  0\n",
      "GENDER                               0\n",
      "COUNTRY                              0\n",
      "STATE_NAME                           0\n",
      "CITY_NAME                            0\n",
      "PINCODE                              8\n",
      "First_Visit_Date                    76\n",
      "HEIGHT                              76\n",
      "WEIGHT                              76\n",
      "BSA_DETAILS                         76\n",
      "BMI_DETAILS                         76\n",
      "BILIRUBIN CONJUGATED               153\n",
      "BILIRUBIN UNCONJUGATED             153\n",
      "BILIRUBIN TOTAL                    153\n",
      "AST - SGOT                         153\n",
      "ALT - SGPT                         154\n",
      "ALK PHOS [ALP]                     153\n",
      "GAMMA GT                           154\n",
      "ALBUMIN                            153\n",
      "CREATININE_from_UnC_test           413\n",
      "UREA_from_UnC_test                 413\n",
      "ESTIMATED AVERAGE GLUCOSE (eAG)    379\n",
      "HbA1c                              379\n",
      "CREATININE_from_CREATININE_test    308\n",
      "Diabetes_final                      17\n",
      "dtype: int64\n"
     ]
    }
   ],
   "source": [
    "# Check the total missing values in each column.\n",
    "print(\"Total NULL Values in each columns\")\n",
    "print(\"**************************************\")\n",
    "print(filtered_data.isnull().sum())"
   ]
  },
  {
   "cell_type": "markdown",
   "id": "f524b83b",
   "metadata": {},
   "source": [
    "***Data contains a lot of missing values in many columns***"
   ]
  },
  {
   "cell_type": "code",
   "execution_count": 18,
   "id": "1db0ac07",
   "metadata": {},
   "outputs": [],
   "source": [
    "\n",
    "import pandas as pd\n",
    "from datetime import datetime\n",
    "\n",
    "# Assuming your DataFrame is named 'data' and the datetime column is 'Date_event'\n",
    "# Replace these with your actual DataFrame and column names\n",
    "\n",
    "# Convert the date string to datetime format\n",
    "#df['Date_event'] = pd.to_datetime(df['Date_event'])\n",
    "\n",
    "#filtered_data1 = df[df['Date_event'] < datetime(2019, 12, 31)]\n",
    "\n",
    "# Filter rows where 'Date_event' is less than December 31, 2019\n",
    "#filtered_data2 = df[df['Date_diagnosis'] < datetime(2019, 12, 31)]\n",
    "\n",
    "# Print the filtered DataFrame\n",
    "#print(filtered_data1.shape)\n",
    "#print(filtered_data2.shape)\n",
    "\n",
    "# Define start and end dates\n",
    "#start_date = pd.Timestamp('2017-01-01')\n",
    "#end_date = pd.Timestamp('2019-12-31')\n",
    "\n",
    "# Extract data between start and end dates based on date of diagnosis\n",
    "#filtered_data3 = filtered_data[(filtered_data['Date_diagnosis'] >= start_date) & (filtered_data['Date_diagnosis'] <= end_date)]\n",
    "#filtered_data3.shape"
   ]
  },
  {
   "cell_type": "code",
   "execution_count": 19,
   "id": "256ddbd6",
   "metadata": {},
   "outputs": [
    {
     "data": {
      "text/html": [
       "<div>\n",
       "<style scoped>\n",
       "    .dataframe tbody tr th:only-of-type {\n",
       "        vertical-align: middle;\n",
       "    }\n",
       "\n",
       "    .dataframe tbody tr th {\n",
       "        vertical-align: top;\n",
       "    }\n",
       "\n",
       "    .dataframe thead th {\n",
       "        text-align: right;\n",
       "    }\n",
       "</style>\n",
       "<table border=\"1\" class=\"dataframe\">\n",
       "  <thead>\n",
       "    <tr style=\"text-align: right;\">\n",
       "      <th></th>\n",
       "      <th>Date_event</th>\n",
       "      <th>Date_diagnosis</th>\n",
       "    </tr>\n",
       "  </thead>\n",
       "  <tbody>\n",
       "    <tr>\n",
       "      <th>0</th>\n",
       "      <td>2018-12-31</td>\n",
       "      <td>2016-12-23</td>\n",
       "    </tr>\n",
       "    <tr>\n",
       "      <th>4</th>\n",
       "      <td>2018-01-26</td>\n",
       "      <td>2017-01-30</td>\n",
       "    </tr>\n",
       "    <tr>\n",
       "      <th>5</th>\n",
       "      <td>2018-07-03</td>\n",
       "      <td>2017-01-24</td>\n",
       "    </tr>\n",
       "    <tr>\n",
       "      <th>7</th>\n",
       "      <td>2018-12-31</td>\n",
       "      <td>2017-01-04</td>\n",
       "    </tr>\n",
       "    <tr>\n",
       "      <th>8</th>\n",
       "      <td>2018-03-14</td>\n",
       "      <td>2017-02-16</td>\n",
       "    </tr>\n",
       "    <tr>\n",
       "      <th>...</th>\n",
       "      <td>...</td>\n",
       "      <td>...</td>\n",
       "    </tr>\n",
       "    <tr>\n",
       "      <th>686</th>\n",
       "      <td>2020-03-12</td>\n",
       "      <td>2019-12-21</td>\n",
       "    </tr>\n",
       "    <tr>\n",
       "      <th>689</th>\n",
       "      <td>2019-08-15</td>\n",
       "      <td>2018-08-16</td>\n",
       "    </tr>\n",
       "    <tr>\n",
       "      <th>691</th>\n",
       "      <td>2019-06-15</td>\n",
       "      <td>2019-01-25</td>\n",
       "    </tr>\n",
       "    <tr>\n",
       "      <th>694</th>\n",
       "      <td>2020-03-21</td>\n",
       "      <td>2018-01-15</td>\n",
       "    </tr>\n",
       "    <tr>\n",
       "      <th>695</th>\n",
       "      <td>2020-05-24</td>\n",
       "      <td>2019-01-27</td>\n",
       "    </tr>\n",
       "  </tbody>\n",
       "</table>\n",
       "<p>426 rows × 2 columns</p>\n",
       "</div>"
      ],
      "text/plain": [
       "    Date_event Date_diagnosis\n",
       "0   2018-12-31     2016-12-23\n",
       "4   2018-01-26     2017-01-30\n",
       "5   2018-07-03     2017-01-24\n",
       "7   2018-12-31     2017-01-04\n",
       "8   2018-03-14     2017-02-16\n",
       "..         ...            ...\n",
       "686 2020-03-12     2019-12-21\n",
       "689 2019-08-15     2018-08-16\n",
       "691 2019-06-15     2019-01-25\n",
       "694 2020-03-21     2018-01-15\n",
       "695 2020-05-24     2019-01-27\n",
       "\n",
       "[426 rows x 2 columns]"
      ]
     },
     "execution_count": 19,
     "metadata": {},
     "output_type": "execute_result"
    }
   ],
   "source": [
    "filtered_data[[\"Date_event\", \"Date_diagnosis\"]]"
   ]
  },
  {
   "cell_type": "markdown",
   "id": "4b1d63a8",
   "metadata": {},
   "source": [
    "#### Calculating the time period in 'months'  for a patient under analysis."
   ]
  },
  {
   "cell_type": "code",
   "execution_count": 20,
   "id": "818672f7",
   "metadata": {},
   "outputs": [
    {
     "name": "stderr",
     "output_type": "stream",
     "text": [
      "C:\\Users\\sriva\\AppData\\Local\\Temp\\ipykernel_55356\\1105801041.py:2: SettingWithCopyWarning: \n",
      "A value is trying to be set on a copy of a slice from a DataFrame.\n",
      "Try using .loc[row_indexer,col_indexer] = value instead\n",
      "\n",
      "See the caveats in the documentation: https://pandas.pydata.org/pandas-docs/stable/user_guide/indexing.html#returning-a-view-versus-a-copy\n",
      "  filtered_data['Time_overall_months'] = ((filtered_data['Date_event'] - filtered_data['Date_diagnosis']) / np.timedelta64(1, 'M')).astype(float)\n"
     ]
    },
    {
     "data": {
      "text/html": [
       "<div>\n",
       "<style scoped>\n",
       "    .dataframe tbody tr th:only-of-type {\n",
       "        vertical-align: middle;\n",
       "    }\n",
       "\n",
       "    .dataframe tbody tr th {\n",
       "        vertical-align: top;\n",
       "    }\n",
       "\n",
       "    .dataframe thead th {\n",
       "        text-align: right;\n",
       "    }\n",
       "</style>\n",
       "<table border=\"1\" class=\"dataframe\">\n",
       "  <thead>\n",
       "    <tr style=\"text-align: right;\">\n",
       "      <th></th>\n",
       "      <th>MR_NO</th>\n",
       "      <th>Comorbidities_final</th>\n",
       "      <th>Thyroidism</th>\n",
       "      <th>Diabetes</th>\n",
       "      <th>HTN</th>\n",
       "      <th>Family_cancer_history</th>\n",
       "      <th>ECOG_final</th>\n",
       "      <th>Gall_stone_final</th>\n",
       "      <th>Pathology</th>\n",
       "      <th>Tumour_grade_final</th>\n",
       "      <th>...</th>\n",
       "      <th>ALK PHOS [ALP]</th>\n",
       "      <th>GAMMA GT</th>\n",
       "      <th>ALBUMIN</th>\n",
       "      <th>CREATININE_from_UnC_test</th>\n",
       "      <th>UREA_from_UnC_test</th>\n",
       "      <th>ESTIMATED AVERAGE GLUCOSE (eAG)</th>\n",
       "      <th>HbA1c</th>\n",
       "      <th>CREATININE_from_CREATININE_test</th>\n",
       "      <th>Diabetes_final</th>\n",
       "      <th>Time_overall_months</th>\n",
       "    </tr>\n",
       "  </thead>\n",
       "  <tbody>\n",
       "    <tr>\n",
       "      <th>0</th>\n",
       "      <td>MR/17/000051</td>\n",
       "      <td>NaN</td>\n",
       "      <td>No</td>\n",
       "      <td>No</td>\n",
       "      <td>Yes</td>\n",
       "      <td>No</td>\n",
       "      <td>1</td>\n",
       "      <td>Yes</td>\n",
       "      <td>Adenocarcinoma</td>\n",
       "      <td>Grade 3</td>\n",
       "      <td>...</td>\n",
       "      <td>147.0</td>\n",
       "      <td>21.0</td>\n",
       "      <td>4.7</td>\n",
       "      <td>NaN</td>\n",
       "      <td>NaN</td>\n",
       "      <td>137.0</td>\n",
       "      <td>6.4</td>\n",
       "      <td>0.64</td>\n",
       "      <td>Yes</td>\n",
       "      <td>24.246904</td>\n",
       "    </tr>\n",
       "    <tr>\n",
       "      <th>4</th>\n",
       "      <td>MR/17/000665</td>\n",
       "      <td>NaN</td>\n",
       "      <td>No</td>\n",
       "      <td>No</td>\n",
       "      <td>No</td>\n",
       "      <td>No</td>\n",
       "      <td>1</td>\n",
       "      <td>Not known</td>\n",
       "      <td>Adenocarcinoma</td>\n",
       "      <td>Grade X</td>\n",
       "      <td>...</td>\n",
       "      <td>206.0</td>\n",
       "      <td>481.0</td>\n",
       "      <td>3.2</td>\n",
       "      <td>NaN</td>\n",
       "      <td>NaN</td>\n",
       "      <td>NaN</td>\n",
       "      <td>NaN</td>\n",
       "      <td>0.60</td>\n",
       "      <td>No</td>\n",
       "      <td>11.860613</td>\n",
       "    </tr>\n",
       "    <tr>\n",
       "      <th>5</th>\n",
       "      <td>MR/17/000682</td>\n",
       "      <td>NaN</td>\n",
       "      <td>No</td>\n",
       "      <td>No</td>\n",
       "      <td>Yes</td>\n",
       "      <td>No</td>\n",
       "      <td>2</td>\n",
       "      <td>Yes</td>\n",
       "      <td>Adenocarcinoma</td>\n",
       "      <td>Grade X</td>\n",
       "      <td>...</td>\n",
       "      <td>NaN</td>\n",
       "      <td>NaN</td>\n",
       "      <td>NaN</td>\n",
       "      <td>NaN</td>\n",
       "      <td>NaN</td>\n",
       "      <td>NaN</td>\n",
       "      <td>NaN</td>\n",
       "      <td>0.61</td>\n",
       "      <td>No</td>\n",
       "      <td>17.248814</td>\n",
       "    </tr>\n",
       "    <tr>\n",
       "      <th>7</th>\n",
       "      <td>MR/17/001311</td>\n",
       "      <td>Heart disease</td>\n",
       "      <td>No</td>\n",
       "      <td>Yes</td>\n",
       "      <td>Yes</td>\n",
       "      <td>Not known</td>\n",
       "      <td>1</td>\n",
       "      <td>Yes</td>\n",
       "      <td>MiNEN</td>\n",
       "      <td>Grade 2</td>\n",
       "      <td>...</td>\n",
       "      <td>108.0</td>\n",
       "      <td>21.0</td>\n",
       "      <td>4.6</td>\n",
       "      <td>NaN</td>\n",
       "      <td>NaN</td>\n",
       "      <td>NaN</td>\n",
       "      <td>NaN</td>\n",
       "      <td>NaN</td>\n",
       "      <td>Yes</td>\n",
       "      <td>23.852646</td>\n",
       "    </tr>\n",
       "    <tr>\n",
       "      <th>8</th>\n",
       "      <td>MR/17/001536</td>\n",
       "      <td>NaN</td>\n",
       "      <td>Hypothyroidism</td>\n",
       "      <td>Not known</td>\n",
       "      <td>Yes</td>\n",
       "      <td>Not known</td>\n",
       "      <td>Not known</td>\n",
       "      <td>Yes</td>\n",
       "      <td>Adenocarcinoma</td>\n",
       "      <td>Grade X</td>\n",
       "      <td>...</td>\n",
       "      <td>492.0</td>\n",
       "      <td>209.0</td>\n",
       "      <td>2.6</td>\n",
       "      <td>NaN</td>\n",
       "      <td>NaN</td>\n",
       "      <td>NaN</td>\n",
       "      <td>NaN</td>\n",
       "      <td>NaN</td>\n",
       "      <td>Not known</td>\n",
       "      <td>12.846260</td>\n",
       "    </tr>\n",
       "  </tbody>\n",
       "</table>\n",
       "<p>5 rows × 51 columns</p>\n",
       "</div>"
      ],
      "text/plain": [
       "          MR_NO Comorbidities_final      Thyroidism   Diabetes  HTN  \\\n",
       "0  MR/17/000051                 NaN              No         No  Yes   \n",
       "4  MR/17/000665                 NaN              No         No   No   \n",
       "5  MR/17/000682                 NaN              No         No  Yes   \n",
       "7  MR/17/001311       Heart disease              No        Yes  Yes   \n",
       "8  MR/17/001536                 NaN  Hypothyroidism  Not known  Yes   \n",
       "\n",
       "  Family_cancer_history ECOG_final Gall_stone_final       Pathology  \\\n",
       "0                    No          1              Yes  Adenocarcinoma   \n",
       "4                    No          1        Not known  Adenocarcinoma   \n",
       "5                    No          2              Yes  Adenocarcinoma   \n",
       "7             Not known          1              Yes           MiNEN   \n",
       "8             Not known  Not known              Yes  Adenocarcinoma   \n",
       "\n",
       "  Tumour_grade_final  ... ALK PHOS [ALP] GAMMA GT ALBUMIN  \\\n",
       "0            Grade 3  ...          147.0     21.0     4.7   \n",
       "4            Grade X  ...          206.0    481.0     3.2   \n",
       "5            Grade X  ...            NaN      NaN     NaN   \n",
       "7            Grade 2  ...          108.0     21.0     4.6   \n",
       "8            Grade X  ...          492.0    209.0     2.6   \n",
       "\n",
       "  CREATININE_from_UnC_test UREA_from_UnC_test ESTIMATED AVERAGE GLUCOSE (eAG)  \\\n",
       "0                      NaN                NaN                           137.0   \n",
       "4                      NaN                NaN                             NaN   \n",
       "5                      NaN                NaN                             NaN   \n",
       "7                      NaN                NaN                             NaN   \n",
       "8                      NaN                NaN                             NaN   \n",
       "\n",
       "  HbA1c CREATININE_from_CREATININE_test Diabetes_final Time_overall_months  \n",
       "0   6.4                            0.64            Yes           24.246904  \n",
       "4   NaN                            0.60             No           11.860613  \n",
       "5   NaN                            0.61             No           17.248814  \n",
       "7   NaN                             NaN            Yes           23.852646  \n",
       "8   NaN                             NaN      Not known           12.846260  \n",
       "\n",
       "[5 rows x 51 columns]"
      ]
     },
     "execution_count": 20,
     "metadata": {},
     "output_type": "execute_result"
    }
   ],
   "source": [
    "# Calculate the difference of Date_event and Date_diagnosis in months\n",
    "filtered_data['Time_overall_months'] = ((filtered_data['Date_event'] - filtered_data['Date_diagnosis']) / np.timedelta64(1, 'M')).astype(float)\n",
    "\n",
    "filtered_data.head()\n",
    "\n"
   ]
  },
  {
   "cell_type": "code",
   "execution_count": 21,
   "id": "569e4f5d",
   "metadata": {},
   "outputs": [
    {
     "data": {
      "text/plain": [
       "(420, 51)"
      ]
     },
     "execution_count": 21,
     "metadata": {},
     "output_type": "execute_result"
    }
   ],
   "source": [
    "# Filter data based on the range of 'time_overall_study'\n",
    "filtered_data = filtered_data[(filtered_data['Time_overall_months'] >= 0) & (filtered_data['Time_overall_months'] <= 54)]\n",
    "filtered_data.shape"
   ]
  },
  {
   "cell_type": "code",
   "execution_count": 22,
   "id": "c3c9c10c",
   "metadata": {},
   "outputs": [
    {
     "name": "stdout",
     "output_type": "stream",
     "text": [
      "count                     420\n",
      "unique                    319\n",
      "top       2019-06-15 00:00:00\n",
      "freq                        7\n",
      "first     2017-01-02 00:00:00\n",
      "last      2021-09-07 00:00:00\n",
      "Name: Date_event, dtype: object\n",
      "*********************************\n",
      "count                     420\n",
      "unique                    324\n",
      "top       2018-05-15 00:00:00\n",
      "freq                        5\n",
      "first     2015-03-27 00:00:00\n",
      "last      2020-02-05 00:00:00\n",
      "Name: Date_diagnosis, dtype: object\n"
     ]
    },
    {
     "name": "stderr",
     "output_type": "stream",
     "text": [
      "C:\\Users\\sriva\\AppData\\Local\\Temp\\ipykernel_55356\\1738299165.py:1: FutureWarning: Treating datetime data as categorical rather than numeric in `.describe` is deprecated and will be removed in a future version of pandas. Specify `datetime_is_numeric=True` to silence this warning and adopt the future behavior now.\n",
      "  print(filtered_data['Date_event'].describe())\n",
      "C:\\Users\\sriva\\AppData\\Local\\Temp\\ipykernel_55356\\1738299165.py:3: FutureWarning: Treating datetime data as categorical rather than numeric in `.describe` is deprecated and will be removed in a future version of pandas. Specify `datetime_is_numeric=True` to silence this warning and adopt the future behavior now.\n",
      "  print(filtered_data['Date_diagnosis'].describe())\n"
     ]
    }
   ],
   "source": [
    "print(filtered_data['Date_event'].describe())\n",
    "print('*********************************')\n",
    "print(filtered_data['Date_diagnosis'].describe())"
   ]
  },
  {
   "cell_type": "markdown",
   "id": "79e92752",
   "metadata": {},
   "source": [
    "### Since the study was conducted from 1 Jan 2017 to 31 Dec 2019 therefore, Filtering the data from date of event between - 01/01/2017 to 31/12/2019"
   ]
  },
  {
   "cell_type": "code",
   "execution_count": 23,
   "id": "e4ea3136",
   "metadata": {},
   "outputs": [
    {
     "data": {
      "text/plain": [
       "\"\\n# Define start and end dates\\nstart_date = pd.Timestamp('2017-01-01')\\nend_date = pd.Timestamp('2019-12-31')\\n\\n# Extract data between start and end dates\\nfiltered_data = filtered_data[(filtered_data['Date_event'] >= start_date) & (filtered_data['Date_event'] <= end_date)]\\nfiltered_data.shape\\n\""
      ]
     },
     "execution_count": 23,
     "metadata": {},
     "output_type": "execute_result"
    }
   ],
   "source": [
    "'''\n",
    "# Define start and end dates\n",
    "start_date = pd.Timestamp('2017-01-01')\n",
    "end_date = pd.Timestamp('2019-12-31')\n",
    "\n",
    "# Extract data between start and end dates\n",
    "filtered_data = filtered_data[(filtered_data['Date_event'] >= start_date) & (filtered_data['Date_event'] <= end_date)]\n",
    "filtered_data.shape\n",
    "'''"
   ]
  },
  {
   "cell_type": "code",
   "execution_count": null,
   "id": "b92ca35b",
   "metadata": {},
   "outputs": [],
   "source": []
  },
  {
   "cell_type": "code",
   "execution_count": 24,
   "id": "4eb1d2af",
   "metadata": {},
   "outputs": [
    {
     "data": {
      "text/plain": [
       "MR_NO                                0\n",
       "Comorbidities_final                 74\n",
       "Thyroidism                          19\n",
       "Diabetes                            17\n",
       "HTN                                 17\n",
       "Family_cancer_history               19\n",
       "ECOG_final                          16\n",
       "Gall_stone_final                    18\n",
       "Pathology                            0\n",
       "Tumour_grade_final                  22\n",
       "Cancer_presentation_final           25\n",
       "Tumour_stage_final                  41\n",
       "TNM_classification                  43\n",
       "Metastasis_final                    27\n",
       "Site_metastasis                     80\n",
       "Mets_site_final                     28\n",
       "Cholecystectomy_TMC                128\n",
       "Outside_cholecystectomy             19\n",
       "Surgery_final                       16\n",
       "Treatment_final                     31\n",
       "Treatment_clean                     34\n",
       "Treatment                           34\n",
       "Status                               0\n",
       "Date_event                           0\n",
       "Date_diagnosis                       0\n",
       "AGE                                  0\n",
       "GENDER                               0\n",
       "COUNTRY                              0\n",
       "STATE_NAME                           0\n",
       "CITY_NAME                            0\n",
       "PINCODE                              8\n",
       "First_Visit_Date                    74\n",
       "HEIGHT                              74\n",
       "WEIGHT                              74\n",
       "BSA_DETAILS                         74\n",
       "BMI_DETAILS                         74\n",
       "BILIRUBIN CONJUGATED               151\n",
       "BILIRUBIN UNCONJUGATED             151\n",
       "BILIRUBIN TOTAL                    151\n",
       "AST - SGOT                         151\n",
       "ALT - SGPT                         152\n",
       "ALK PHOS [ALP]                     151\n",
       "GAMMA GT                           152\n",
       "ALBUMIN                            151\n",
       "CREATININE_from_UnC_test           407\n",
       "UREA_from_UnC_test                 407\n",
       "ESTIMATED AVERAGE GLUCOSE (eAG)    373\n",
       "HbA1c                              373\n",
       "CREATININE_from_CREATININE_test    305\n",
       "Diabetes_final                      17\n",
       "Time_overall_months                  0\n",
       "dtype: int64"
      ]
     },
     "execution_count": 24,
     "metadata": {},
     "output_type": "execute_result"
    }
   ],
   "source": [
    "filtered_data.isnull().sum()"
   ]
  },
  {
   "cell_type": "code",
   "execution_count": 25,
   "id": "f071da4f",
   "metadata": {},
   "outputs": [
    {
     "name": "stderr",
     "output_type": "stream",
     "text": [
      "C:\\Users\\sriva\\AppData\\Local\\Temp\\ipykernel_55356\\1952833919.py:1: FutureWarning: Treating datetime data as categorical rather than numeric in `.describe` is deprecated and will be removed in a future version of pandas. Specify `datetime_is_numeric=True` to silence this warning and adopt the future behavior now.\n",
      "  filtered_data[[\"Date_event\", \"Date_diagnosis\"]].describe()\n",
      "C:\\Users\\sriva\\AppData\\Local\\Temp\\ipykernel_55356\\1952833919.py:1: FutureWarning: Treating datetime data as categorical rather than numeric in `.describe` is deprecated and will be removed in a future version of pandas. Specify `datetime_is_numeric=True` to silence this warning and adopt the future behavior now.\n",
      "  filtered_data[[\"Date_event\", \"Date_diagnosis\"]].describe()\n"
     ]
    },
    {
     "data": {
      "text/html": [
       "<div>\n",
       "<style scoped>\n",
       "    .dataframe tbody tr th:only-of-type {\n",
       "        vertical-align: middle;\n",
       "    }\n",
       "\n",
       "    .dataframe tbody tr th {\n",
       "        vertical-align: top;\n",
       "    }\n",
       "\n",
       "    .dataframe thead th {\n",
       "        text-align: right;\n",
       "    }\n",
       "</style>\n",
       "<table border=\"1\" class=\"dataframe\">\n",
       "  <thead>\n",
       "    <tr style=\"text-align: right;\">\n",
       "      <th></th>\n",
       "      <th>Date_event</th>\n",
       "      <th>Date_diagnosis</th>\n",
       "    </tr>\n",
       "  </thead>\n",
       "  <tbody>\n",
       "    <tr>\n",
       "      <th>count</th>\n",
       "      <td>420</td>\n",
       "      <td>420</td>\n",
       "    </tr>\n",
       "    <tr>\n",
       "      <th>unique</th>\n",
       "      <td>319</td>\n",
       "      <td>324</td>\n",
       "    </tr>\n",
       "    <tr>\n",
       "      <th>top</th>\n",
       "      <td>2019-06-15 00:00:00</td>\n",
       "      <td>2018-05-15 00:00:00</td>\n",
       "    </tr>\n",
       "    <tr>\n",
       "      <th>freq</th>\n",
       "      <td>7</td>\n",
       "      <td>5</td>\n",
       "    </tr>\n",
       "    <tr>\n",
       "      <th>first</th>\n",
       "      <td>2017-01-02 00:00:00</td>\n",
       "      <td>2015-03-27 00:00:00</td>\n",
       "    </tr>\n",
       "    <tr>\n",
       "      <th>last</th>\n",
       "      <td>2021-09-07 00:00:00</td>\n",
       "      <td>2020-02-05 00:00:00</td>\n",
       "    </tr>\n",
       "  </tbody>\n",
       "</table>\n",
       "</div>"
      ],
      "text/plain": [
       "                 Date_event       Date_diagnosis\n",
       "count                   420                  420\n",
       "unique                  319                  324\n",
       "top     2019-06-15 00:00:00  2018-05-15 00:00:00\n",
       "freq                      7                    5\n",
       "first   2017-01-02 00:00:00  2015-03-27 00:00:00\n",
       "last    2021-09-07 00:00:00  2020-02-05 00:00:00"
      ]
     },
     "execution_count": 25,
     "metadata": {},
     "output_type": "execute_result"
    }
   ],
   "source": [
    "filtered_data[[\"Date_event\", \"Date_diagnosis\"]].describe()"
   ]
  },
  {
   "cell_type": "code",
   "execution_count": 26,
   "id": "60827bce",
   "metadata": {},
   "outputs": [
    {
     "data": {
      "text/plain": [
       "Status\n",
       "Dead      419\n",
       "No          1\n",
       "dtype: int64"
      ]
     },
     "execution_count": 26,
     "metadata": {},
     "output_type": "execute_result"
    }
   ],
   "source": [
    "filtered_data[[\"Status\"]].value_counts()"
   ]
  },
  {
   "cell_type": "markdown",
   "id": "19052bab",
   "metadata": {},
   "source": [
    "#### The data to be used in the survival analysis after filtering = 338 observations, 51 features"
   ]
  },
  {
   "cell_type": "code",
   "execution_count": 27,
   "id": "5f720426",
   "metadata": {},
   "outputs": [],
   "source": [
    "data = filtered_data.copy()"
   ]
  },
  {
   "cell_type": "code",
   "execution_count": 28,
   "id": "63f0d666",
   "metadata": {},
   "outputs": [
    {
     "name": "stdout",
     "output_type": "stream",
     "text": [
      "<class 'pandas.core.frame.DataFrame'>\n",
      "Int64Index: 420 entries, 0 to 695\n",
      "Data columns (total 51 columns):\n",
      " #   Column                           Non-Null Count  Dtype         \n",
      "---  ------                           --------------  -----         \n",
      " 0   MR_NO                            420 non-null    object        \n",
      " 1   Comorbidities_final              346 non-null    object        \n",
      " 2   Thyroidism                       401 non-null    object        \n",
      " 3   Diabetes                         403 non-null    object        \n",
      " 4   HTN                              403 non-null    object        \n",
      " 5   Family_cancer_history            401 non-null    object        \n",
      " 6   ECOG_final                       404 non-null    object        \n",
      " 7   Gall_stone_final                 402 non-null    object        \n",
      " 8   Pathology                        420 non-null    object        \n",
      " 9   Tumour_grade_final               398 non-null    object        \n",
      " 10  Cancer_presentation_final        395 non-null    object        \n",
      " 11  Tumour_stage_final               379 non-null    object        \n",
      " 12  TNM_classification               377 non-null    object        \n",
      " 13  Metastasis_final                 393 non-null    object        \n",
      " 14  Site_metastasis                  340 non-null    object        \n",
      " 15  Mets_site_final                  392 non-null    object        \n",
      " 16  Cholecystectomy_TMC              292 non-null    object        \n",
      " 17  Outside_cholecystectomy          401 non-null    object        \n",
      " 18  Surgery_final                    404 non-null    object        \n",
      " 19  Treatment_final                  389 non-null    object        \n",
      " 20  Treatment_clean                  386 non-null    object        \n",
      " 21  Treatment                        386 non-null    object        \n",
      " 22  Status                           420 non-null    object        \n",
      " 23  Date_event                       420 non-null    datetime64[ns]\n",
      " 24  Date_diagnosis                   420 non-null    datetime64[ns]\n",
      " 25  AGE                              420 non-null    int64         \n",
      " 26  GENDER                           420 non-null    object        \n",
      " 27  COUNTRY                          420 non-null    object        \n",
      " 28  STATE_NAME                       420 non-null    object        \n",
      " 29  CITY_NAME                        420 non-null    object        \n",
      " 30  PINCODE                          412 non-null    float64       \n",
      " 31  First_Visit_Date                 346 non-null    datetime64[ns]\n",
      " 32  HEIGHT                           346 non-null    float64       \n",
      " 33  WEIGHT                           346 non-null    float64       \n",
      " 34  BSA_DETAILS                      346 non-null    float64       \n",
      " 35  BMI_DETAILS                      346 non-null    float64       \n",
      " 36  BILIRUBIN CONJUGATED             269 non-null    float64       \n",
      " 37  BILIRUBIN UNCONJUGATED           269 non-null    float64       \n",
      " 38  BILIRUBIN TOTAL                  269 non-null    float64       \n",
      " 39  AST - SGOT                       269 non-null    float64       \n",
      " 40  ALT - SGPT                       268 non-null    float64       \n",
      " 41  ALK PHOS [ALP]                   269 non-null    float64       \n",
      " 42  GAMMA GT                         268 non-null    float64       \n",
      " 43  ALBUMIN                          269 non-null    float64       \n",
      " 44  CREATININE_from_UnC_test         13 non-null     float64       \n",
      " 45  UREA_from_UnC_test               13 non-null     float64       \n",
      " 46  ESTIMATED AVERAGE GLUCOSE (eAG)  47 non-null     float64       \n",
      " 47  HbA1c                            47 non-null     float64       \n",
      " 48  CREATININE_from_CREATININE_test  115 non-null    float64       \n",
      " 49  Diabetes_final                   403 non-null    object        \n",
      " 50  Time_overall_months              420 non-null    float64       \n",
      "dtypes: datetime64[ns](3), float64(19), int64(1), object(28)\n",
      "memory usage: 170.6+ KB\n"
     ]
    }
   ],
   "source": [
    "data.info()"
   ]
  },
  {
   "cell_type": "code",
   "execution_count": 29,
   "id": "9fe2fe5c",
   "metadata": {},
   "outputs": [
    {
     "name": "stdout",
     "output_type": "stream",
     "text": [
      "Counts for MR_NO:\n",
      "MR/17/000051    1\n",
      "MR/18/011336    1\n",
      "MR/18/015094    1\n",
      "MR/18/014894    1\n",
      "MR/18/014781    1\n",
      "               ..\n",
      "MR/17/015628    1\n",
      "MR/17/014162    1\n",
      "MR/17/014043    1\n",
      "MR/17/013160    1\n",
      "MR/19/001762    1\n",
      "Name: MR_NO, Length: 420, dtype: int64\n",
      "\n",
      "Counts for Comorbidities_final:\n",
      "No                251\n",
      "Not known          62\n",
      "Heart disease      17\n",
      "Lungs disease       9\n",
      "Other cancer        4\n",
      "Kidney disease      3\n",
      "Name: Comorbidities_final, dtype: int64\n",
      "\n",
      "Counts for Thyroidism:\n",
      "No                302\n",
      "Not known          65\n",
      "Hypothyroidism     34\n",
      "Name: Thyroidism, dtype: int64\n",
      "\n",
      "Counts for Diabetes:\n",
      "No           236\n",
      "Yes          103\n",
      "Not known     64\n",
      "Name: Diabetes, dtype: int64\n",
      "\n",
      "Counts for HTN:\n",
      "No           206\n",
      "Yes          138\n",
      "Not known     59\n",
      "Name: HTN, dtype: int64\n",
      "\n",
      "Counts for Family_cancer_history:\n",
      "Not known    211\n",
      "No           153\n",
      "Yes           37\n",
      "Name: Family_cancer_history, dtype: int64\n",
      "\n",
      "Counts for ECOG_final:\n",
      "1            217\n",
      "2             92\n",
      "3             37\n",
      "Not known     28\n",
      "4             16\n",
      "0             14\n",
      "Name: ECOG_final, dtype: int64\n",
      "\n",
      "Counts for Gall_stone_final:\n",
      "Yes          170\n",
      "No           116\n",
      "Not known    115\n",
      "Polyp          1\n",
      "Name: Gall_stone_final, dtype: int64\n",
      "\n",
      "Counts for Pathology:\n",
      "Adenocarcinoma                  355\n",
      "Carcinoma                        30\n",
      "Adenosquamous carcinoma          14\n",
      "Neuroendocrine carcinoma          7\n",
      "Others                            7\n",
      "Mucinous adenocarcinoma           3\n",
      "MiNEN                             2\n",
      "ICPN with invasive carcinoma      2\n",
      "Name: Pathology, dtype: int64\n",
      "\n",
      "Counts for Tumour_grade_final:\n",
      "Grade X    203\n",
      "Grade 3    106\n",
      "Grade 2     78\n",
      "Grade 1     10\n",
      "Grade 4      1\n",
      "Name: Tumour_grade_final, dtype: int64\n",
      "\n",
      "Counts for Cancer_presentation_final:\n",
      "Metastatic          237\n",
      "Incidental           96\n",
      "Locally advanced     62\n",
      "Name: Cancer_presentation_final, dtype: int64\n",
      "\n",
      "Counts for Tumour_stage_final:\n",
      "Stage IV     273\n",
      "Stage III     55\n",
      "Not known     37\n",
      "Stage II      14\n",
      "Name: Tumour_stage_final, dtype: int64\n",
      "\n",
      "Counts for TNM_classification:\n",
      "T3N1M1       40\n",
      "TxNxM1       37\n",
      "T3N1M0       30\n",
      "T3NxM1       20\n",
      "T3N2M1       19\n",
      "TxN2M1       15\n",
      "T3N2M0       13\n",
      "T2N2M1       13\n",
      "T4N1M0       12\n",
      "T2N1M0       12\n",
      "T2N0M0       12\n",
      "T2N1M1       11\n",
      "TxN1M1       10\n",
      "T3N0M0       10\n",
      "T3N0M1        8\n",
      "T2NxM0        8\n",
      "T2N2M0        8\n",
      "T4N0M1        7\n",
      "T3NxMx        7\n",
      "Not Known     7\n",
      "TxN2M0        7\n",
      "T4N2M1        6\n",
      "T4NxM1        6\n",
      "T4N0M0        6\n",
      "T3NxM0        5\n",
      "TxN0M1        5\n",
      "T2NxM1        5\n",
      "T4N1M1        4\n",
      "T4N2M0        3\n",
      "T2N0M1        3\n",
      "T2NxMx        3\n",
      "T1N2M0        3\n",
      "TxN1M0        3\n",
      "T4NxMx        2\n",
      "TxN2Mx        2\n",
      "T4NxM0        2\n",
      "T2bN0M0       2\n",
      "T2N2Mx        1\n",
      "T3N1          1\n",
      "T1N1M0        1\n",
      "T2bN2M0       1\n",
      "T1N0Mx        1\n",
      "T1N2M1        1\n",
      "T2aN1M1       1\n",
      "T2bN1M0       1\n",
      "T3NXM0        1\n",
      "T2aN1M0       1\n",
      "T1N0M1        1\n",
      "Name: TNM_classification, dtype: int64\n",
      "\n",
      "Counts for Metastasis_final:\n",
      "Yes          235\n",
      "No           137\n",
      "Not known     21\n",
      "Name: Metastasis_final, dtype: int64\n",
      "\n",
      "Counts for Site_metastasis:\n",
      "Liver                  123\n",
      "Not Applicable          56\n",
      "Not applicable          48\n",
      "Omentum                 14\n",
      "Peritoneum               7\n",
      "                      ... \n",
      "Adrenal                  1\n",
      "Peritonum                1\n",
      "Mesentery                1\n",
      "Lung and Peritoneam      1\n",
      "Lungs-adrenal            1\n",
      "Name: Site_metastasis, Length: 71, dtype: int64\n",
      "\n",
      "Counts for Mets_site_final:\n",
      "Not applicable          158\n",
      "Liver                   142\n",
      "Peritoneum & Omentum     34\n",
      "Lungs                    16\n",
      "Liver & Lungs             9\n",
      "Liver & Bone              7\n",
      "Stomach & Intestine       5\n",
      "Portsite                  4\n",
      "Ovary & Uterus            3\n",
      "Pancreas                  2\n",
      "Adrenal gland             2\n",
      "Not known                 2\n",
      "Right hypochondrium       2\n",
      "Lungs and bone            1\n",
      "Bone                      1\n",
      "Chest                     1\n",
      "FALSE                     1\n",
      "Lung,Bone                 1\n",
      "Brain                     1\n",
      "Name: Mets_site_final, dtype: int64\n",
      "\n",
      "Counts for Cholecystectomy_TMC:\n",
      "No                     140\n",
      "Not applicable          58\n",
      "Inoperable              45\n",
      "Radical                 28\n",
      "Staging Lap              6\n",
      "Staging laparoscopy      5\n",
      "Stagging_lap             3\n",
      "Staging laparotomy       2\n",
      "Unresectable             2\n",
      "Open                     2\n",
      "Right hepatectomy        1\n",
      "Name: Cholecystectomy_TMC, dtype: int64\n",
      "\n",
      "Counts for Outside_cholecystectomy:\n",
      "No         256\n",
      "Simple     127\n",
      "Radical     15\n",
      "Partial      3\n",
      "Name: Outside_cholecystectomy, dtype: int64\n",
      "\n",
      "Counts for Surgery_final:\n",
      "No         249\n",
      "Simple     109\n",
      "Radical     43\n",
      "Partial      3\n",
      "Name: Surgery_final, dtype: int64\n",
      "\n",
      "Counts for Treatment_final:\n",
      "Disease Control    247\n",
      "Palliative_care    113\n",
      "Curative            29\n",
      "Name: Treatment_final, dtype: int64\n",
      "\n",
      "Counts for Treatment_clean:\n",
      "Chemotherapy                 136\n",
      "Palliative-care               97\n",
      "Surgery                       58\n",
      "Surgery-chemotherapy          56\n",
      "No                            30\n",
      "Chemo-radiotherapy             6\n",
      "Surgery-chemoradiotherapy      3\n",
      "Name: Treatment_clean, dtype: int64\n",
      "\n",
      "Counts for Treatment:\n",
      "Palliative chemotherapy                      103\n",
      "Palliative                                    55\n",
      "Surgery                                       49\n",
      "Palliative care                               29\n",
      "Not Applicable                                26\n",
      "Chemotherapy                                  26\n",
      "Surgery and chemotherapy                      25\n",
      "Surgery-chemotherapy                          22\n",
      "Palliation                                    12\n",
      "Curative surgery                               7\n",
      "NACT                                           4\n",
      "Curative surgery, Chemotherapy                 3\n",
      "Not Known                                      3\n",
      "Chemotherapy, Radiotherapy                     2\n",
      "Adjuvant chemotherapy                          2\n",
      "Curative surgery & chemotherapy                2\n",
      "CTRT                                           2\n",
      "Palliative Chemotherapy                        2\n",
      "Surgery+CR-RT                                  1\n",
      "Systemic chemotherapy                          1\n",
      "Surgery and Chemotherapy and radiotherapy      1\n",
      "Adjuvant CTRT                                  1\n",
      "Palliative Radiation treatment                 1\n",
      "Curative                                       1\n",
      "Radiotherapy, chemotherapy                     1\n",
      "Radical treatment                              1\n",
      "Chemotherapy (outside)                         1\n",
      "Stenting and chemotherapy                      1\n",
      "Treatment not possible                         1\n",
      "Surgery-CTRT                                   1\n",
      "Name: Treatment, dtype: int64\n",
      "\n",
      "Counts for Status:\n",
      "Dead    419\n",
      "No        1\n",
      "Name: Status, dtype: int64\n",
      "\n",
      "Counts for GENDER:\n",
      "FEMA    284\n",
      "MALE    136\n",
      "Name: GENDER, dtype: int64\n",
      "\n",
      "Counts for COUNTRY:\n",
      "IN    420\n",
      "Name: COUNTRY, dtype: int64\n",
      "\n",
      "Counts for STATE_NAME:\n",
      "WB    322\n",
      "JH     31\n",
      "BR     31\n",
      "AS     11\n",
      "OR      6\n",
      "UP      6\n",
      "MN      4\n",
      "TR      4\n",
      "KA      1\n",
      "MP      1\n",
      "MH      1\n",
      "RJ      1\n",
      "GJ      1\n",
      "Name: STATE_NAME, dtype: int64\n",
      "\n",
      "Counts for CITY_NAME:\n",
      "KOLKATA              68\n",
      "24 PARGANAS NORTH    57\n",
      "24 PARGANAS SOUTH    31\n",
      "HOOGHLY              20\n",
      "BURDWAN              18\n",
      "                     ..\n",
      "SITAMARHI             1\n",
      "PUNE                  1\n",
      "GUWAHATI              1\n",
      "KARIMGANJ             1\n",
      "NAGAON                1\n",
      "Name: CITY_NAME, Length: 83, dtype: int64\n",
      "\n",
      "Counts for Diabetes_final:\n",
      "No           227\n",
      "Yes          115\n",
      "Not known     61\n",
      "Name: Diabetes_final, dtype: int64\n",
      "\n"
     ]
    }
   ],
   "source": [
    "# Filter columns with object data type\n",
    "categorical_columns = data.select_dtypes(include=['object']).columns\n",
    "\n",
    "# Calculate counts of each category in categorical features\n",
    "category_counts = {}\n",
    "\n",
    "for column in categorical_columns:\n",
    "    counts = data[column].value_counts()\n",
    "    category_counts[column] = counts\n",
    "\n",
    "# Print the counts of each category in categorical features\n",
    "for column, counts in category_counts.items():\n",
    "    print(f'Counts for {column}:')\n",
    "    print(counts)\n",
    "    print()\n",
    "\n",
    "\n",
    "\n"
   ]
  },
  {
   "cell_type": "code",
   "execution_count": 30,
   "id": "bcce4fca",
   "metadata": {},
   "outputs": [
    {
     "data": {
      "text/plain": [
       "Tumour_stage_final  Surgery_final  Treatment_final\n",
       "Stage IV            No             Palliative_care    93\n",
       "                                   Disease Control    92\n",
       "                    Simple         Disease Control    65\n",
       "Not known           Simple         Disease Control    21\n",
       "Stage III           No             Disease Control    15\n",
       "                    Radical        Curative           14\n",
       "Stage IV            Radical        Curative           10\n",
       "Stage III           Simple         Disease Control     9\n",
       "Stage II            Simple         Disease Control     9\n",
       "Stage III           No             Palliative_care     7\n",
       "Not known           No             Palliative_care     6\n",
       "Stage IV            Radical        Disease Control     5\n",
       "Not known           No             Disease Control     5\n",
       "Stage III           Radical        Disease Control     4\n",
       "Stage II            Radical        Curative            3\n",
       "Not known           Radical        Disease Control     3\n",
       "Stage II            Radical        Disease Control     2\n",
       "Stage IV            Partial        Disease Control     1\n",
       "Not known           Partial        Disease Control     1\n",
       "Stage III           Partial        Disease Control     1\n",
       "dtype: int64"
      ]
     },
     "execution_count": 30,
     "metadata": {},
     "output_type": "execute_result"
    }
   ],
   "source": [
    "data[['Tumour_stage_final', 'Surgery_final','Treatment_final']].value_counts()"
   ]
  },
  {
   "cell_type": "markdown",
   "id": "3c3c8368",
   "metadata": {},
   "source": [
    "### Exploratory Data Analysis\n",
    "\n",
    "Lets look at the features available to us.\n",
    "\n",
    "### 1. Univariate Analysis of Categorical variables\n",
    "\n",
    "considering only three variables as of now.\n",
    "\n",
    "1. Tumour_stage_final\n",
    "2. Surgery_final\n",
    "3. Treatment_final\n"
   ]
  },
  {
   "cell_type": "code",
   "execution_count": 31,
   "id": "3f6a300e",
   "metadata": {},
   "outputs": [],
   "source": [
    "category_list = ['Tumour_stage_final', 'Surgery_final', 'Treatment_final']"
   ]
  },
  {
   "cell_type": "code",
   "execution_count": 32,
   "id": "de47f3b5",
   "metadata": {},
   "outputs": [],
   "source": [
    "def plotUnivariateAnalysis(data_frame, category_list, rows, cols, figsize):\n",
    "    fig, axes = plt.subplots(rows, cols, figsize=figsize)\n",
    "    axes = axes.flatten()\n",
    "    \n",
    "    for i, category in enumerate(category_list):\n",
    "        ax = axes[i]\n",
    "        counts = data_frame[category].value_counts()\n",
    "        missing_count = data_frame[category].isnull().sum()\n",
    "        total_count = len(data_frame)\n",
    "        \n",
    "        counts.plot(kind='bar', ax=ax)\n",
    "        \n",
    "        ax.set_title(f'{category} Distribution')\n",
    "        ax.set_xlabel(category)\n",
    "        ax.set_ylabel('Frequency')\n",
    "        \n",
    "        # Calculate and display percentage text on the bars\n",
    "        total_valid_count = total_count - missing_count\n",
    "        for rect in ax.patches:\n",
    "            height = rect.get_height()\n",
    "            ax.annotate(f'{height / total_valid_count:.2%}', \n",
    "                        xy=(rect.get_x() + rect.get_width() / 2, height), \n",
    "                        xytext=(0, 3),  # 3 points vertical offset\n",
    "                        textcoords=\"offset points\", \n",
    "                        ha='center', va='bottom')\n",
    "        \n",
    "        # Display percentage of missing values above the plot\n",
    "        ax.annotate(f\"Missing: {missing_count}/{total_count} ({missing_count / total_count:.2%})\", \n",
    "                    xy=(0.5, 0.95), \n",
    "                    xycoords='axes fraction', \n",
    "                    ha='center', fontsize=10, color='red')\n",
    "    \n",
    "    # Hide any unused subplots\n",
    "    for i in range(len(category_list), rows * cols):\n",
    "        fig.delaxes(axes[i])\n",
    "    \n",
    "    plt.tight_layout()\n",
    "    plt.show()"
   ]
  },
  {
   "cell_type": "code",
   "execution_count": 33,
   "id": "1a4f3ab8",
   "metadata": {},
   "outputs": [
    {
     "data": {
      "image/png": "[encoded data removed]",
      "text/plain": [
       "<Figure size 1800x1000 with 3 Axes>"
      ]
     },
     "metadata": {},
     "output_type": "display_data"
    }
   ],
   "source": [
    "\n",
    "# Call the function to create the grid of plots\n",
    "plotUnivariateAnalysis(data_frame=data, \n",
    "                       category_list=category_list, \n",
    "                       rows=2, \n",
    "                       cols=3, \n",
    "                       figsize=(18, 10))"
   ]
  },
  {
   "cell_type": "code",
   "execution_count": null,
   "id": "6c24f5f7",
   "metadata": {},
   "outputs": [],
   "source": []
  },
  {
   "cell_type": "markdown",
   "id": "b26fd86e",
   "metadata": {},
   "source": [
    "#### <font color = brown>Data Insight 1:</font>\n",
    "\n",
    "**`1. ~73% of the population under study had stage 4 tumour, while ~12% had stage 3 tumour, ~10% did not have any known stage of tumour and ~3.37% had stge 2 tumour..`**\n",
    "\n",
    "**`2. ~63% of the population under study had No surgery, ~27% had simple cholecystectomy and ~10.25% patients had radical cholecystectomy`**\n",
    "\n",
    "**`3. ~60% of the population under study had disease control type treatment,~32% had palliative care and ~7% had curative treatment.`**\n"
   ]
  },
  {
   "cell_type": "markdown",
   "id": "5ee24b6c",
   "metadata": {},
   "source": [
    "### Survival w.r.t Tumour stage"
   ]
  },
  {
   "cell_type": "code",
   "execution_count": 35,
   "id": "11990539",
   "metadata": {},
   "outputs": [],
   "source": [
    "# Replace \"Dead\" with 1 in the \"Status\" column\n",
    "data['Status'] = data['Status'].replace({'Dead': 1, 'No': 0})"
   ]
  },
  {
   "cell_type": "code",
   "execution_count": 36,
   "id": "10468bd8",
   "metadata": {},
   "outputs": [
    {
     "data": {
      "text/plain": [
       "Status\n",
       "1         419\n",
       "0           1\n",
       "dtype: int64"
      ]
     },
     "execution_count": 36,
     "metadata": {},
     "output_type": "execute_result"
    }
   ],
   "source": [
    "data[[\"Status\"]].value_counts() #338 observations/patients i.e. all the observations inside our sample died"
   ]
  },
  {
   "cell_type": "code",
   "execution_count": 37,
   "id": "925e8861",
   "metadata": {},
   "outputs": [
    {
     "name": "stderr",
     "output_type": "stream",
     "text": [
      "C:\\Users\\sriva\\AppData\\Local\\Temp\\ipykernel_55356\\338539867.py:12: UserWarning: Boolean Series key will be reindexed to match DataFrame index.\n",
      "  people_with_tumour_stage_2_survived = tumour_stage_2[data[\"Status\"] == 0]\n",
      "C:\\Users\\sriva\\AppData\\Local\\Temp\\ipykernel_55356\\338539867.py:13: UserWarning: Boolean Series key will be reindexed to match DataFrame index.\n",
      "  people_with_tumour_stage_2_died = tumour_stage_2[data[\"Status\"] == 1]\n",
      "C:\\Users\\sriva\\AppData\\Local\\Temp\\ipykernel_55356\\338539867.py:14: UserWarning: Boolean Series key will be reindexed to match DataFrame index.\n",
      "  people_with_tumour_stage_3_survived = tumour_stage_3[data[\"Status\"] == 0]\n",
      "C:\\Users\\sriva\\AppData\\Local\\Temp\\ipykernel_55356\\338539867.py:15: UserWarning: Boolean Series key will be reindexed to match DataFrame index.\n",
      "  people_with_tumour_stage_3_died = tumour_stage_3[data[\"Status\"] == 1]\n",
      "C:\\Users\\sriva\\AppData\\Local\\Temp\\ipykernel_55356\\338539867.py:16: UserWarning: Boolean Series key will be reindexed to match DataFrame index.\n",
      "  people_with_tumour_stage_4_survived = tumour_stage_4[data[\"Status\"] == 0]\n",
      "C:\\Users\\sriva\\AppData\\Local\\Temp\\ipykernel_55356\\338539867.py:17: UserWarning: Boolean Series key will be reindexed to match DataFrame index.\n",
      "  people_with_tumour_stage_4_died = tumour_stage_4[data[\"Status\"] == 1]\n",
      "C:\\Users\\sriva\\AppData\\Local\\Temp\\ipykernel_55356\\338539867.py:18: UserWarning: Boolean Series key will be reindexed to match DataFrame index.\n",
      "  people_with_tumour_not_known_survived = tumour_not_known[data[\"Status\"] == 0]\n",
      "C:\\Users\\sriva\\AppData\\Local\\Temp\\ipykernel_55356\\338539867.py:19: UserWarning: Boolean Series key will be reindexed to match DataFrame index.\n",
      "  people_with_tumour_not_known_died = tumour_not_known[data[\"Status\"] == 1]\n",
      "C:\\Users\\sriva\\AppData\\Local\\Temp\\ipykernel_55356\\338539867.py:20: UserWarning: Boolean Series key will be reindexed to match DataFrame index.\n",
      "  missing_data_survived=missing_data[data[\"Status\"]==0]\n",
      "C:\\Users\\sriva\\AppData\\Local\\Temp\\ipykernel_55356\\338539867.py:21: UserWarning: Boolean Series key will be reindexed to match DataFrame index.\n",
      "  missing_data_died=missing_data[data[\"Status\"]==1]\n"
     ]
    }
   ],
   "source": [
    "#filling blank data with \"Missin_Data\"\n",
    "# Assign missing values as \"Missing_Data\"\n",
    "data['Tumour_stage_final'] = data['Tumour_stage_final'].fillna(\"Missing_Data\")\n",
    "\n",
    "######################\n",
    "missing_data = data[data[\"Tumour_stage_final\"] == \"Missing_Data\"]\n",
    "tumour_stage_2 = data[data[\"Tumour_stage_final\"] == \"Stage II\"]\n",
    "tumour_stage_3 = data[data[\"Tumour_stage_final\"] == \"Stage III\"]\n",
    "tumour_stage_4 = data[data[\"Tumour_stage_final\"] == \"Stage IV\"]\n",
    "tumour_not_known = data[data[\"Tumour_stage_final\"] == \"Not known\"]\n",
    "\n",
    "people_with_tumour_stage_2_survived = tumour_stage_2[data[\"Status\"] == 0]\n",
    "people_with_tumour_stage_2_died = tumour_stage_2[data[\"Status\"] == 1]\n",
    "people_with_tumour_stage_3_survived = tumour_stage_3[data[\"Status\"] == 0]\n",
    "people_with_tumour_stage_3_died = tumour_stage_3[data[\"Status\"] == 1]\n",
    "people_with_tumour_stage_4_survived = tumour_stage_4[data[\"Status\"] == 0]\n",
    "people_with_tumour_stage_4_died = tumour_stage_4[data[\"Status\"] == 1]\n",
    "people_with_tumour_not_known_survived = tumour_not_known[data[\"Status\"] == 0]\n",
    "people_with_tumour_not_known_died = tumour_not_known[data[\"Status\"] == 1]\n",
    "missing_data_survived=missing_data[data[\"Status\"]==0]\n",
    "missing_data_died=missing_data[data[\"Status\"]==1]\n"
   ]
  },
  {
   "cell_type": "code",
   "execution_count": 38,
   "id": "ad589d9a",
   "metadata": {},
   "outputs": [
    {
     "data": {
      "text/plain": [
       "Stage IV        273\n",
       "Stage III        55\n",
       "Missing_Data     41\n",
       "Not known        37\n",
       "Stage II         14\n",
       "Name: Tumour_stage_final, dtype: int64"
      ]
     },
     "execution_count": 38,
     "metadata": {},
     "output_type": "execute_result"
    }
   ],
   "source": [
    "data['Tumour_stage_final'].value_counts()"
   ]
  },
  {
   "cell_type": "code",
   "execution_count": null,
   "id": "05c1efc7",
   "metadata": {},
   "outputs": [],
   "source": [
    "'''\n",
    "labels = ['Stage 2 - Survived', 'Stage 2 - Not Survived', 'Stage 3- Survived', 'Stage 3 - Not Survived', 'Stage 4 - Survived', 'Stage 4 - Not Survived', 'Stage-Not Known - Survived', 'Stage-Not Known - Not Survived', 'Missing-Data-Survived', 'Missing-Data-Died']\n",
    "values = [len(people_with_tumour_stage_2_survived),len(people_with_tumour_stage_2_died), len(people_with_tumour_stage_3_survived),len(people_with_tumour_stage_3_died), len(people_with_tumour_stage_4_survived),len(people_with_tumour_stage_4_died),len(people_with_tumour_not_known_survived), len(people_with_tumour_not_known_died), len(missing_data_survived), len(missing_data_died) ]\n",
    "\n",
    "# Check if lengths match\n",
    "if len(labels) != len(values):\n",
    "    raise ValueError(\"The lengths of 'labels' and 'values' should be the same.\")\n",
    "\n",
    "\n",
    "# Create a pie chart\n",
    "plt.figure(figsize=(8, 8))\n",
    "plt.pie(values, labels=labels, autopct='%1.1f%%', startangle=140, colors=['green', 'red', 'blue', 'orange'])\n",
    "plt.axis('equal')  # Equal aspect ratio ensures that pie is drawn as a circle.\n",
    "plt.title(\"Survival Rate w.r.t Tumour Size\")\n",
    "\n",
    "# Display the pie chart\n",
    "plt.show()\n",
    "'''"
   ]
  },
  {
   "cell_type": "code",
   "execution_count": 39,
   "id": "184227af",
   "metadata": {},
   "outputs": [
    {
     "data": {
      "image/png": "[encoded data removed]",
      "text/plain": [
       "<Figure size 1000x600 with 1 Axes>"
      ]
     },
     "metadata": {},
     "output_type": "display_data"
    }
   ],
   "source": [
    "labels = ['Stage 2 - Survived', 'Stage 2 - Not Survived', 'Stage 3- Survived', 'Stage 3 - Not Survived', 'Stage 4 - Survived', 'Stage 4 - Not Survived', 'Stage-Not Known - Survived', 'Stage-Not Known - Not Survived', 'Missing-Data-Survived', 'Missing-Data-Died']\n",
    "values = [len(people_with_tumour_stage_2_survived),len(people_with_tumour_stage_2_died), len(people_with_tumour_stage_3_survived),len(people_with_tumour_stage_3_died), len(people_with_tumour_stage_4_survived),len(people_with_tumour_stage_4_died),len(people_with_tumour_not_known_survived), len(people_with_tumour_not_known_died), len(missing_data_survived), len(missing_data_died) ]\n",
    "\n",
    "# Check if lengths match\n",
    "if len(labels) != len(values):\n",
    "    raise ValueError(\"The lengths of 'labels' and 'values' should be the same.\")\n",
    "\n",
    "# Create a bar plot\n",
    "plt.figure(figsize=(10, 6))\n",
    "plt.barh(labels, values, color=['green', 'red', 'blue', 'orange', 'green', 'red', 'blue', 'orange', 'green', 'red'])\n",
    "plt.xlabel('Number of Cases')\n",
    "plt.title(\"Survival Rate w.r.t Tumour Stage\")\n",
    "plt.gca().invert_yaxis()  # Invert y-axis to have the highest stage at the top\n",
    "\n",
    "# Display the bar plot\n",
    "plt.show()\n"
   ]
  },
  {
   "cell_type": "markdown",
   "id": "cb3e412d",
   "metadata": {},
   "source": [
    "**None of the Patients survived regardless of Tumour's final stage**"
   ]
  },
  {
   "cell_type": "markdown",
   "id": "0b858e9c",
   "metadata": {},
   "source": [
    "### KAPLAN-MEIER Survival Curve "
   ]
  },
  {
   "cell_type": "code",
   "execution_count": 40,
   "id": "0f4b7a53",
   "metadata": {},
   "outputs": [],
   "source": [
    "#!pip install lifelines\n",
    "#!pip install scikit-survival"
   ]
  },
  {
   "cell_type": "code",
   "execution_count": 41,
   "id": "bca12a3f",
   "metadata": {},
   "outputs": [
    {
     "data": {
      "text/plain": [
       "Index(['MR_NO', 'Comorbidities_final', 'Thyroidism', 'Diabetes', 'HTN',\n",
       "       'Family_cancer_history', 'ECOG_final', 'Gall_stone_final', 'Pathology',\n",
       "       'Tumour_grade_final', 'Cancer_presentation_final', 'Tumour_stage_final',\n",
       "       'TNM_classification', 'Metastasis_final', 'Site_metastasis',\n",
       "       'Mets_site_final', 'Cholecystectomy_TMC', 'Outside_cholecystectomy',\n",
       "       'Surgery_final', 'Treatment_final', 'Treatment_clean', 'Treatment',\n",
       "       'Status', 'Date_event', 'Date_diagnosis', 'AGE', 'GENDER', 'COUNTRY',\n",
       "       'STATE_NAME', 'CITY_NAME', 'PINCODE', 'First_Visit_Date', 'HEIGHT',\n",
       "       'WEIGHT', 'BSA_DETAILS', 'BMI_DETAILS', 'BILIRUBIN CONJUGATED',\n",
       "       'BILIRUBIN UNCONJUGATED', 'BILIRUBIN TOTAL', 'AST - SGOT', 'ALT - SGPT',\n",
       "       'ALK PHOS [ALP]', 'GAMMA GT', 'ALBUMIN', 'CREATININE_from_UnC_test',\n",
       "       'UREA_from_UnC_test', 'ESTIMATED AVERAGE GLUCOSE (eAG)', 'HbA1c',\n",
       "       'CREATININE_from_CREATININE_test', 'Diabetes_final',\n",
       "       'Time_overall_months'],\n",
       "      dtype='object')"
      ]
     },
     "execution_count": 41,
     "metadata": {},
     "output_type": "execute_result"
    }
   ],
   "source": [
    "data.columns"
   ]
  },
  {
   "cell_type": "code",
   "execution_count": 42,
   "id": "aaff9bf7",
   "metadata": {},
   "outputs": [
    {
     "data": {
      "text/plain": [
       "(420, 51)"
      ]
     },
     "execution_count": 42,
     "metadata": {},
     "output_type": "execute_result"
    }
   ],
   "source": [
    "data.shape"
   ]
  },
  {
   "cell_type": "code",
   "execution_count": 48,
   "id": "bd08e8ae",
   "metadata": {},
   "outputs": [
    {
     "name": "stdout",
     "output_type": "stream",
     "text": [
      "           removed  observed  censored  entrance  at_risk\n",
      "event_at                                                 \n",
      "0.000000         1         1         0       420      420\n",
      "0.032855         1         1         0         0      419\n",
      "0.065710         2         2         0         0      418\n",
      "0.098565         1         1         0         0      416\n",
      "0.131420         1         1         0         0      415\n",
      "...            ...       ...       ...       ...      ...\n",
      "38.505924        1         1         0         0        5\n",
      "40.772911        1         1         0         0        4\n",
      "42.448510        1         1         0         0        3\n",
      "47.113904        1         1         0         0        2\n",
      "49.216616        1         1         0         0        1\n",
      "\n",
      "[315 rows x 5 columns]\n"
     ]
    },
    {
     "data": {
      "image/png": "[encoded data removed]",
      "text/plain": [
       "<Figure size 640x480 with 1 Axes>"
      ]
     },
     "metadata": {},
     "output_type": "display_data"
    }
   ],
   "source": [
    "from lifelines import KaplanMeierFitter\n",
    "#data\n",
    "df = data\n",
    "# Initialize KaplanMeierFitter\n",
    "kmf = KaplanMeierFitter()\n",
    "\n",
    "# Fit the Kaplan-Meier estimator\n",
    "kmf.fit(df['Time_overall_months'], event_observed=df['Status'])\n",
    "\n",
    "# Create a new figure and axes\n",
    "fig, ax = plt.subplots()\n",
    "\n",
    "# Plot the Kaplan-Meier survival curve\n",
    "kmf.plot(ax=ax)\n",
    "\n",
    "# Plot censored points\n",
    "censored_data = df[df['Status'] == 0]\n",
    "ax.scatter(censored_data['Time_overall_months'], kmf.predict(censored_data['Time_overall_months']),\n",
    "           label='Censored', c='red', marker='x')\n",
    "\n",
    "# Display the risk data table\n",
    "risk_table = kmf.event_table\n",
    "print(risk_table)\n",
    "\n",
    "# Customize the plot\n",
    "plt.title(\"Kaplan-Meier Survival Curve\")\n",
    "plt.xlabel(\"Time\")\n",
    "plt.ylabel(\"Survival Probability\")\n",
    "plt.legend()\n",
    "plt.show()"
   ]
  },
  {
   "cell_type": "code",
   "execution_count": 49,
   "id": "03ed87e8",
   "metadata": {},
   "outputs": [
    {
     "data": {
      "text/plain": [
       "<lifelines.KaplanMeierFitter:\"KM_estimate\", fitted with 420 total observations, 1 right-censored observations>"
      ]
     },
     "execution_count": 49,
     "metadata": {},
     "output_type": "execute_result"
    }
   ],
   "source": [
    "T = data[\"Time_overall_months\"]\n",
    "E = data[\"Status\"]\n",
    "\n",
    "kmf.fit(T, event_observed=E)"
   ]
  },
  {
   "cell_type": "code",
   "execution_count": 50,
   "id": "b514e9c0",
   "metadata": {},
   "outputs": [
    {
     "data": {
      "image/png": "[encoded data removed]",
      "text/plain": [
       "<Figure size 640x480 with 2 Axes>"
      ]
     },
     "metadata": {},
     "output_type": "display_data"
    }
   ],
   "source": [
    "kmf = KaplanMeierFitter().fit(T, E)\n",
    "kmf.plot_survival_function(at_risk_counts=True)\n",
    "plt.tight_layout()"
   ]
  },
  {
   "cell_type": "code",
   "execution_count": 51,
   "id": "a79bdcd0",
   "metadata": {},
   "outputs": [
    {
     "data": {
      "text/plain": [
       "7.06380007803035"
      ]
     },
     "execution_count": 51,
     "metadata": {},
     "output_type": "execute_result"
    }
   ],
   "source": [
    "#Median time of survival\n",
    "kmf.median_survival_time_\n"
   ]
  },
  {
   "cell_type": "markdown",
   "id": "56cb2d5e",
   "metadata": {},
   "source": [
    "**Median survival time in months for 338 patients under our study = 6.14 months**"
   ]
  },
  {
   "cell_type": "code",
   "execution_count": 52,
   "id": "c7a14919",
   "metadata": {},
   "outputs": [
    {
     "data": {
      "text/html": [
       "<div>\n",
       "<style scoped>\n",
       "    .dataframe tbody tr th:only-of-type {\n",
       "        vertical-align: middle;\n",
       "    }\n",
       "\n",
       "    .dataframe tbody tr th {\n",
       "        vertical-align: top;\n",
       "    }\n",
       "\n",
       "    .dataframe thead th {\n",
       "        text-align: right;\n",
       "    }\n",
       "</style>\n",
       "<table border=\"1\" class=\"dataframe\">\n",
       "  <thead>\n",
       "    <tr style=\"text-align: right;\">\n",
       "      <th></th>\n",
       "      <th>KM_estimate_lower_0.95</th>\n",
       "      <th>KM_estimate_upper_0.95</th>\n",
       "    </tr>\n",
       "  </thead>\n",
       "  <tbody>\n",
       "    <tr>\n",
       "      <th>0.5</th>\n",
       "      <td>6.340993</td>\n",
       "      <td>8.148011</td>\n",
       "    </tr>\n",
       "  </tbody>\n",
       "</table>\n",
       "</div>"
      ],
      "text/plain": [
       "     KM_estimate_lower_0.95  KM_estimate_upper_0.95\n",
       "0.5                6.340993                8.148011"
      ]
     },
     "execution_count": 52,
     "metadata": {},
     "output_type": "execute_result"
    }
   ],
   "source": [
    "from lifelines.utils import median_survival_times\n",
    "median_ci = median_survival_times(kmf.confidence_interval_)\n",
    "median_ci"
   ]
  },
  {
   "cell_type": "markdown",
   "id": "46ec3a00",
   "metadata": {},
   "source": [
    "**95% confidence interval for overall cohort = 5.256781 to 6.932381 months**"
   ]
  },
  {
   "cell_type": "markdown",
   "id": "daa61710",
   "metadata": {},
   "source": [
    "### Survival Curve based on Stages of Tumour"
   ]
  },
  {
   "cell_type": "code",
   "execution_count": 53,
   "id": "f3319435",
   "metadata": {},
   "outputs": [
    {
     "data": {
      "text/plain": [
       "Stage IV        273\n",
       "Stage III        55\n",
       "Missing_Data     41\n",
       "Not known        37\n",
       "Stage II         14\n",
       "Name: Tumour_stage_final, dtype: int64"
      ]
     },
     "execution_count": 53,
     "metadata": {},
     "output_type": "execute_result"
    }
   ],
   "source": [
    "data[\"Tumour_stage_final\"].value_counts()"
   ]
  },
  {
   "cell_type": "code",
   "execution_count": 54,
   "id": "4713e6cf",
   "metadata": {},
   "outputs": [
    {
     "name": "stdout",
     "output_type": "stream",
     "text": [
      "Median survival time for Stage IV: 6.28 months\n",
      "Median survival time for Stage II: 13.34 months\n",
      "Median survival time for Not known: 9.07 months\n",
      "Median survival time for Stage III: 9.69 months\n",
      "Median survival time for Missing_Data: 6.51 months\n"
     ]
    },
    {
     "data": {
      "image/png": "[encoded data removed]",
      "text/plain": [
       "<Figure size 640x480 with 1 Axes>"
      ]
     },
     "metadata": {},
     "output_type": "display_data"
    }
   ],
   "source": [
    "import pandas as pd\n",
    "import matplotlib.pyplot as plt\n",
    "from lifelines import KaplanMeierFitter\n",
    "\n",
    "# data\n",
    "df = data[[\"Tumour_stage_final\", \"Status\", \"Time_overall_months\"]]\n",
    "\n",
    "# Perform Kaplan-Meier survival analysis for each category\n",
    "kmf = KaplanMeierFitter()\n",
    "\n",
    "for category in df[\"Tumour_stage_final\"].unique():\n",
    "    subset = df[df[\"Tumour_stage_final\"] == category]\n",
    "    kmf.fit(subset[\"Time_overall_months\"], event_observed=subset[\"Status\"], label=category)\n",
    "    \n",
    "    # Plot the Kaplan-Meier curve\n",
    "    kmf.plot()\n",
    "    \n",
    "    # Calculate and print median survival time\n",
    "    median_survival_time = kmf.median_survival_time_\n",
    "    print(f\"Median survival time for {category}: {median_survival_time:.2f} months\")\n",
    "\n",
    "# Add title and labels to the plot\n",
    "plt.title(\"Kaplan-Meier Survival Analysis by Tumour Stage\")\n",
    "plt.xlabel(\"Time (months)\")\n",
    "plt.ylabel(\"Survival Probability\")\n",
    "plt.legend()\n",
    "\n",
    "# Show the plot\n",
    "plt.show()\n"
   ]
  },
  {
   "cell_type": "markdown",
   "id": "c6ec1b3a",
   "metadata": {},
   "source": [
    "### Survival Curve based on Surgery Type"
   ]
  },
  {
   "cell_type": "code",
   "execution_count": 55,
   "id": "0eaafee8",
   "metadata": {},
   "outputs": [
    {
     "name": "stdout",
     "output_type": "stream",
     "text": [
      "<class 'pandas.core.frame.DataFrame'>\n",
      "Int64Index: 420 entries, 0 to 695\n",
      "Data columns (total 51 columns):\n",
      " #   Column                           Non-Null Count  Dtype         \n",
      "---  ------                           --------------  -----         \n",
      " 0   MR_NO                            420 non-null    object        \n",
      " 1   Comorbidities_final              346 non-null    object        \n",
      " 2   Thyroidism                       401 non-null    object        \n",
      " 3   Diabetes                         403 non-null    object        \n",
      " 4   HTN                              403 non-null    object        \n",
      " 5   Family_cancer_history            401 non-null    object        \n",
      " 6   ECOG_final                       404 non-null    object        \n",
      " 7   Gall_stone_final                 402 non-null    object        \n",
      " 8   Pathology                        420 non-null    object        \n",
      " 9   Tumour_grade_final               398 non-null    object        \n",
      " 10  Cancer_presentation_final        395 non-null    object        \n",
      " 11  Tumour_stage_final               420 non-null    object        \n",
      " 12  TNM_classification               377 non-null    object        \n",
      " 13  Metastasis_final                 393 non-null    object        \n",
      " 14  Site_metastasis                  340 non-null    object        \n",
      " 15  Mets_site_final                  392 non-null    object        \n",
      " 16  Cholecystectomy_TMC              292 non-null    object        \n",
      " 17  Outside_cholecystectomy          401 non-null    object        \n",
      " 18  Surgery_final                    404 non-null    object        \n",
      " 19  Treatment_final                  389 non-null    object        \n",
      " 20  Treatment_clean                  386 non-null    object        \n",
      " 21  Treatment                        386 non-null    object        \n",
      " 22  Status                           420 non-null    bool          \n",
      " 23  Date_event                       420 non-null    datetime64[ns]\n",
      " 24  Date_diagnosis                   420 non-null    datetime64[ns]\n",
      " 25  AGE                              420 non-null    int64         \n",
      " 26  GENDER                           420 non-null    object        \n",
      " 27  COUNTRY                          420 non-null    object        \n",
      " 28  STATE_NAME                       420 non-null    object        \n",
      " 29  CITY_NAME                        420 non-null    object        \n",
      " 30  PINCODE                          412 non-null    float64       \n",
      " 31  First_Visit_Date                 346 non-null    datetime64[ns]\n",
      " 32  HEIGHT                           346 non-null    float64       \n",
      " 33  WEIGHT                           346 non-null    float64       \n",
      " 34  BSA_DETAILS                      346 non-null    float64       \n",
      " 35  BMI_DETAILS                      346 non-null    float64       \n",
      " 36  BILIRUBIN CONJUGATED             269 non-null    float64       \n",
      " 37  BILIRUBIN UNCONJUGATED           269 non-null    float64       \n",
      " 38  BILIRUBIN TOTAL                  269 non-null    float64       \n",
      " 39  AST - SGOT                       269 non-null    float64       \n",
      " 40  ALT - SGPT                       268 non-null    float64       \n",
      " 41  ALK PHOS [ALP]                   269 non-null    float64       \n",
      " 42  GAMMA GT                         268 non-null    float64       \n",
      " 43  ALBUMIN                          269 non-null    float64       \n",
      " 44  CREATININE_from_UnC_test         13 non-null     float64       \n",
      " 45  UREA_from_UnC_test               13 non-null     float64       \n",
      " 46  ESTIMATED AVERAGE GLUCOSE (eAG)  47 non-null     float64       \n",
      " 47  HbA1c                            47 non-null     float64       \n",
      " 48  CREATININE_from_CREATININE_test  115 non-null    float64       \n",
      " 49  Diabetes_final                   403 non-null    object        \n",
      " 50  Time_overall_months              420 non-null    float64       \n",
      "dtypes: bool(1), datetime64[ns](3), float64(19), int64(1), object(27)\n",
      "memory usage: 183.9+ KB\n"
     ]
    }
   ],
   "source": [
    "data.info()"
   ]
  },
  {
   "cell_type": "code",
   "execution_count": 56,
   "id": "768ad94f",
   "metadata": {},
   "outputs": [
    {
     "data": {
      "text/plain": [
       "Surgery_final\n",
       "No               249\n",
       "Simple           109\n",
       "Radical           43\n",
       "Partial            3\n",
       "dtype: int64"
      ]
     },
     "execution_count": 56,
     "metadata": {},
     "output_type": "execute_result"
    }
   ],
   "source": [
    "data[[\"Surgery_final\"]].value_counts()"
   ]
  },
  {
   "cell_type": "code",
   "execution_count": 57,
   "id": "60675c35",
   "metadata": {},
   "outputs": [
    {
     "ename": "ImportError",
     "evalue": "cannot import name 'survival_table_from_events' from 'lifelines.statistics' (C:\\Users\\sriva\\ANACONDA\\lib\\site-packages\\lifelines\\statistics.py)",
     "output_type": "error",
     "traceback": [
      "\u001b[1;31m---------------------------------------------------------------------------\u001b[0m",
      "\u001b[1;31mImportError\u001b[0m                               Traceback (most recent call last)",
      "Cell \u001b[1;32mIn[57], line 4\u001b[0m\n\u001b[0;32m      2\u001b[0m \u001b[38;5;28;01mimport\u001b[39;00m \u001b[38;5;21;01mmatplotlib\u001b[39;00m\u001b[38;5;21;01m.\u001b[39;00m\u001b[38;5;21;01mpyplot\u001b[39;00m \u001b[38;5;28;01mas\u001b[39;00m \u001b[38;5;21;01mplt\u001b[39;00m\n\u001b[0;32m      3\u001b[0m \u001b[38;5;28;01mfrom\u001b[39;00m \u001b[38;5;21;01mlifelines\u001b[39;00m \u001b[38;5;28;01mimport\u001b[39;00m KaplanMeierFitter\n\u001b[1;32m----> 4\u001b[0m \u001b[38;5;28;01mfrom\u001b[39;00m \u001b[38;5;21;01mlifelines\u001b[39;00m\u001b[38;5;21;01m.\u001b[39;00m\u001b[38;5;21;01mstatistics\u001b[39;00m \u001b[38;5;28;01mimport\u001b[39;00m survival_table_from_events\n\u001b[0;32m      7\u001b[0m \u001b[38;5;66;03m# data\u001b[39;00m\n\u001b[0;32m      8\u001b[0m df \u001b[38;5;241m=\u001b[39m data[[\u001b[38;5;124m\"\u001b[39m\u001b[38;5;124mSurgery_final\u001b[39m\u001b[38;5;124m\"\u001b[39m, \u001b[38;5;124m\"\u001b[39m\u001b[38;5;124mStatus\u001b[39m\u001b[38;5;124m\"\u001b[39m, \u001b[38;5;124m\"\u001b[39m\u001b[38;5;124mTime_overall_months\u001b[39m\u001b[38;5;124m\"\u001b[39m]]\n",
      "\u001b[1;31mImportError\u001b[0m: cannot import name 'survival_table_from_events' from 'lifelines.statistics' (C:\\Users\\sriva\\ANACONDA\\lib\\site-packages\\lifelines\\statistics.py)"
     ]
    }
   ],
   "source": [
    "import pandas as pd\n",
    "import matplotlib.pyplot as plt\n",
    "from lifelines import KaplanMeierFitter\n",
    "from lifelines.statistics import survival_table_from_events\n",
    "\n",
    "\n",
    "# data\n",
    "df = data[[\"Surgery_final\", \"Status\", \"Time_overall_months\"]]\n",
    "df[[\"Status\"]]=df[[\"Status\"]].astype(bool)\n",
    "# Remove empty strings from the Time_overall_months column\n",
    "df = df.dropna(subset=[\"Time_overall_months\"])\n",
    "\n",
    "# Perform Kaplan-Meier survival analysis for each category\n",
    "kmf = KaplanMeierFitter()\n",
    "\n",
    "for category in df[\"Surgery_final\"].unique():\n",
    "    subset = df[df[\"Surgery_final\"] == category]\n",
    "    kmf.fit(subset[\"Time_overall_months\"], event_observed=subset[\"Status\"], label=category)\n",
    "    \n",
    "    # Plot the Kaplan-Meier curve\n",
    "    kmf.plot()\n",
    "    \n",
    "    # Calculate and print median survival time\n",
    "    median_survival_time = kmf.median_survival_time_\n",
    "    print(f\"Median survival time for {category}: {median_survival_time:.2f} months\")\n",
    "\n",
    "# Add title and labels to the plot\n",
    "plt.title(\"Kaplan-Meier Survival Analysis by Surgery\")\n",
    "plt.xlabel(\"Time (months)\")\n",
    "plt.ylabel(\"Survival Probability\")\n",
    "plt.legend()\n",
    "\n",
    "# Show the plot\n",
    "plt.show()\n"
   ]
  },
  {
   "cell_type": "code",
   "execution_count": null,
   "id": "10be57dc",
   "metadata": {},
   "outputs": [],
   "source": [
    "# Calculate median survival time\n",
    "median_survival_time = np.interp(0.5, 1 - survival_prob_treatment, time_in_months)\n",
    "print(f\"Median survival time for Surgery_Type = {surgery_type}: {median_survival_time:.2f} months\")"
   ]
  },
  {
   "cell_type": "code",
   "execution_count": null,
   "id": "a452ed1d",
   "metadata": {},
   "outputs": [],
   "source": [
    "import pandas as pd\n",
    "import matplotlib.pyplot as plt\n",
    "import numpy as np\n",
    "\n",
    "%matplotlib inline\n",
    "\n",
    "from sklearn import set_config\n",
    "from sklearn.model_selection import train_test_split\n",
    "from sklearn.preprocessing import OrdinalEncoder\n",
    "\n",
    "from sksurv.datasets import load_gbsg2\n",
    "from sksurv.preprocessing import OneHotEncoder\n",
    "from sksurv.ensemble import RandomSurvivalForest\n",
    "\n",
    "set_config(display=\"text\")  # displays text representation of estimators"
   ]
  },
  {
   "cell_type": "code",
   "execution_count": null,
   "id": "8d7d6abc",
   "metadata": {},
   "outputs": [],
   "source": [
    "X, y = load_gbsg2()\n",
    "\n",
    "grade_str = X.loc[:, \"tgrade\"].astype(object).values[:, np.newaxis]\n",
    "grade_num = OrdinalEncoder(categories=[[\"I\", \"II\", \"III\"]]).fit_transform(grade_str)\n",
    "\n",
    "X_no_grade = X.drop(\"tgrade\", axis=1)\n",
    "Xt = OneHotEncoder().fit_transform(X_no_grade)\n",
    "Xt.loc[:, \"tgrade\"] = grade_num\n"
   ]
  },
  {
   "cell_type": "code",
   "execution_count": null,
   "id": "af957178",
   "metadata": {},
   "outputs": [],
   "source": [
    "X"
   ]
  },
  {
   "cell_type": "code",
   "execution_count": null,
   "id": "45ac64e5",
   "metadata": {},
   "outputs": [],
   "source": [
    "y"
   ]
  },
  {
   "cell_type": "code",
   "execution_count": null,
   "id": "f5ed89dd",
   "metadata": {},
   "outputs": [],
   "source": [
    "grade_str"
   ]
  },
  {
   "cell_type": "code",
   "execution_count": null,
   "id": "cc6e536a",
   "metadata": {},
   "outputs": [],
   "source": []
  }
 ],
 "metadata": {
  "kernelspec": {
   "display_name": "Python 3 (ipykernel)",
   "language": "python",
   "name": "python3"
  },
  "language_info": {
   "codemirror_mode": {
    "name": "ipython",
    "version": 3
   },
   "file_extension": ".py",
   "mimetype": "text/x-python",
   "name": "python",
   "nbconvert_exporter": "python",
   "pygments_lexer": "ipython3",
   "version": "3.10.9"
  }
 },
 "nbformat": 4,
 "nbformat_minor": 5
}
